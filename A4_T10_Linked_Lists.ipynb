{
 "cells": [
  {
   "cell_type": "markdown",
   "metadata": {},
   "source": [
    "### Instructions:\n",
    "\n",
    "- You can attempt any number of questions and in any order.  \n",
    "  See the assignment page for a description of the hurdle requirement for this assessment.\n",
    "- You may submit your practical for autograding as many times as you like to check on progress, however you will save time by checking and testing your own code before submitting.\n",
    "- Develop and check your answers in the spaces provided.\n",
    "- **Replace** the code `raise NotImplementedError()` with your solution to the question.\n",
    "- Do **NOT** remove any variables other provided markings already provided in the answer spaces.\n",
    "- Do **NOT** make any changes to this notebook outside of the spaces indicated.  \n",
    "  (If you do this, the submission system might not accept your work)\n",
    "\n",
    "### Submitting:\n",
    "\n",
    "1. Before you turn this problem in, make sure everything runs as expected by resetting this notebook.    \n",
    "   (You can do this from the menubar above by selecting `Kernel`&#8594;`Restart Kernel and Run All Cells...`)\n",
    "1. Don't forget to save your notebook after this step.\n",
    "1. Submit your .ipynb file to Gradescope via file upload or GitHub repository.\n",
    "1. You can submit as many times as needed.\n",
    "1. You **must** give your submitted file the **identical** filename to that which you downloaded without changing **any** aspects - spaces, underscores, capitalisation etc. If your operating system has changed the filename because you downloaded the file twice or more you **must** also fix this.  \n",
    "\n"
   ]
  },
  {
   "cell_type": "markdown",
   "metadata": {},
   "source": [
    "---"
   ]
  },
  {
   "cell_type": "markdown",
   "metadata": {},
   "source": [
    "# <mark style=\"background: #a48752; color: #ffffff;\" >&nbsp;A4&nbsp;</mark> Topic 10: Linked Lists\n",
    "\n",
    "## Please Note! ##\n",
    "The following questions assume that you are implementing object oriented versions of singly and doubly linked lists with specified class names `LinkedList` and `DoublyLinkedList`. You are free to use the online learning content from MyUni as a basis for these clasees. The questions are structured such that you add methods and/or attributes to these base classes by inheriting the class from the previous question (where appropriate).\n",
    "\n",
    "Please note that doubly linked lists are not examinable in the Section Test. This practical is structured such that you can obtain the necessary 50% mark by completing the singly linked list questions. The doubly linked list questions are available for those students who wish to deepen their understanding."
   ]
  },
  {
   "cell_type": "markdown",
   "metadata": {},
   "source": [
    "#### Question 1&nbsp;&nbsp;&nbsp;&nbsp;&nbsp;&nbsp;(10 Points)\n",
    "Write a class representing a singly linked list (`LinkedList`) with at least two methods `traverse` and `append_item`:\n",
    "\n",
    "```python\n",
    "class LinkedList:\n",
    "    def __init__(self):\n",
    "        \"\"\"\n",
    "        Initialises an empty linked list\n",
    "        \"\"\"\n",
    "        \n",
    "    def traverse(self):\n",
    "        \"\"\"\n",
    "        Returns a list object of all items in the list preserving order of addition.\n",
    "        \"\"\"\n",
    "        \n",
    "    def append_item(self, data):\n",
    "        \"\"\"\n",
    "        Appends the data to the tail of the linked list.\n",
    "        \"\"\"\n",
    "```\n",
    "Create an instance of the class named `q1_ll` and append the following integers in order:  \n",
    "- 12\n",
    "- 20\n",
    "- 19\n",
    "- 42\n",
    "\n",
    "Iterate through the list using `traverse` method and return the items in the linked list as a list to check if the values are properly inserted.\n",
    "\n",
    "Expected output:\n",
    "```python\n",
    "    assert q1_ll.traverse() == [12, 20, 19, 42]\n",
    "```"
   ]
  },
  {
   "cell_type": "code",
   "execution_count": 1,
   "metadata": {
    "ExecuteTime": {
     "end_time": "2022-03-28T08:13:13.775211Z",
     "start_time": "2022-03-28T08:13:13.754711Z"
    },
    "deletable": false,
    "nbgrader": {
     "cell_type": "code",
     "checksum": "811891f82086cfdb69f74626b817fbe1",
     "grade": false,
     "grade_id": "A1",
     "locked": false,
     "schema_version": 3,
     "solution": true,
     "task": false
    }
   },
   "outputs": [
    {
     "ename": "KeyboardInterrupt",
     "evalue": "",
     "output_type": "error",
     "traceback": [
      "\u001b[1;31m---------------------------------------------------------------------------\u001b[0m",
      "\u001b[1;31mKeyboardInterrupt\u001b[0m                         Traceback (most recent call last)",
      "Cell \u001b[1;32mIn[1], line 10\u001b[0m\n\u001b[0;32m      7\u001b[0m         \u001b[38;5;28mself\u001b[39m\u001b[38;5;241m.\u001b[39mnext \u001b[38;5;241m=\u001b[39m \u001b[38;5;28;01mNone\u001b[39;00m\n\u001b[0;32m      8\u001b[0m         \u001b[38;5;28mself\u001b[39m\u001b[38;5;241m.\u001b[39mprev \u001b[38;5;241m=\u001b[39m \u001b[38;5;28;01mNone\u001b[39;00m\n\u001b[1;32m---> 10\u001b[0m \u001b[38;5;28;01mclass\u001b[39;00m \u001b[38;5;21;01mLinkedList\u001b[39;00m:\n\u001b[0;32m     12\u001b[0m     \u001b[38;5;28;01mdef\u001b[39;00m \u001b[38;5;21m__init__\u001b[39m(\u001b[38;5;28mself\u001b[39m) \u001b[38;5;241m-\u001b[39m\u001b[38;5;241m>\u001b[39m \u001b[38;5;28;01mNone\u001b[39;00m:\n\u001b[0;32m     13\u001b[0m         \u001b[38;5;28mself\u001b[39m\u001b[38;5;241m.\u001b[39mhead \u001b[38;5;241m=\u001b[39m Node(\u001b[38;5;28;01mNone\u001b[39;00m)\n",
      "Cell \u001b[1;32mIn[1], line 12\u001b[0m, in \u001b[0;36mLinkedList\u001b[1;34m()\u001b[0m\n\u001b[0;32m     10\u001b[0m \u001b[38;5;28;01mclass\u001b[39;00m \u001b[38;5;21;01mLinkedList\u001b[39;00m:\n\u001b[1;32m---> 12\u001b[0m     \u001b[38;5;28;01mdef\u001b[39;00m \u001b[38;5;21m__init__\u001b[39m(\u001b[38;5;28mself\u001b[39m) \u001b[38;5;241m-\u001b[39m\u001b[38;5;241m>\u001b[39m \u001b[38;5;28;01mNone\u001b[39;00m:\n\u001b[0;32m     13\u001b[0m         \u001b[38;5;28mself\u001b[39m\u001b[38;5;241m.\u001b[39mhead \u001b[38;5;241m=\u001b[39m Node(\u001b[38;5;28;01mNone\u001b[39;00m)\n\u001b[0;32m     15\u001b[0m     \u001b[38;5;28;01mdef\u001b[39;00m \u001b[38;5;21mappend_item\u001b[39m(\u001b[38;5;28mself\u001b[39m,data) \u001b[38;5;241m-\u001b[39m\u001b[38;5;241m>\u001b[39m \u001b[38;5;28;01mNone\u001b[39;00m:\n",
      "Cell \u001b[1;32mIn[1], line 12\u001b[0m, in \u001b[0;36mLinkedList\u001b[1;34m()\u001b[0m\n\u001b[0;32m     10\u001b[0m \u001b[38;5;28;01mclass\u001b[39;00m \u001b[38;5;21;01mLinkedList\u001b[39;00m:\n\u001b[1;32m---> 12\u001b[0m     \u001b[38;5;28;01mdef\u001b[39;00m \u001b[38;5;21m__init__\u001b[39m(\u001b[38;5;28mself\u001b[39m) \u001b[38;5;241m-\u001b[39m\u001b[38;5;241m>\u001b[39m \u001b[38;5;28;01mNone\u001b[39;00m:\n\u001b[0;32m     13\u001b[0m         \u001b[38;5;28mself\u001b[39m\u001b[38;5;241m.\u001b[39mhead \u001b[38;5;241m=\u001b[39m Node(\u001b[38;5;28;01mNone\u001b[39;00m)\n\u001b[0;32m     15\u001b[0m     \u001b[38;5;28;01mdef\u001b[39;00m \u001b[38;5;21mappend_item\u001b[39m(\u001b[38;5;28mself\u001b[39m,data) \u001b[38;5;241m-\u001b[39m\u001b[38;5;241m>\u001b[39m \u001b[38;5;28;01mNone\u001b[39;00m:\n",
      "File \u001b[1;32m_pydevd_bundle/pydevd_cython.pyx:1457\u001b[0m, in \u001b[0;36m_pydevd_bundle.pydevd_cython.SafeCallWrapper.__call__\u001b[1;34m()\u001b[0m\n",
      "File \u001b[1;32m_pydevd_bundle/pydevd_cython.pyx:701\u001b[0m, in \u001b[0;36m_pydevd_bundle.pydevd_cython.PyDBFrame.trace_dispatch\u001b[1;34m()\u001b[0m\n",
      "File \u001b[1;32m_pydevd_bundle/pydevd_cython.pyx:1152\u001b[0m, in \u001b[0;36m_pydevd_bundle.pydevd_cython.PyDBFrame.trace_dispatch\u001b[1;34m()\u001b[0m\n",
      "File \u001b[1;32m_pydevd_bundle/pydevd_cython.pyx:1135\u001b[0m, in \u001b[0;36m_pydevd_bundle.pydevd_cython.PyDBFrame.trace_dispatch\u001b[1;34m()\u001b[0m\n",
      "File \u001b[1;32m_pydevd_bundle/pydevd_cython.pyx:312\u001b[0m, in \u001b[0;36m_pydevd_bundle.pydevd_cython.PyDBFrame.do_wait_suspend\u001b[1;34m()\u001b[0m\n",
      "File \u001b[1;32m~\\AppData\\Roaming\\Python\\Python310\\site-packages\\debugpy\\_vendored\\pydevd\\pydevd.py:2070\u001b[0m, in \u001b[0;36mPyDB.do_wait_suspend\u001b[1;34m(self, thread, frame, event, arg, exception_type)\u001b[0m\n\u001b[0;32m   2067\u001b[0m             from_this_thread\u001b[38;5;241m.\u001b[39mappend(frame_custom_thread_id)\n\u001b[0;32m   2069\u001b[0m     \u001b[38;5;28;01mwith\u001b[39;00m \u001b[38;5;28mself\u001b[39m\u001b[38;5;241m.\u001b[39m_threads_suspended_single_notification\u001b[38;5;241m.\u001b[39mnotify_thread_suspended(thread_id, thread, stop_reason):\n\u001b[1;32m-> 2070\u001b[0m         keep_suspended \u001b[38;5;241m=\u001b[39m \u001b[38;5;28;43mself\u001b[39;49m\u001b[38;5;241;43m.\u001b[39;49m\u001b[43m_do_wait_suspend\u001b[49m\u001b[43m(\u001b[49m\u001b[43mthread\u001b[49m\u001b[43m,\u001b[49m\u001b[43m \u001b[49m\u001b[43mframe\u001b[49m\u001b[43m,\u001b[49m\u001b[43m \u001b[49m\u001b[43mevent\u001b[49m\u001b[43m,\u001b[49m\u001b[43m \u001b[49m\u001b[43marg\u001b[49m\u001b[43m,\u001b[49m\u001b[43m \u001b[49m\u001b[43msuspend_type\u001b[49m\u001b[43m,\u001b[49m\u001b[43m \u001b[49m\u001b[43mfrom_this_thread\u001b[49m\u001b[43m,\u001b[49m\u001b[43m \u001b[49m\u001b[43mframes_tracker\u001b[49m\u001b[43m)\u001b[49m\n\u001b[0;32m   2072\u001b[0m frames_list \u001b[38;5;241m=\u001b[39m \u001b[38;5;28;01mNone\u001b[39;00m\n\u001b[0;32m   2074\u001b[0m \u001b[38;5;28;01mif\u001b[39;00m keep_suspended:\n\u001b[0;32m   2075\u001b[0m     \u001b[38;5;66;03m# This means that we should pause again after a set next statement.\u001b[39;00m\n",
      "File \u001b[1;32m~\\AppData\\Roaming\\Python\\Python310\\site-packages\\debugpy\\_vendored\\pydevd\\pydevd.py:2106\u001b[0m, in \u001b[0;36mPyDB._do_wait_suspend\u001b[1;34m(self, thread, frame, event, arg, suspend_type, from_this_thread, frames_tracker)\u001b[0m\n\u001b[0;32m   2103\u001b[0m         \u001b[38;5;28mself\u001b[39m\u001b[38;5;241m.\u001b[39m_call_input_hook()\n\u001b[0;32m   2105\u001b[0m     \u001b[38;5;28mself\u001b[39m\u001b[38;5;241m.\u001b[39mprocess_internal_commands()\n\u001b[1;32m-> 2106\u001b[0m     \u001b[43mtime\u001b[49m\u001b[38;5;241;43m.\u001b[39;49m\u001b[43msleep\u001b[49m\u001b[43m(\u001b[49m\u001b[38;5;241;43m0.01\u001b[39;49m\u001b[43m)\u001b[49m\n\u001b[0;32m   2108\u001b[0m \u001b[38;5;28mself\u001b[39m\u001b[38;5;241m.\u001b[39mcancel_async_evaluation(get_current_thread_id(thread), \u001b[38;5;28mstr\u001b[39m(\u001b[38;5;28mid\u001b[39m(frame)))\n\u001b[0;32m   2110\u001b[0m \u001b[38;5;66;03m# process any stepping instructions\u001b[39;00m\n",
      "\u001b[1;31mKeyboardInterrupt\u001b[0m: "
     ]
    }
   ],
   "source": [
    "\n",
    "\n",
    "# YOUR CODE HERE\n",
    "class Node:\n",
    "    def __init__(self,data) -> None:\n",
    "        self.data = data\n",
    "        self.next = None\n",
    "        self.prev = None\n",
    "\n",
    "class LinkedList:\n",
    "    \n",
    "    def __init__(self) -> None:\n",
    "        self.head = Node(None)\n",
    "        \n",
    "    def append_item(self,data) -> None:\n",
    "        new_node = Node(data)\n",
    "        curr = self.head\n",
    "        while curr.next != None:\n",
    "            curr = curr.next\n",
    "        curr.next = new_node\n",
    "        \n",
    "    def append_items(self, items):\n",
    "        for item in items:\n",
    "            self.append_item(item)\n",
    "            \n",
    "    def traverse(self):\n",
    "        curr = self.head\n",
    "        traverse_l = []\n",
    "        while curr.next != None:\n",
    "            curr = curr.next\n",
    "            traverse_l.append(curr.data)\n",
    "        return traverse_l\n",
    "    \n",
    "    def q2_size(self) -> int:\n",
    "        size = 0\n",
    "        curr = self.head\n",
    "        while curr.next != None:\n",
    "            curr = curr.next\n",
    "            size += 1\n",
    "        return size\n",
    "        \n",
    "    \n",
    "\n",
    "    \n",
    "    \n",
    "q1_ll = LinkedList()\n",
    "q1_ll.append_item(12)\n",
    "q1_ll.append_item(20)\n",
    "q1_ll.append_item(19)\n",
    "q1_ll.append_item(42)\n",
    "q1_ll.traverse()"
   ]
  },
  {
   "cell_type": "code",
   "execution_count": 108,
   "metadata": {
    "ExecuteTime": {
     "end_time": "2022-03-28T08:18:53.367624Z",
     "start_time": "2022-03-28T08:18:53.356749Z"
    },
    "deletable": false,
    "editable": false,
    "nbgrader": {
     "cell_type": "code",
     "checksum": "6415bf1b2fe7e963d6f81d486d4940cf",
     "grade": true,
     "grade_id": "test_A1-singlyList",
     "locked": true,
     "points": 10,
     "schema_version": 3,
     "solution": false,
     "task": false
    },
    "tags": []
   },
   "outputs": [],
   "source": [
    "# Testing Cell (DO NOT MODIFY THIS CELL) (Do NOT modify this cell)"
   ]
  },
  {
   "cell_type": "markdown",
   "metadata": {},
   "source": [
    "#### Question 2&nbsp;&nbsp;&nbsp;&nbsp;&nbsp;&nbsp;(10 Points)\n",
    "Extend the `LinkedList` class add a method `q2_size()` to find the size of the singly linked list. Your code might look like:\n",
    "```python\n",
    "class Q2LinkedList (LinkedList):\n",
    "\n",
    "    def q2_size(self):\n",
    "        \"\"\" Return the number of elements in the linked list. \"\"\"    \n",
    "\n",
    "```\n",
    "Create an object `q2_11` with the following ordered additions:\n",
    "```python\n",
    "    12, 'John', 19, True, 'Purple', False\n",
    "```\n",
    "Your size method should thus return `6`."
   ]
  },
  {
   "cell_type": "code",
   "execution_count": 109,
   "metadata": {
    "ExecuteTime": {
     "end_time": "2022-03-28T23:24:01.886602Z",
     "start_time": "2022-03-28T23:24:01.865661Z"
    },
    "deletable": false,
    "nbgrader": {
     "cell_type": "code",
     "checksum": "032b770fd30083ed1c84f0c25a225367",
     "grade": false,
     "grade_id": "A2",
     "locked": false,
     "schema_version": 3,
     "solution": true,
     "task": false
    }
   },
   "outputs": [
    {
     "data": {
      "text/plain": [
       "6"
      ]
     },
     "execution_count": 109,
     "metadata": {},
     "output_type": "execute_result"
    }
   ],
   "source": [
    "\n",
    "# YOUR CODE HERE\n",
    "class Q2LinkedList(LinkedList):\n",
    "    def __init__(self) -> None:\n",
    "        super().__init__()\n",
    "\n",
    "    def q2_size(self) -> int:\n",
    "        size = 0\n",
    "        curr = self.head\n",
    "        while curr.next != None:\n",
    "            curr = curr.next\n",
    "            size += 1\n",
    "        return size\n",
    "    \n",
    "q2_ll = Q2LinkedList()\n",
    "q2_ll.append_item(12)\n",
    "q2_ll.append_item('John')\n",
    "q2_ll.append_item(19)\n",
    "q2_ll.append_item(True)\n",
    "q2_ll.append_item('Purple')\n",
    "q2_ll.append_item(False)\n",
    "q2_ll.q2_size()"
   ]
  },
  {
   "cell_type": "code",
   "execution_count": 110,
   "metadata": {
    "ExecuteTime": {
     "end_time": "2022-03-28T23:06:47.614853Z",
     "start_time": "2022-03-28T23:06:47.601888Z"
    },
    "deletable": false,
    "editable": false,
    "nbgrader": {
     "cell_type": "code",
     "checksum": "3df22d333222e084302060b210253eae",
     "grade": true,
     "grade_id": "test_A2-singlySize",
     "locked": true,
     "points": 10,
     "schema_version": 3,
     "solution": false,
     "task": false
    },
    "tags": []
   },
   "outputs": [],
   "source": [
    "# Testing Cell (DO NOT MODIFY THIS CELL) (Do NOT modify this cell)"
   ]
  },
  {
   "cell_type": "markdown",
   "metadata": {},
   "source": [
    "#### Question 3&nbsp;&nbsp;&nbsp;&nbsp;&nbsp;&nbsp;(10 Points)\n",
    "Extend your class to add a `q3_ll_search(item)` method. This method should traverse the list and return `True` if the item is found using the `==` operator, otherwise return `False`. Create a `q3_ll` object with the following content:\n",
    "```python\n",
    "    1, 12, 6, 20, 'John', 19, True, 'Purple', False\n",
    "```"
   ]
  },
  {
   "cell_type": "code",
   "execution_count": 167,
   "metadata": {
    "ExecuteTime": {
     "end_time": "2022-03-28T23:25:21.296007Z",
     "start_time": "2022-03-28T23:25:21.281020Z"
    },
    "deletable": false,
    "nbgrader": {
     "cell_type": "code",
     "checksum": "95941fcdec52b324b15dd02a6deb0730",
     "grade": false,
     "grade_id": "A3",
     "locked": false,
     "schema_version": 3,
     "solution": true,
     "task": false
    }
   },
   "outputs": [
    {
     "name": "stdout",
     "output_type": "stream",
     "text": [
      "[1, 12, 6, 20, 'John', 19, True, 'purple', False]\n"
     ]
    },
    {
     "data": {
      "text/plain": [
       "True"
      ]
     },
     "execution_count": 167,
     "metadata": {},
     "output_type": "execute_result"
    }
   ],
   "source": [
    "\n",
    "# YOUR CODE HERE\n",
    "class Q3LinkedList(LinkedList):\n",
    "    \n",
    "    def __init__(self) -> None:\n",
    "        super().__init__()\n",
    "        \n",
    "    def q3_search(self, item) -> bool:\n",
    "        curr = self.head.next\n",
    "        while curr != None:\n",
    "            if curr.data == item:\n",
    "                return True\n",
    "            curr = curr.next\n",
    "        return False\n",
    "    \n",
    "q3_ll = Q3LinkedList()\n",
    "q3_ll.append_item(1)\n",
    "q3_ll.append_item(12)\n",
    "q3_ll.append_item(6)\n",
    "q3_ll.append_item(20)\n",
    "q3_ll.append_item('John') \n",
    "q3_ll.append_item(19)\n",
    "q3_ll.append_item(True)\n",
    "q3_ll.append_item('purple')\n",
    "q3_ll.append_item(False)\n",
    "print(q3_ll.traverse())\n",
    "q3_ll.q3_search(False)\n"
   ]
  },
  {
   "cell_type": "code",
   "execution_count": 112,
   "metadata": {
    "ExecuteTime": {
     "end_time": "2022-03-28T23:28:14.565766Z",
     "start_time": "2022-03-28T23:28:14.562767Z"
    },
    "deletable": false,
    "editable": false,
    "nbgrader": {
     "cell_type": "code",
     "checksum": "b94d140d79a1e17225093e3098c519e7",
     "grade": true,
     "grade_id": "test_A3-search",
     "locked": true,
     "points": 10,
     "schema_version": 3,
     "solution": false,
     "task": false
    },
    "tags": []
   },
   "outputs": [],
   "source": [
    "# Testing Cell (DO NOT MODIFY THIS CELL) (Do NOT modify this cell)"
   ]
  },
  {
   "cell_type": "markdown",
   "metadata": {},
   "source": [
    "#### Question 4&nbsp;&nbsp;&nbsp;&nbsp;&nbsp;&nbsp;(10 Points)\n",
    "Extend you class with a method `q4_search(index_num)` to return the element by index where 'index' infers the length of traversal to find the item. If the index exceeds the length of the list, the method should return the string `\"Index out of range\"`.\n",
    "\n",
    "Create a list called `q4_ll` and append the following elements:\n",
    "```python\n",
    "    [12, 'John', 19, True, 'Purple', False]\n",
    "```\n",
    "A search for `0` should return `12`."
   ]
  },
  {
   "cell_type": "code",
   "execution_count": 113,
   "metadata": {
    "ExecuteTime": {
     "end_time": "2022-03-28T23:29:22.345970Z",
     "start_time": "2022-03-28T23:29:22.329287Z"
    },
    "deletable": false,
    "nbgrader": {
     "cell_type": "code",
     "checksum": "22934d10971827ba51c180a80750d70e",
     "grade": false,
     "grade_id": "A4",
     "locked": false,
     "schema_version": 3,
     "solution": true,
     "task": false
    }
   },
   "outputs": [
    {
     "data": {
      "text/plain": [
       "'Index out of range'"
      ]
     },
     "execution_count": 113,
     "metadata": {},
     "output_type": "execute_result"
    }
   ],
   "source": [
    "\n",
    "# YOUR CODE HERE\n",
    "class Q4LinkedList(Q3LinkedList):\n",
    "    \n",
    "    def __init__(self) -> None:\n",
    "        super().__init__()\n",
    "        \n",
    "    def q4_search(self, index_num:int):\n",
    "        index = 0\n",
    "        curr = self.head.next\n",
    "        while curr != None:\n",
    "            if index == index_num:\n",
    "                return curr.data\n",
    "            curr = curr.next\n",
    "            index += 1\n",
    "        return 'Index out of range'\n",
    "        \n",
    "q4_ll = Q4LinkedList()\n",
    "q4_ll.append_items([12, 'John', 19, True, 'Purple', False])\n",
    "q4_ll.q4_search(6)"
   ]
  },
  {
   "cell_type": "code",
   "execution_count": 114,
   "metadata": {
    "ExecuteTime": {
     "end_time": "2022-03-28T23:31:32.251198Z",
     "start_time": "2022-03-28T23:31:32.241222Z"
    },
    "deletable": false,
    "editable": false,
    "nbgrader": {
     "cell_type": "code",
     "checksum": "c49e5179b7655436bfaf8d441dab085d",
     "grade": true,
     "grade_id": "test_A4-secondIndex",
     "locked": true,
     "points": 10,
     "schema_version": 3,
     "solution": false,
     "task": false
    },
    "tags": []
   },
   "outputs": [],
   "source": [
    "# Testing Cell (DO NOT MODIFY THIS CELL) (Do NOT modify this cell)"
   ]
  },
  {
   "cell_type": "markdown",
   "metadata": {},
   "source": [
    "#### Question 5&nbsp;&nbsp;&nbsp;&nbsp;&nbsp;&nbsp;(10 Points)\n",
    "Add a method `q5_set_element(index_num, val)` to set a new value of an element using its index value. \n",
    "\n",
    "Create a list `q5_ll` with the following data appended:\n",
    "```python\n",
    "12, 'John', 19, True, 'Purple', False\n",
    "```\n",
    "\n",
    "The updated list should be available for testing with the `traverse()` method from Q1. For example:\n",
    "```python\n",
    "    q5_ll.q5_set_element(2, 91)\n",
    "    assert q5_ll.traverse() == [12, 'John', 91, True, 'Purple', False]\n",
    "```\n"
   ]
  },
  {
   "cell_type": "code",
   "execution_count": 115,
   "metadata": {
    "ExecuteTime": {
     "end_time": "2022-03-28T23:39:29.623205Z",
     "start_time": "2022-03-28T23:39:29.616253Z"
    },
    "deletable": false,
    "nbgrader": {
     "cell_type": "code",
     "checksum": "73bb457f596a05c9b5ee64d910178c5a",
     "grade": false,
     "grade_id": "A5",
     "locked": false,
     "schema_version": 3,
     "solution": true,
     "task": false
    }
   },
   "outputs": [
    {
     "name": "stdout",
     "output_type": "stream",
     "text": [
      "[12, 'John', 19, True, 'Purple', False]\n"
     ]
    },
    {
     "data": {
      "text/plain": [
       "IndexError"
      ]
     },
     "execution_count": 115,
     "metadata": {},
     "output_type": "execute_result"
    }
   ],
   "source": [
    "\n",
    "# YOUR CODE HERE\n",
    "class Q5LinkedList(Q4LinkedList):\n",
    "    \n",
    "    def __init__(self) -> None:\n",
    "        super().__init__()\n",
    "        \n",
    "    def q5_set_element(self, index_num:int, val):\n",
    "        curr = self.head\n",
    "        index = 0\n",
    "        while curr.next is not None:\n",
    "            curr = curr.next\n",
    "            if index == index_num:\n",
    "                curr.data = val\n",
    "            index += 1\n",
    "            \n",
    "        if index_num > index:\n",
    "            return IndexError \n",
    "            \n",
    "q5_ll = Q5LinkedList()\n",
    "q5_ll.append_items([12, 'John', 19, True, 'Purple', False])\n",
    "print(q5_ll.traverse())\n",
    "q5_ll.q5_set_element(15,91)"
   ]
  },
  {
   "cell_type": "code",
   "execution_count": 116,
   "metadata": {
    "ExecuteTime": {
     "end_time": "2022-03-28T23:35:10.510048Z",
     "start_time": "2022-03-28T23:35:10.504094Z"
    },
    "deletable": false,
    "editable": false,
    "nbgrader": {
     "cell_type": "code",
     "checksum": "5844555dcfa65e872ae79af5a4b30740",
     "grade": true,
     "grade_id": "test_A5-setElement",
     "locked": true,
     "points": 10,
     "schema_version": 3,
     "solution": false,
     "task": false
    },
    "tags": []
   },
   "outputs": [],
   "source": [
    "# Testing Cell (DO NOT MODIFY THIS CELL) (Do NOT modify this cell)"
   ]
  },
  {
   "cell_type": "markdown",
   "metadata": {},
   "source": [
    "#### Question 6&nbsp;&nbsp;&nbsp;&nbsp;&nbsp;&nbsp;(15 Points)\n",
    "Add a method to delete the first element from the list using the method `q6_delete()`. If the list is empty, raise the exception `IndexError`.\n",
    "\n",
    "Create an instance `q6_ll` with the following data:\n",
    "```python\n",
    "    [12, 'John', 19, True, 'Purple', False]\n",
    "```\n",
    "After a single call or deletion, your linked list instance should return the following with `q6_ll.traverse()`:\n",
    "```python\n",
    "    ['John', 19, True, 'Purple', False]\n",
    "```\n",
    "You should be able to generate the exception as follows (note that you should inherit from at least your Q2 class):\n",
    "```python\n",
    "    for i in range(q6_ll.q2_size() + 1):\n",
    "        q6_ll.q6_delete()\n",
    "```"
   ]
  },
  {
   "cell_type": "code",
   "execution_count": 165,
   "metadata": {
    "ExecuteTime": {
     "end_time": "2022-03-28T23:48:06.994956Z",
     "start_time": "2022-03-28T23:48:06.983971Z"
    },
    "deletable": false,
    "nbgrader": {
     "cell_type": "code",
     "checksum": "7e401155b1643df5d487e3c2c93ca338",
     "grade": false,
     "grade_id": "A6",
     "locked": false,
     "schema_version": 3,
     "solution": true,
     "task": false
    }
   },
   "outputs": [
    {
     "ename": "IndexError",
     "evalue": "Index out of range",
     "output_type": "error",
     "traceback": [
      "\u001b[1;31m---------------------------------------------------------------------------\u001b[0m",
      "\u001b[1;31mIndexError\u001b[0m                                Traceback (most recent call last)",
      "Cell \u001b[1;32mIn[165], line 15\u001b[0m\n\u001b[0;32m     12\u001b[0m             \u001b[38;5;28;01mraise\u001b[39;00m \u001b[38;5;167;01mIndexError\u001b[39;00m(\u001b[38;5;124m'\u001b[39m\u001b[38;5;124mIndex out of range\u001b[39m\u001b[38;5;124m'\u001b[39m)\n\u001b[0;32m     14\u001b[0m q6_ll \u001b[38;5;241m=\u001b[39m Q6LinkedList()\n\u001b[1;32m---> 15\u001b[0m \u001b[43mq6_ll\u001b[49m\u001b[38;5;241;43m.\u001b[39;49m\u001b[43mq6_delete\u001b[49m\u001b[43m(\u001b[49m\u001b[43m)\u001b[49m\n",
      "Cell \u001b[1;32mIn[165], line 12\u001b[0m, in \u001b[0;36mQ6LinkedList.q6_delete\u001b[1;34m(self)\u001b[0m\n\u001b[0;32m     10\u001b[0m     \u001b[38;5;28mself\u001b[39m\u001b[38;5;241m.\u001b[39mhead\u001b[38;5;241m.\u001b[39mnext \u001b[38;5;241m=\u001b[39m curr\u001b[38;5;241m.\u001b[39mnext\n\u001b[0;32m     11\u001b[0m \u001b[38;5;28;01melse\u001b[39;00m:\n\u001b[1;32m---> 12\u001b[0m     \u001b[38;5;28;01mraise\u001b[39;00m \u001b[38;5;167;01mIndexError\u001b[39;00m(\u001b[38;5;124m'\u001b[39m\u001b[38;5;124mIndex out of range\u001b[39m\u001b[38;5;124m'\u001b[39m)\n",
      "\u001b[1;31mIndexError\u001b[0m: Index out of range"
     ]
    }
   ],
   "source": [
    "\n",
    "# YOUR CODE HERE\n",
    "class Q6LinkedList(Q5LinkedList):\n",
    "    \n",
    "    def __init__(self) -> None:\n",
    "        super().__init__()\n",
    "        \n",
    "    def q6_delete(self):\n",
    "        curr = self.head.next\n",
    "        if curr is not None:\n",
    "            self.head.next = curr.next\n",
    "        else:\n",
    "            raise IndexError('Index out of range')\n",
    "        \n",
    "q6_ll = Q6LinkedList()\n",
    "q6_ll.q6_delete()\n"
   ]
  },
  {
   "cell_type": "code",
   "execution_count": 118,
   "metadata": {
    "ExecuteTime": {
     "end_time": "2022-03-28T23:48:11.530251Z",
     "start_time": "2022-03-28T23:48:11.519274Z"
    },
    "deletable": false,
    "editable": false,
    "nbgrader": {
     "cell_type": "code",
     "checksum": "1b0b3871e94ba14e96428bf22d6c87b9",
     "grade": true,
     "grade_id": "test_A6-delete",
     "locked": true,
     "points": 15,
     "schema_version": 3,
     "solution": false,
     "task": false
    },
    "tags": []
   },
   "outputs": [],
   "source": [
    "# Testing Cell (DO NOT MODIFY THIS CELL) (Do NOT modify this cell)"
   ]
  },
  {
   "cell_type": "markdown",
   "metadata": {},
   "source": [
    "#### Question 7&nbsp;&nbsp;&nbsp;&nbsp;&nbsp;&nbsp;(15 Points) \n",
    "Add a method `q7_delete_last()` to delete the last item from a linked list. Again, you should raise an `IndexError` for a deletion from an empty list. Create an instance `q7_ll` with the following data appended - you must support `traverse` and `q2_size` as in the previous question.\n",
    "```python\n",
    "    12, 'John', 19, True, 'Purple', False\n",
    "```"
   ]
  },
  {
   "cell_type": "code",
   "execution_count": 166,
   "metadata": {
    "ExecuteTime": {
     "end_time": "2022-03-29T00:40:03.117011Z",
     "start_time": "2022-03-29T00:40:03.102599Z"
    },
    "deletable": false,
    "nbgrader": {
     "cell_type": "code",
     "checksum": "db87d87d9dfdb04688826b9f2948395e",
     "grade": false,
     "grade_id": "A7",
     "locked": false,
     "schema_version": 3,
     "solution": true,
     "task": false
    }
   },
   "outputs": [
    {
     "ename": "IndexError",
     "evalue": "Index out of range",
     "output_type": "error",
     "traceback": [
      "\u001b[1;31m---------------------------------------------------------------------------\u001b[0m",
      "\u001b[1;31mIndexError\u001b[0m                                Traceback (most recent call last)",
      "Cell \u001b[1;32mIn[166], line 21\u001b[0m\n\u001b[0;32m     16\u001b[0m         curr\u001b[38;5;241m.\u001b[39mnext \u001b[38;5;241m=\u001b[39m \u001b[38;5;28;01mNone\u001b[39;00m\n\u001b[0;32m     20\u001b[0m q7_ll \u001b[38;5;241m=\u001b[39m Q7LinkedList()\n\u001b[1;32m---> 21\u001b[0m \u001b[43mq7_ll\u001b[49m\u001b[38;5;241;43m.\u001b[39;49m\u001b[43mq7_delete_last\u001b[49m\u001b[43m(\u001b[49m\u001b[43m)\u001b[49m\n",
      "Cell \u001b[1;32mIn[166], line 10\u001b[0m, in \u001b[0;36mQ7LinkedList.q7_delete_last\u001b[1;34m(self)\u001b[0m\n\u001b[0;32m      7\u001b[0m \u001b[38;5;28;01mdef\u001b[39;00m \u001b[38;5;21mq7_delete_last\u001b[39m(\u001b[38;5;28mself\u001b[39m):\n\u001b[0;32m      9\u001b[0m     \u001b[38;5;28;01mif\u001b[39;00m \u001b[38;5;28mself\u001b[39m\u001b[38;5;241m.\u001b[39mhead\u001b[38;5;241m.\u001b[39mnext \u001b[38;5;129;01mis\u001b[39;00m \u001b[38;5;28;01mNone\u001b[39;00m:\n\u001b[1;32m---> 10\u001b[0m         \u001b[38;5;28;01mraise\u001b[39;00m \u001b[38;5;167;01mIndexError\u001b[39;00m(\u001b[38;5;124m'\u001b[39m\u001b[38;5;124mIndex out of range\u001b[39m\u001b[38;5;124m'\u001b[39m)\n\u001b[0;32m     12\u001b[0m     curr \u001b[38;5;241m=\u001b[39m \u001b[38;5;28mself\u001b[39m\u001b[38;5;241m.\u001b[39mhead\n\u001b[0;32m     14\u001b[0m     \u001b[38;5;28;01mwhile\u001b[39;00m curr\u001b[38;5;241m.\u001b[39mnext\u001b[38;5;241m.\u001b[39mnext \u001b[38;5;129;01mis\u001b[39;00m \u001b[38;5;129;01mnot\u001b[39;00m \u001b[38;5;28;01mNone\u001b[39;00m:\n",
      "\u001b[1;31mIndexError\u001b[0m: Index out of range"
     ]
    }
   ],
   "source": [
    "\n",
    "# YOUR CODE HERE\n",
    "class Q7LinkedList(Q6LinkedList):\n",
    "    \n",
    "    def __init__(self) -> None:\n",
    "        super().__init__()\n",
    "        \n",
    "    def q7_delete_last(self):\n",
    "        \n",
    "        if self.head.next is None:\n",
    "            raise IndexError('Index out of range')\n",
    "        \n",
    "        curr = self.head\n",
    "        \n",
    "        while curr.next.next is not None:\n",
    "            curr = curr.next\n",
    "        curr.next = None\n",
    "            \n",
    "       \n",
    "            \n",
    "q7_ll = Q7LinkedList()\n",
    "q7_ll.q7_delete_last()\n"
   ]
  },
  {
   "cell_type": "code",
   "execution_count": 120,
   "metadata": {
    "ExecuteTime": {
     "end_time": "2022-03-29T00:14:59.668116Z",
     "start_time": "2022-03-29T00:14:59.654644Z"
    },
    "deletable": false,
    "editable": false,
    "nbgrader": {
     "cell_type": "code",
     "checksum": "6a5112fe4f216d4ba200abdaa7ba2c6e",
     "grade": true,
     "grade_id": "test_A7-deleteLast",
     "locked": true,
     "points": 15,
     "schema_version": 3,
     "solution": false,
     "task": false
    },
    "tags": []
   },
   "outputs": [],
   "source": [
    "# Testing Cell (DO NOT MODIFY THIS CELL) (Do NOT modify this cell)"
   ]
  },
  {
   "cell_type": "markdown",
   "metadata": {},
   "source": [
    "#### Question 8&nbsp;&nbsp;&nbsp;&nbsp;&nbsp;&nbsp;(10 Points) \n",
    "Create a class for a doubly linked list called `DoublyLinkedList` with at least the following methods:\n",
    "```python\n",
    "class DoublyLinkedList:\n",
    "    \n",
    "    def __init__(self):\n",
    "        \"\"\"\n",
    "        Initialises an empty doubly linked list.\n",
    "        \"\"\"\n",
    "        \n",
    "    def append_item(self, data):\n",
    "        \"\"\"\n",
    "        Appends the data to the tail of the linked list.\n",
    "        \"\"\"\n",
    "\n",
    "    def traverse(self, forward = True):\n",
    "        \"\"\"\n",
    "        Returns a list of the items in the linked list where the parameter\n",
    "        indicates traversal from first to last or last to first.\n",
    "        \"\"\"\n",
    "```\n",
    "Create an instance `q8_ll` and append the following items:\n",
    "- 12\n",
    "- 'John'\n",
    "- 19\n",
    "- True\n",
    "- 'Purple'\n",
    "- False"
   ]
  },
  {
   "cell_type": "code",
   "execution_count": 138,
   "metadata": {
    "ExecuteTime": {
     "end_time": "2022-03-29T00:51:11.957562Z",
     "start_time": "2022-03-29T00:51:11.942572Z"
    },
    "deletable": false,
    "nbgrader": {
     "cell_type": "code",
     "checksum": "139242b73b42140af56579fa821abd42",
     "grade": false,
     "grade_id": "A8",
     "locked": false,
     "schema_version": 3,
     "solution": true,
     "task": false
    }
   },
   "outputs": [
    {
     "data": {
      "text/plain": [
       "[12, 'John', 19, True, 'Purple', False]"
      ]
     },
     "execution_count": 138,
     "metadata": {},
     "output_type": "execute_result"
    }
   ],
   "source": [
    "\n",
    "# YOUR CODE HERE\n",
    "class DoublyLinkedList:\n",
    "    \n",
    "    def __init__(self) -> None:\n",
    "        self.head = None\n",
    "        self.tail = None\n",
    "        \n",
    "    def append_item(self, data):\n",
    "        new_node = Node(data)\n",
    "        if self.head == None:\n",
    "            self.head = self.tail = Node(data)\n",
    "        else:\n",
    "            self.tail.next = new_node\n",
    "            new_node.prev = self.tail\n",
    "            self.tail = new_node\n",
    "        \n",
    "    def append_items(self, items):\n",
    "        for item in items:\n",
    "            self.append_item(item)\n",
    "            \n",
    "    def traverse(self, forward:bool=True) -> list:\n",
    "        traverse_list = []\n",
    "        if forward == True:\n",
    "            curr = self.head\n",
    "            while curr != None:\n",
    "                traverse_list.append(curr.data)\n",
    "                curr = curr.next\n",
    "        else:\n",
    "            curr = self.tail\n",
    "            while curr != None:\n",
    "                traverse_list.append(curr.data)\n",
    "                curr = curr.prev\n",
    "        \n",
    "        return traverse_list\n",
    "        \n",
    "q8_ll = DoublyLinkedList()\n",
    "q8_ll.append_items([12, 'John', 19, True, 'Purple', False])\n",
    "q8_ll.traverse()\n"
   ]
  },
  {
   "cell_type": "code",
   "execution_count": null,
   "metadata": {
    "ExecuteTime": {
     "end_time": "2022-03-29T00:44:15.950238Z",
     "start_time": "2022-03-29T00:44:15.933283Z"
    },
    "deletable": false,
    "editable": false,
    "nbgrader": {
     "cell_type": "code",
     "checksum": "b59874301cc3cac948ebe6692a92d4f3",
     "grade": true,
     "grade_id": "test_A8-doublyAppend",
     "locked": true,
     "points": 10,
     "schema_version": 3,
     "solution": false,
     "task": false
    },
    "tags": []
   },
   "outputs": [],
   "source": [
    "# Testing Cell (DO NOT MODIFY THIS CELL)"
   ]
  },
  {
   "cell_type": "markdown",
   "metadata": {},
   "source": [
    "#### Question 9&nbsp;&nbsp;&nbsp;&nbsp;&nbsp;&nbsp;(10 Points)\n",
    "\n",
    "Extend your class with the method `q9_insert_at_index(self, index, value)` that inserts a new value at the stated index position. If the linked list is empty, the insert occurs at the head of the list regardless. If the index exceeds the current length of the list, the value is inserted at the tail.\n",
    "\n",
    "Create an instance of your class called `q9_ll` and test your insert method to insert items appropriately until you have built the following order:\n",
    "```python\n",
    "    [1, 3, 5, 7]\n",
    "```\n",
    "\n",
    "Use the `traverse()` method, which returns the items to check whether your progam is correct."
   ]
  },
  {
   "cell_type": "code",
   "execution_count": 160,
   "metadata": {
    "ExecuteTime": {
     "end_time": "2022-03-29T01:33:51.919445Z",
     "start_time": "2022-03-29T01:33:51.899471Z"
    },
    "deletable": false,
    "nbgrader": {
     "cell_type": "code",
     "checksum": "17d3b703196de372ef582b40b7e077b5",
     "grade": false,
     "grade_id": "A9",
     "locked": false,
     "schema_version": 3,
     "solution": true,
     "task": false
    },
    "tags": []
   },
   "outputs": [
    {
     "data": {
      "text/plain": [
       "[1, 3, 5, 7]"
      ]
     },
     "execution_count": 160,
     "metadata": {},
     "output_type": "execute_result"
    }
   ],
   "source": [
    "\n",
    "# YOUR CODE HERE\n",
    "class Q9LinkedList(DoublyLinkedList):\n",
    "    \n",
    "    def __init__(self) -> None:\n",
    "        super().__init__()\n",
    "        \n",
    "    def q9_insert_at_index(self, index, value):\n",
    "        new_node = Node(value)\n",
    "\n",
    "        # 如果链表为空，设置头尾节点为新节点，不要忘记返回\n",
    "        if self.head == None:\n",
    "            self.head = new_node\n",
    "            self.tail = new_node\n",
    "            return\n",
    "        \n",
    "        # 如果索引小于或等于0，在链表头部插入新节点，不要忘记返回  \n",
    "        if index <= 0:\n",
    "            # 新节点在当前头部之前\n",
    "            new_node.next = self.head\n",
    "            self.head.prev = new_node\n",
    "            # 设置新的头部为新节点\n",
    "            self.head = new_node\n",
    "            return\n",
    "\n",
    "        # 将指针和指针索引设置在头部\n",
    "        curr = self.head\n",
    "        curr_index = 0\n",
    "        # 当指针索引小于目标索引且指针未遍历到链表尾部时通过循环遍历\n",
    "        while curr != None and curr_index < index:\n",
    "            curr = curr.next\n",
    "            curr_index += 1\n",
    "        # 如果指针遍历到尾部，即目标索引大于链表长度：    \n",
    "        if curr == None:\n",
    "            # 在当前尾部的后方插入新节点\n",
    "            self.tail.next = new_node\n",
    "            # 新节点前方为原尾部\n",
    "            new_node.prev = self.tail\n",
    "            # 更新尾部至新节点\n",
    "            self.tail = new_node\n",
    "        # 如果指针不为空，即未遍历到尾部，目标索引小于链表长度\n",
    "        else:\n",
    "            # 定义前指针，为指针之前一个对象\n",
    "            prev = curr.prev\n",
    "            # 在前指针的后方插入新节点\n",
    "            prev.next = new_node\n",
    "            # 确保新节点插入在前指针之后\n",
    "            new_node.prev = prev\n",
    "            # 将当前指针设置为新节点的后一个对象\n",
    "            new_node.next = curr\n",
    "            # 确保当前指针的前一个对象为新节点\n",
    "            curr.prev = new_node\n",
    "           \n",
    "q9_ll = Q9LinkedList()     \n",
    "q9_ll.q9_insert_at_index(1,1)\n",
    "q9_ll.q9_insert_at_index(145,5)\n",
    "q9_ll.q9_insert_at_index(1,3)\n",
    "q9_ll.q9_insert_at_index(909,7)\n",
    "q9_ll.traverse()\n"
   ]
  },
  {
   "cell_type": "code",
   "execution_count": null,
   "metadata": {
    "ExecuteTime": {
     "end_time": "2022-03-29T01:36:16.583319Z",
     "start_time": "2022-03-29T01:36:16.571366Z"
    },
    "deletable": false,
    "editable": false,
    "nbgrader": {
     "cell_type": "code",
     "checksum": "4f69f344b3713240d53585eb86d99e4c",
     "grade": true,
     "grade_id": "test_A9-insertDoubly",
     "locked": true,
     "points": 10,
     "schema_version": 3,
     "solution": false,
     "task": false
    },
    "tags": []
   },
   "outputs": [],
   "source": [
    "# Testing Cell (DO NOT MODIFY THIS CELL)"
   ]
  }
 ],
 "metadata": {
  "hide_input": false,
  "kernelspec": {
   "display_name": "Python 3 (ipykernel)",
   "language": "python",
   "name": "python3"
  },
  "language_info": {
   "codemirror_mode": {
    "name": "ipython",
    "version": 3
   },
   "file_extension": ".py",
   "mimetype": "text/x-python",
   "name": "python",
   "nbconvert_exporter": "python",
   "pygments_lexer": "ipython3",
   "version": "3.10.11"
  },
  "nbTranslate": {
   "displayLangs": [
    "*"
   ],
   "hotkey": "alt-t",
   "langInMainMenu": true,
   "sourceLang": "en",
   "targetLang": "fr",
   "useGoogleTranslate": true
  },
  "toc": {
   "base_numbering": 1,
   "nav_menu": {},
   "number_sections": true,
   "sideBar": true,
   "skip_h1_title": false,
   "title_cell": "Table of Contents",
   "title_sidebar": "Contents",
   "toc_cell": false,
   "toc_position": {},
   "toc_section_display": true,
   "toc_window_display": false
  },
  "varInspector": {
   "cols": {
    "lenName": 16,
    "lenType": 16,
    "lenVar": 40
   },
   "kernels_config": {
    "python": {
     "delete_cmd_postfix": "",
     "delete_cmd_prefix": "del ",
     "library": "var_list.py",
     "varRefreshCmd": "print(var_dic_list())"
    },
    "r": {
     "delete_cmd_postfix": ") ",
     "delete_cmd_prefix": "rm(",
     "library": "var_list.r",
     "varRefreshCmd": "cat(var_dic_list()) "
    }
   },
   "types_to_exclude": [
    "module",
    "function",
    "builtin_function_or_method",
    "instance",
    "_Feature"
   ],
   "window_display": false
  }
 },
 "nbformat": 4,
 "nbformat_minor": 4
}
