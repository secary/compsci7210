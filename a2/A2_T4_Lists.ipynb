{
 "cells": [
  {
   "cell_type": "markdown",
   "metadata": {},
   "source": [
    "### Instructions:\n",
    "\n",
    "- You can attempt any number of questions and in any order.  \n",
    "  See the assignment page for a description of the hurdle requirement for this assessment.\n",
    "- You may submit your practical for autograding as many times as you like to check on progress, however you will save time by checking and testing your own code before submitting.\n",
    "- Develop and check your answers in the spaces provided.\n",
    "- **Replace** the code `raise NotImplementedError()` with your solution to the question.\n",
    "- Do **NOT** remove any variables other provided markings already provided in the answer spaces.\n",
    "- Do **NOT** make any changes to this notebook outside of the spaces indicated.  \n",
    "  (If you do this, the submission system might not accept your work)\n",
    "\n",
    "### Submitting:\n",
    "\n",
    "1. Before you turn this problem in, make sure everything runs as expected by resetting this notebook.    \n",
    "   (You can do this from the menubar above by selecting `Kernel`&#8594;`Restart Kernel and Run All Cells...`)\n",
    "1. Don't forget to save your notebook after this step.\n",
    "1. Submit your .ipynb file to Gradescope via file upload or GitHub repository.\n",
    "1. You can submit as many times as needed.\n",
    "1. You **must** give your submitted file the **identical** filename to that which you downloaded without changing **any** aspects - spaces, underscores, capitalisation etc. If your operating system has changed the filename because you downloaded the file twice or more you **must** also fix this.  \n",
    "\n"
   ]
  },
  {
   "cell_type": "markdown",
   "metadata": {},
   "source": [
    "---"
   ]
  },
  {
   "cell_type": "markdown",
   "metadata": {},
   "source": [
    "# A2 | Topic 4: Practice Lists"
   ]
  },
  {
   "cell_type": "markdown",
   "metadata": {},
   "source": [
    "#### Question 1&nbsp;&nbsp;&nbsp;&nbsp;&nbsp;&nbsp;(3 Points)\n",
    "Write a Python program to build a list of following numbers.\n",
    "```\n",
    "    0, 1, 1, 2, 3, 5, 8, 13, 21, 34\n",
    "```\n",
    "Create a variable `output1_i` and assign the solution to it. Create a variable `output1_ii` and assign the length of this list."
   ]
  },
  {
   "cell_type": "code",
   "execution_count": null,
   "metadata": {
    "deletable": false,
    "nbgrader": {
     "cell_type": "code",
     "checksum": "811891f82086cfdb69f74626b817fbe1",
     "grade": false,
     "grade_id": "A1",
     "locked": false,
     "schema_version": 3,
     "solution": true,
     "task": false
    },
    "tags": []
   },
   "outputs": [],
   "source": [
    "\n",
    "# YOUR CODE HERE\n",
    "def fibonaci(n):\n",
    "    result = [0,1]\n",
    "    i = 1\n",
    "    while result[i] < n:  \n",
    "        \n",
    "        result.append(result[i]+result[i-1])\n",
    "        i += 1\n",
    "        \n",
    "    return result\n",
    "\n",
    "output1_i = fibonaci(34)\n",
    "output1_ii = len(output1_i)"
   ]
  },
  {
   "cell_type": "code",
   "execution_count": null,
   "metadata": {
    "deletable": false,
    "editable": false,
    "nbgrader": {
     "cell_type": "code",
     "checksum": "ac443e9012816f24acd97f2b23f9b309",
     "grade": true,
     "grade_id": "test_A1-len-list",
     "locked": true,
     "points": 3,
     "schema_version": 3,
     "solution": false,
     "task": false
    },
    "tags": []
   },
   "outputs": [],
   "source": [
    "# Testing Cell (Do NOT modify this cell)"
   ]
  },
  {
   "cell_type": "markdown",
   "metadata": {},
   "source": [
    "#### Question 2&nbsp;&nbsp;&nbsp;&nbsp;&nbsp;&nbsp;(3 Points)\n",
    "Write a Python program to create a list in `output2`and sort in ascending order\n",
    "```\n",
    "    1, 2, 3, 4, 5, 5, 4, 3, 2, 1\n",
    "```"
   ]
  },
  {
   "cell_type": "code",
   "execution_count": null,
   "metadata": {
    "deletable": false,
    "nbgrader": {
     "cell_type": "code",
     "checksum": "032b770fd30083ed1c84f0c25a225367",
     "grade": false,
     "grade_id": "A2",
     "locked": false,
     "schema_version": 3,
     "solution": true,
     "task": false
    },
    "tags": []
   },
   "outputs": [],
   "source": [
    "\n",
    "# YOUR CODE HERE\n",
    "output2 = []\n",
    "i = 1\n",
    "while i <= 5:\n",
    "    output2.append(i)\n",
    "    i += 1\n",
    "\n",
    "output2_r =output2[::-1]\n",
    "output2 = output2 + output2_r"
   ]
  },
  {
   "cell_type": "code",
   "execution_count": null,
   "metadata": {
    "deletable": false,
    "editable": false,
    "nbgrader": {
     "cell_type": "code",
     "checksum": "3c0b13e77d7b9a43be72853b24c38764",
     "grade": true,
     "grade_id": "test_A2-ascending-list",
     "locked": true,
     "points": 3,
     "schema_version": 3,
     "solution": false,
     "task": false
    },
    "tags": []
   },
   "outputs": [],
   "source": [
    "# Testing Cell (Do NOT modify this cell)"
   ]
  },
  {
   "cell_type": "markdown",
   "metadata": {},
   "source": [
    "#### Question 3&nbsp;&nbsp;&nbsp;&nbsp;&nbsp;&nbsp;(3 Points)\n",
    "Write a Python program to count all the instances of `1` in the `q3_list` list and store the result in `output3`\n",
    "```\n",
    "    1, 1, 3, 1, 1, 1, 1, 9, 1, 1\n",
    "```"
   ]
  },
  {
   "cell_type": "code",
   "execution_count": null,
   "metadata": {},
   "outputs": [],
   "source": [
    "q3_list = [1, 1, 3, 1, 1, 1, 1, 9, 1, 1]"
   ]
  },
  {
   "cell_type": "code",
   "execution_count": null,
   "metadata": {
    "deletable": false,
    "nbgrader": {
     "cell_type": "code",
     "checksum": "95941fcdec52b324b15dd02a6deb0730",
     "grade": false,
     "grade_id": "A3",
     "locked": false,
     "schema_version": 3,
     "solution": true,
     "task": false
    }
   },
   "outputs": [],
   "source": [
    "\n",
    "# YOUR CODE HERE\n",
    "output3 = q3_list.count(1)"
   ]
  },
  {
   "cell_type": "code",
   "execution_count": null,
   "metadata": {
    "deletable": false,
    "editable": false,
    "nbgrader": {
     "cell_type": "code",
     "checksum": "536f75b96e430eb1d0b4a10d4b1b8124",
     "grade": true,
     "grade_id": "test_A3-count-instance",
     "locked": true,
     "points": 3,
     "schema_version": 3,
     "solution": false,
     "task": false
    },
    "tags": []
   },
   "outputs": [],
   "source": [
    "# Testing Cell (Do NOT modify this cell)\n"
   ]
  },
  {
   "cell_type": "markdown",
   "metadata": {},
   "source": [
    "#### Question 4&nbsp;&nbsp;&nbsp;&nbsp;&nbsp;&nbsp;(3 Points)\n",
    "Write a Python program that copies the following list `q4_list` into the new variable `output4_i`. \n",
    "\n",
    "    'James', 'Male', 37"
   ]
  },
  {
   "cell_type": "code",
   "execution_count": null,
   "metadata": {},
   "outputs": [],
   "source": [
    "q4_list = ['James', 'Male', 37]"
   ]
  },
  {
   "cell_type": "code",
   "execution_count": null,
   "metadata": {
    "deletable": false,
    "nbgrader": {
     "cell_type": "code",
     "checksum": "22934d10971827ba51c180a80750d70e",
     "grade": false,
     "grade_id": "A4",
     "locked": false,
     "schema_version": 3,
     "solution": true,
     "task": false
    }
   },
   "outputs": [],
   "source": [
    "\n",
    "# YOUR CODE HERE\n",
    "output4_i = []\n",
    "output4_i += q4_list"
   ]
  },
  {
   "cell_type": "code",
   "execution_count": null,
   "metadata": {
    "deletable": false,
    "editable": false,
    "nbgrader": {
     "cell_type": "code",
     "checksum": "977bf79e6b4a6e0793fa5aa6e1951f84",
     "grade": true,
     "grade_id": "test_A4-copy",
     "locked": true,
     "points": 3,
     "schema_version": 3,
     "solution": false,
     "task": false
    },
    "tags": []
   },
   "outputs": [],
   "source": [
    "# Testing Cell (Do NOT modify this cell)"
   ]
  },
  {
   "cell_type": "markdown",
   "metadata": {},
   "source": [
    "#### Question 5&nbsp;&nbsp;&nbsp;&nbsp;&nbsp;&nbsp;(3 Points)\n",
    "Write a Python program that concatenates the following two lists (in the order listed below) to create a single list. Create the variable `output5` and assign the solution to it.\n",
    "\n",
    "    'January', 'February', 'March', 'April', 'May, 'June'\n",
    "    'July', 'August', 'September', 'October', 'November', 'December'\n"
   ]
  },
  {
   "cell_type": "code",
   "execution_count": null,
   "metadata": {},
   "outputs": [],
   "source": [
    "q5_list1 = ['January', 'February', 'March', 'April', 'May', 'June']\n",
    "q5_list2 = ['July', 'August', 'September', 'October', 'November', 'December']"
   ]
  },
  {
   "cell_type": "code",
   "execution_count": null,
   "metadata": {
    "deletable": false,
    "nbgrader": {
     "cell_type": "code",
     "checksum": "73bb457f596a05c9b5ee64d910178c5a",
     "grade": false,
     "grade_id": "A5",
     "locked": false,
     "schema_version": 3,
     "solution": true,
     "task": false
    }
   },
   "outputs": [],
   "source": [
    "\n",
    "# YOUR CODE HERE\n",
    "output5 = []\n",
    "output5 += q5_list1\n",
    "output5 += q5_list2"
   ]
  },
  {
   "cell_type": "code",
   "execution_count": null,
   "metadata": {
    "deletable": false,
    "editable": false,
    "nbgrader": {
     "cell_type": "code",
     "checksum": "3995d09f63a6cbabc89ce6de0481c7f1",
     "grade": true,
     "grade_id": "test_A5-concat",
     "locked": true,
     "points": 3,
     "schema_version": 3,
     "solution": false,
     "task": false
    },
    "tags": []
   },
   "outputs": [],
   "source": [
    "# Testing Cell (Do NOT modify this cell)"
   ]
  },
  {
   "cell_type": "markdown",
   "metadata": {},
   "source": [
    "#### Question 6&nbsp;&nbsp;&nbsp;&nbsp;&nbsp;&nbsp;(5 Points)\n",
    "Starting with the following list.\n",
    "\n",
    "    9, 8, 7, 5, 6, 4, 3, 2, 1\n",
    "\n",
    "Write a Python program to transform the list to the following without changing the original list and exclusively using list methods. Create a variable `output6` and assign the solution to it.\n",
    "\n",
    "    1, 2, 3, 4, 5, 6, 7, 8, 9, 10"
   ]
  },
  {
   "cell_type": "code",
   "execution_count": 50,
   "metadata": {},
   "outputs": [],
   "source": [
    "q6_list = [9, 8, 7, 5, 6, 4, 3, 2, 1]"
   ]
  },
  {
   "cell_type": "code",
   "execution_count": 54,
   "metadata": {
    "deletable": false,
    "nbgrader": {
     "cell_type": "code",
     "checksum": "7e401155b1643df5d487e3c2c93ca338",
     "grade": false,
     "grade_id": "A6",
     "locked": false,
     "schema_version": 3,
     "solution": true,
     "task": false
    }
   },
   "outputs": [
    {
     "name": "stdout",
     "output_type": "stream",
     "text": [
      "[1, 2, 3, 4, 5, 6, 7, 8, 9, 10]\n"
     ]
    }
   ],
   "source": [
    "\n",
    "# YOUR CODE HERE\n",
    "output6 = []\n",
    "q6_list.sort()\n",
    "output6 += q6_list\n",
    "output6.append(10)\n",
    "print(output6)"
   ]
  },
  {
   "cell_type": "code",
   "execution_count": null,
   "metadata": {
    "deletable": false,
    "editable": false,
    "nbgrader": {
     "cell_type": "code",
     "checksum": "c248d971de5434445454b0beeedb5171",
     "grade": true,
     "grade_id": "test_A6-transform",
     "locked": true,
     "points": 5,
     "schema_version": 3,
     "solution": false,
     "task": false
    },
    "tags": []
   },
   "outputs": [],
   "source": [
    "# Testing Cell (Do NOT modify this cell)"
   ]
  },
  {
   "cell_type": "markdown",
   "metadata": {},
   "source": [
    "#### Question 7&nbsp;&nbsp;&nbsp;&nbsp;&nbsp;&nbsp;(5 Points) \n",
    "Starting with the following list:\n",
    "```python\n",
    "    [3, 2, 1, 3, 2, 1, 3, 2, 1]\n",
    "```\n",
    "write a Python program that transforms the list to the following:\n",
    "```python\n",
    "    [1, 2, 3, 1, 2, 3, 2, 3]\n",
    "```\n",
    "without changing the original list and **exclusively** using list methods.\n",
    "\n",
    "For example, you should note that the list has been reversed and one element, a `1`, has been removed. \n",
    "\n",
    "Create a variable `output7` and assign the solution to it.    "
   ]
  },
  {
   "cell_type": "code",
   "execution_count": null,
   "metadata": {},
   "outputs": [],
   "source": [
    "q7_list = [3, 2, 1, 3, 2, 1, 3, 2, 1]"
   ]
  },
  {
   "cell_type": "code",
   "execution_count": null,
   "metadata": {
    "deletable": false,
    "nbgrader": {
     "cell_type": "code",
     "checksum": "db87d87d9dfdb04688826b9f2948395e",
     "grade": false,
     "grade_id": "A7",
     "locked": false,
     "schema_version": 3,
     "solution": true,
     "task": false
    }
   },
   "outputs": [],
   "source": [
    "\n",
    "# YOUR CODE HERE\n",
    "output7 = q7_list[::-1]\n",
    "output7.pop(-3)"
   ]
  },
  {
   "cell_type": "code",
   "execution_count": null,
   "metadata": {
    "deletable": false,
    "editable": false,
    "nbgrader": {
     "cell_type": "code",
     "checksum": "7cb0d2d8cd0d285710779a3d7aa32753",
     "grade": true,
     "grade_id": "test_A7-transform",
     "locked": true,
     "points": 5,
     "schema_version": 3,
     "solution": false,
     "task": false
    },
    "tags": []
   },
   "outputs": [],
   "source": [
    "# Testing Cell (Do NOT modify this cell)"
   ]
  },
  {
   "cell_type": "markdown",
   "metadata": {},
   "source": [
    "#### Question 8&nbsp;&nbsp;&nbsp;&nbsp;&nbsp;&nbsp;(5 Points) \n",
    "Write a Python program to check if the number 5 is in the following sequence using an if statement. Create a string `output8`, if the number 5 is in the list, the string should contain \"The number 5 is in the list.\", otherwise it should contain \"The number 5 is not in the list.\"\n",
    "\n",
    "    1, 7, 6, 55, 3, 3, 80, 0.5, 5.1, 555, 678, 1001, 4, 68, 41, 901, 4.999, 450, 10, 0.5"
   ]
  },
  {
   "cell_type": "code",
   "execution_count": null,
   "metadata": {},
   "outputs": [],
   "source": [
    "q8_list = [1, 7, 6, 55, 3, 3, 80, 0.5, 5.1, 555, 678, 1001, 4, 68, 41, 901, 4.999, 450, 10, 0]"
   ]
  },
  {
   "cell_type": "code",
   "execution_count": null,
   "metadata": {
    "deletable": false,
    "nbgrader": {
     "cell_type": "code",
     "checksum": "139242b73b42140af56579fa821abd42",
     "grade": false,
     "grade_id": "A8",
     "locked": false,
     "schema_version": 3,
     "solution": true,
     "task": false
    }
   },
   "outputs": [],
   "source": [
    "\n",
    "# YOUR CODE HERE\n",
    "def check(num):\n",
    "    if num in q8_list:\n",
    "        result = f\"The number {num} is in the list.\"\n",
    "    else:\n",
    "        result = f\"The number {num} is not in the list.\"\n",
    "        \n",
    "    return result\n",
    "\n",
    "output8 = check(5)"
   ]
  },
  {
   "cell_type": "code",
   "execution_count": null,
   "metadata": {
    "deletable": false,
    "editable": false,
    "nbgrader": {
     "cell_type": "code",
     "checksum": "8d6e200f6711d950193a73507a74d092",
     "grade": true,
     "grade_id": "test_A8-where-is-5",
     "locked": true,
     "points": 5,
     "schema_version": 3,
     "solution": false,
     "task": false
    },
    "tags": []
   },
   "outputs": [],
   "source": [
    "# Testing Cell (Do NOT modify this cell)"
   ]
  },
  {
   "cell_type": "markdown",
   "metadata": {},
   "source": [
    "#### Question 9&nbsp;&nbsp;&nbsp;&nbsp;&nbsp;&nbsp;(5 Points)\n",
    "Starting with the following two lists.\n",
    "\n",
    "    'Jenny', 'Female'\n",
    "    \n",
    "    5, 2\n",
    "    \n",
    "Write a Python program to created a *nested list* by appending the entire second list to be a single element of the first list. Create a variable `output9_i` and assign the solution to it. Afterwards, create a variable `output9_ii` and assign the length of `output9_i` to it."
   ]
  },
  {
   "cell_type": "code",
   "execution_count": null,
   "metadata": {},
   "outputs": [],
   "source": [
    "q9_list1 = ['Jenny', 'Female']\n",
    "q9_list2 = [5,2]"
   ]
  },
  {
   "cell_type": "code",
   "execution_count": null,
   "metadata": {
    "deletable": false,
    "nbgrader": {
     "cell_type": "code",
     "checksum": "17d3b703196de372ef582b40b7e077b5",
     "grade": false,
     "grade_id": "A9",
     "locked": false,
     "schema_version": 3,
     "solution": true,
     "task": false
    }
   },
   "outputs": [],
   "source": [
    "\n",
    "# YOUR CODE HERE\n",
    "output9_i = q9_list1\n",
    "output9_i.append(q9_list2)\n",
    "output9_ii = len(output9_i)"
   ]
  },
  {
   "cell_type": "code",
   "execution_count": null,
   "metadata": {
    "deletable": false,
    "editable": false,
    "nbgrader": {
     "cell_type": "code",
     "checksum": "aeecb19063f520f72a06b664e205dec1",
     "grade": true,
     "grade_id": "test_A9-nested",
     "locked": true,
     "points": 5,
     "schema_version": 3,
     "solution": false,
     "task": false
    },
    "tags": []
   },
   "outputs": [],
   "source": [
    "# Testing Cell (Do NOT modify this cell)"
   ]
  },
  {
   "cell_type": "markdown",
   "metadata": {},
   "source": [
    "#### Question 10&nbsp;&nbsp;&nbsp;&nbsp;&nbsp;&nbsp;(5 Points)\n",
    "Starting with the following list.\n",
    "\n",
    "    2, 4, 6, 8, 10\n",
    "    \n",
    "Write a Python remove the last element of the list.\n",
    "1. Create a variable `output10_i` and assign the value that was removed from the list to it.\n",
    "2. Create a variable `output10_ii` and assign the list to it."
   ]
  },
  {
   "cell_type": "code",
   "execution_count": null,
   "metadata": {},
   "outputs": [],
   "source": [
    "q10_list = [2, 4, 6, 8, 10]"
   ]
  },
  {
   "cell_type": "code",
   "execution_count": null,
   "metadata": {
    "deletable": false,
    "nbgrader": {
     "cell_type": "code",
     "checksum": "5e598c3ab4f8bd7110fed902ec41cf56",
     "grade": false,
     "grade_id": "A10",
     "locked": false,
     "schema_version": 3,
     "solution": true,
     "task": false
    }
   },
   "outputs": [],
   "source": [
    "\n",
    "# YOUR CODE HERE\n",
    "output10_i = q10_list.pop(-1)\n",
    "output10_ii = q10_list"
   ]
  },
  {
   "cell_type": "code",
   "execution_count": null,
   "metadata": {
    "deletable": false,
    "editable": false,
    "nbgrader": {
     "cell_type": "code",
     "checksum": "c2e42221067efacff859068717b6921f",
     "grade": true,
     "grade_id": "test_A10-remove",
     "locked": true,
     "points": 5,
     "schema_version": 3,
     "solution": false,
     "task": false
    },
    "tags": []
   },
   "outputs": [],
   "source": [
    "# Testing Cell (Do NOT modify this cell)"
   ]
  },
  {
   "cell_type": "markdown",
   "metadata": {},
   "source": [
    "#### Question 11&nbsp;&nbsp;&nbsp;&nbsp;&nbsp;&nbsp;(10 Points)\n",
    "Starting with the following list.\n",
    "\n",
    "    -1, -2, -3, -4, -5, 6, -7, -8, -9, -10\n",
    "\n",
    "Write a Python program to transform the list above a list with two elements, each containing a list. The first element, should contain all numbers less than 0 in ascending order, while the second should contain all elements greater than 0 in ascending order. You must do this exclusively using list methods. Create a variable `output11` and assign the solution to it.\n",
    "\n",
    "***\n",
    "<details>\n",
    "  <summary><span style=\"color:blue\">Click to see Hints</span></summary>\n",
    "    \n",
    "* Use the list operations `sort()`, `pop()` and `append()` to perform this.\n",
    "</details>\n"
   ]
  },
  {
   "cell_type": "code",
   "execution_count": null,
   "metadata": {},
   "outputs": [],
   "source": [
    "q11_list = [-1, -2, -3, -4, -5, 6, -7, -8, -9, -10]"
   ]
  },
  {
   "cell_type": "code",
   "execution_count": null,
   "metadata": {
    "deletable": false,
    "nbgrader": {
     "cell_type": "code",
     "checksum": "c8afafe9b17b937d2622e9c23bc7579b",
     "grade": false,
     "grade_id": "A11",
     "locked": false,
     "schema_version": 3,
     "solution": true,
     "task": false
    }
   },
   "outputs": [],
   "source": [
    "\n",
    "# YOUR CODE HERE\n",
    "def list11(list):\n",
    "    negative = []\n",
    "    positive = []\n",
    "    result = []\n",
    "    for i in list:\n",
    "        if i < 0:\n",
    "            negative.append(i)\n",
    "        else:\n",
    "            positive.append(i)\n",
    "        \n",
    "    negative.sort()\n",
    "    positive.sort()\n",
    "    result.append(negative)\n",
    "    result.append(positive)\n",
    "        \n",
    "    return result\n",
    "\n",
    "output11 = list11(q11_list)"
   ]
  },
  {
   "cell_type": "code",
   "execution_count": null,
   "metadata": {
    "deletable": false,
    "editable": false,
    "nbgrader": {
     "cell_type": "code",
     "checksum": "1a36c6b5e57aa5fa95ddf16b1f8cd7c5",
     "grade": true,
     "grade_id": "test_A11-split",
     "locked": true,
     "points": 10,
     "schema_version": 3,
     "solution": false,
     "task": false
    },
    "tags": []
   },
   "outputs": [],
   "source": [
    "# Testing Cell (Do NOT modify this cell)"
   ]
  },
  {
   "cell_type": "markdown",
   "metadata": {},
   "source": [
    "#### Question 12&nbsp;&nbsp;&nbsp;&nbsp;&nbsp;&nbsp;(10 Points)\n",
    "Starting with the following list.\n",
    "\n",
    "    'a', 'b', 'c', 'd', 'e'\n",
    "\n",
    "Write a Python program to transform the list to the following without changing the original list and exclusively using list methods. Create a variable `output12` and assign the solution to it.\n",
    "\n",
    "    'a', 'a', 'b', 'b', 'c', 'c', 'd', 'd', 'e', 'e'"
   ]
  },
  {
   "cell_type": "code",
   "execution_count": null,
   "metadata": {},
   "outputs": [],
   "source": [
    "q12_list = ['a', 'b', 'c', 'd', 'e']"
   ]
  },
  {
   "cell_type": "code",
   "execution_count": null,
   "metadata": {
    "deletable": false,
    "nbgrader": {
     "cell_type": "code",
     "checksum": "8056c39fb8a3eec27d0cf0c97256c60c",
     "grade": false,
     "grade_id": "A12",
     "locked": false,
     "schema_version": 3,
     "solution": true,
     "task": false
    }
   },
   "outputs": [],
   "source": [
    "\n",
    "# YOUR CODE HERE\n",
    "output12 = q12_list * 2\n",
    "output12.sort()"
   ]
  },
  {
   "cell_type": "code",
   "execution_count": null,
   "metadata": {
    "deletable": false,
    "editable": false,
    "nbgrader": {
     "cell_type": "code",
     "checksum": "f2520f957f5216a1caf928be1cf2dd38",
     "grade": true,
     "grade_id": "test_A12-remove-chars",
     "locked": true,
     "points": 10,
     "schema_version": 3,
     "solution": false,
     "task": false
    },
    "tags": []
   },
   "outputs": [],
   "source": [
    "# Testing Cell (Do NOT modify this cell)"
   ]
  },
  {
   "cell_type": "markdown",
   "metadata": {},
   "source": [
    "#### Question 13&nbsp;&nbsp;&nbsp;&nbsp;&nbsp;&nbsp;(10 Points)\n",
    "Starting with the following list.\n",
    "\n",
    "    37, 60, 41, 30, \"\", 15, 59, \"\", \"\", 76, 79, 91\n",
    "    \n",
    "Write a Python program to remove all empty elements (i.e., `\"\"`) from this list (i.e., `q13_list`) exclusively using list methods that you have learnt, with a while loop. \n",
    "\n",
    "Make a copy of this list and assign it to the variable `output13`. Sort this list in descending order and remove the last element of it.\n",
    "\n",
    "***\n",
    "<details>\n",
    "  <summary><span style=\"color:blue\">Click to see Hints</span></summary>\n",
    "    \n",
    "* To remove empty elements (i.e., `\"\"`) from `q13_list` list, you will need to use `in` and `remove` list operations along with a while loop.\n",
    "</details>"
   ]
  },
  {
   "cell_type": "code",
   "execution_count": 63,
   "metadata": {},
   "outputs": [],
   "source": [
    "q13_list = [37, 60, 41, 30, \"\", 15, 59, \"\", \"\", 76, 79, 91]"
   ]
  },
  {
   "cell_type": "code",
   "execution_count": 70,
   "metadata": {
    "deletable": false,
    "nbgrader": {
     "cell_type": "code",
     "checksum": "c9f62df33802f917a9b836aeb797e3aa",
     "grade": false,
     "grade_id": "A13",
     "locked": false,
     "schema_version": 3,
     "solution": true,
     "task": false
    }
   },
   "outputs": [
    {
     "name": "stdout",
     "output_type": "stream",
     "text": [
      "[91, 79, 76, 60, 59, 41, 37, 30]\n"
     ]
    }
   ],
   "source": [
    "\n",
    "# YOUR CODE HERE\n",
    "for i in q13_list:\n",
    "    if type(i) == str:\n",
    "        q13_list.remove(i)\n",
    "output13 = q13_list\n",
    "output13.sort(reverse=True)\n",
    "output13.pop(-1)\n",
    "print(output13)"
   ]
  },
  {
   "cell_type": "code",
   "execution_count": null,
   "metadata": {
    "deletable": false,
    "editable": false,
    "nbgrader": {
     "cell_type": "code",
     "checksum": "a4c4ea68940076ab55d889b0f4bdb2e5",
     "grade": true,
     "grade_id": "test_A13-remove-empty",
     "locked": true,
     "points": 10,
     "schema_version": 3,
     "solution": false,
     "task": false
    },
    "tags": []
   },
   "outputs": [],
   "source": [
    "# Testing Cell (Do NOT modify this cell)"
   ]
  },
  {
   "cell_type": "markdown",
   "metadata": {},
   "source": [
    "#### Question 14&nbsp;&nbsp;&nbsp;&nbsp;&nbsp;&nbsp;(10 Points)\n",
    "Suppose you are given the following two lists: `q14_list1 = [1,2,3,4]` and `q14_list2 = [5,6,7,8,9,10]`.\n",
    "\n",
    "Write a Python program to transform `q14_list1` to the following using the list elements in `q14_list2` and exclusively using list methods. \n",
    "```\n",
    "[1, 2, 3, 4, [10], [5], [9], [6], [8], [7]]\n",
    "```\n",
    "\n",
    "Create a variable `output14` and assign a copy of `q14_list1` to it.\n",
    "\n",
    "***\n",
    "<details>\n",
    "  <summary><span style=\"color:blue\">Click to see Hints</span></summary>\n",
    "    \n",
    "* You will need to use `sort` and `pop` list operations to do this.\n",
    "</details>\n"
   ]
  },
  {
   "cell_type": "code",
   "execution_count": 42,
   "metadata": {},
   "outputs": [],
   "source": [
    "q14_list1 = [1,2,3,4]\n",
    "q14_list2 = [5,6,7,8,9,10]"
   ]
  },
  {
   "cell_type": "code",
   "execution_count": 43,
   "metadata": {
    "deletable": false,
    "nbgrader": {
     "cell_type": "code",
     "checksum": "2b2c74776e74a834d165c4eb4a182ea3",
     "grade": false,
     "grade_id": "A14",
     "locked": false,
     "schema_version": 3,
     "solution": true,
     "task": false
    }
   },
   "outputs": [
    {
     "name": "stdout",
     "output_type": "stream",
     "text": [
      "[1, 2, 3, 4, [10], [5], [9], [6], [8], [7]]\n"
     ]
    }
   ],
   "source": [
    "\n",
    "# YOUR CODE HERE\n",
    "q14_list2.sort(reverse=True)\n",
    "while q14_list2:\n",
    "    if q14_list2:\n",
    "        q14_list1.append([q14_list2.pop(0)])\n",
    "    if q14_list2:\n",
    "        q14_list1.append([q14_list2.pop(-1)])\n",
    "    \n",
    "output14 = q14_list1\n",
    "print(output14)\n"
   ]
  },
  {
   "cell_type": "code",
   "execution_count": null,
   "metadata": {
    "deletable": false,
    "editable": false,
    "nbgrader": {
     "cell_type": "code",
     "checksum": "a1528bad5aad09e27ea4cc9b842f5fe3",
     "grade": true,
     "grade_id": "test_A14-splice",
     "locked": true,
     "points": 10,
     "schema_version": 3,
     "solution": false,
     "task": false
    },
    "tags": []
   },
   "outputs": [],
   "source": [
    "# Testing Cell (Do NOT modify this cell)"
   ]
  },
  {
   "cell_type": "markdown",
   "metadata": {},
   "source": [
    "#### Question 15 &nbsp;&nbsp;&nbsp;&nbsp;&nbsp;&nbsp;(10 Points) \n",
    "Suppose you are given the following list.\n",
    "```\n",
    "q15_list = ['john', 'Danise', 'david', 'Kelly', 'william', 'Noah', 'jack', 'charlotte', 'mia', 'olivia']\n",
    "```\n",
    "Use the elements in this list (i.e., `q15_list`) to create the following list using list operations. Create the variable `output15` and assign the solution to it.\n",
    "\n",
    "`[['charlotte', 'DANISE', 'david'], ['jack', 'john', 'kelly', 'mia'], ['NOAH', 'olivia', 'william']]`"
   ]
  },
  {
   "cell_type": "code",
   "execution_count": null,
   "metadata": {},
   "outputs": [],
   "source": [
    "q15_list = ['john', 'Danise', 'david', 'Kelly', 'william', 'Noah', 'jack', 'charlotte', 'mia', 'olivia']"
   ]
  },
  {
   "cell_type": "code",
   "execution_count": null,
   "metadata": {
    "deletable": false,
    "nbgrader": {
     "cell_type": "code",
     "checksum": "a7c5bf521c1bc9237f866204ae1cb61a",
     "grade": false,
     "grade_id": "A15",
     "locked": false,
     "schema_version": 3,
     "solution": true,
     "task": false
    }
   },
   "outputs": [],
   "source": [
    "\n",
    "# YOUR CODE HERE\n",
    "list1 = []\n",
    "list2 = []\n",
    "list3 = []\n",
    "for i in q15_list:\n",
    "\n",
    "    i = i.lower()\n",
    "    if i.startswith(\"c\") or i.startswith(\"d\"):\n",
    "        list1.append(i)\n",
    "    elif i.startswith(\"j\") or i.startswith(\"k\") or i.startswith(\"m\"):\n",
    "        list2.append(i)\n",
    "    else:\n",
    "        list3.append(i)\n",
    "\n",
    "list1.sort()\n",
    "list2.sort()\n",
    "list3.sort()\n",
    "\n",
    "list1 = [\"DANISE\" if 'danise' in item else item for item in list1]\n",
    "list3 = [\"NOAH\" if 'noah' in item else item for item in list3]\n",
    "       \n",
    "output15 = []\n",
    "output15.append(list1)\n",
    "output15.append(list2)\n",
    "output15.append(list3)\n",
    "print(output15)"
   ]
  },
  {
   "cell_type": "code",
   "execution_count": null,
   "metadata": {
    "deletable": false,
    "editable": false,
    "nbgrader": {
     "cell_type": "code",
     "checksum": "576598e392064e3ba3c7b1ad715236d8",
     "grade": true,
     "grade_id": "test_A15-mix-case",
     "locked": true,
     "points": 10,
     "schema_version": 3,
     "solution": false,
     "task": false
    },
    "tags": []
   },
   "outputs": [],
   "source": [
    "# Testing Cell (Do NOT modify this cell)"
   ]
  },
  {
   "cell_type": "code",
   "execution_count": null,
   "metadata": {},
   "outputs": [],
   "source": []
  },
  {
   "cell_type": "markdown",
   "metadata": {},
   "source": [
    "#### Question 16 &nbsp;&nbsp;&nbsp;&nbsp;&nbsp;&nbsp;(10 Points)\n",
    "Suppose you are given the following list.\n",
    "```\n",
    "q16_list = [9, 10.1, \"John\", True, [20, \"Danise\", False, 19.1], \"David\"]\n",
    "```\n",
    "1. Check if `Danise` is in `q16_list`. Create the variable `output16_i` and assign the solution to it.\n",
    "\n",
    "2. Make a copy of `q16_list` and assign it to `output16_ii`. Clear the elements in `output16_ii` using list operations.\n",
    "\n",
    "3. Make a copy of `q16_list` and assign it to `output16_iii`. Concatenate the following list `[[1,2,3,4,5,6]]` to `output16_iii`.\n",
    "\n",
    "4. Count the number of times \"john\" appears in `q16_list`. Create the variable `output16_iv` and assign the solution to it.\n",
    "\n",
    "5. Make a copy of `q16_list` and assign it to `output16_v`. Use `output16_v` and list operations to  obtain the following list: `[9, 9 , 10.1, 10.1]`\n",
    "\n",
    "6. Make a copy of `q16_list` and assign it to `output16_vi`. Use `output16_vi` and list operations to  obtain the following list: `[[20, \"Danise\", False, 19.1], [20, \"Danise\", False, 19.1], [20, \"Danise\", False, 19.1]]`"
   ]
  },
  {
   "cell_type": "code",
   "execution_count": 14,
   "metadata": {},
   "outputs": [],
   "source": [
    "q16_list = [9, 10.1, \"John\", True, [20, \"Danise\", False, 19.1], \"David\"]"
   ]
  },
  {
   "cell_type": "code",
   "execution_count": 23,
   "metadata": {
    "deletable": false,
    "nbgrader": {
     "cell_type": "code",
     "checksum": "9c240aacf90b6f71860f4fb6c1ed8348",
     "grade": false,
     "grade_id": "A16",
     "locked": false,
     "schema_version": 3,
     "solution": true,
     "task": false
    }
   },
   "outputs": [],
   "source": [
    "\n",
    "# YOUR CODE HERE\n",
    "output16_i = 'Danise' in q16_list\n",
    "\n",
    "output16_ii = q16_list\n",
    "output16_ii = []\n",
    "\n",
    "output16_iii = q16_list + [[1,2,3,4,5,6]]\n",
    "\n",
    "output16_iv = q16_list.count('john')\n",
    "\n",
    "output16_v = []\n",
    "for i in q16_list:\n",
    "    if type(i) == int or type(i) == float:\n",
    "        output16_v.append(i)\n",
    "        output16_v.append(i)\n",
    "\n",
    "output16_v.sort()\n",
    "\n",
    "output16_vi = []\n",
    "for i in q16_list:\n",
    "    if type(i) == list:\n",
    "        output16_vi.append(i)\n",
    "        output16_vi.append(i)\n",
    "        output16_vi.append(i)"
   ]
  },
  {
   "cell_type": "code",
   "execution_count": null,
   "metadata": {
    "deletable": false,
    "editable": false,
    "nbgrader": {
     "cell_type": "code",
     "checksum": "ae7c0b51eb025452c0b0f451c7ba948e",
     "grade": true,
     "grade_id": "test_A16-names",
     "locked": true,
     "points": 10,
     "schema_version": 3,
     "solution": false,
     "task": false
    },
    "tags": []
   },
   "outputs": [],
   "source": [
    "# Testing Cell (Do NOT modify this cell)"
   ]
  }
 ],
 "metadata": {
  "hide_input": false,
  "kernelspec": {
   "display_name": "Python 3 (ipykernel)",
   "language": "python",
   "name": "python3"
  },
  "language_info": {
   "codemirror_mode": {
    "name": "ipython",
    "version": 3
   },
   "file_extension": ".py",
   "mimetype": "text/x-python",
   "name": "python",
   "nbconvert_exporter": "python",
   "pygments_lexer": "ipython3",
   "version": "3.10.11"
  },
  "nbTranslate": {
   "displayLangs": [
    "*"
   ],
   "hotkey": "alt-t",
   "langInMainMenu": true,
   "sourceLang": "en",
   "targetLang": "fr",
   "useGoogleTranslate": true
  },
  "toc": {
   "base_numbering": 1,
   "nav_menu": {},
   "number_sections": true,
   "sideBar": true,
   "skip_h1_title": false,
   "title_cell": "Table of Contents",
   "title_sidebar": "Contents",
   "toc_cell": false,
   "toc_position": {},
   "toc_section_display": true,
   "toc_window_display": false
  },
  "varInspector": {
   "cols": {
    "lenName": 16,
    "lenType": 16,
    "lenVar": 40
   },
   "kernels_config": {
    "python": {
     "delete_cmd_postfix": "",
     "delete_cmd_prefix": "del ",
     "library": "var_list.py",
     "varRefreshCmd": "print(var_dic_list())"
    },
    "r": {
     "delete_cmd_postfix": ") ",
     "delete_cmd_prefix": "rm(",
     "library": "var_list.r",
     "varRefreshCmd": "cat(var_dic_list()) "
    }
   },
   "types_to_exclude": [
    "module",
    "function",
    "builtin_function_or_method",
    "instance",
    "_Feature"
   ],
   "window_display": false
  },
  "vscode": {
   "interpreter": {
    "hash": "25874aadef85aabe6ba44d9837a84ed4392aa7fc071c995dd4da41256cf4b513"
   }
  }
 },
 "nbformat": 4,
 "nbformat_minor": 4
}
