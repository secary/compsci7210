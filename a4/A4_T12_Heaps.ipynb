{
 "cells": [
  {
   "cell_type": "markdown",
   "metadata": {},
   "source": [
    "### Instructions:\n",
    "\n",
    "- You can attempt any number of questions and in any order.  \n",
    "  See the assignment page for a description of the hurdle requirement for this assessment.\n",
    "- You may submit your practical for autograding as many times as you like to check on progress, however you will save time by checking and testing your own code before submitting.\n",
    "- Develop and check your answers in the spaces provided.\n",
    "- **Replace** the code `raise NotImplementedError()` with your solution to the question.\n",
    "- Do **NOT** remove any variables other provided markings already provided in the answer spaces.\n",
    "- Do **NOT** make any changes to this notebook outside of the spaces indicated.  \n",
    "  (If you do this, the submission system might not accept your work)\n",
    "\n",
    "### Submitting:\n",
    "\n",
    "1. Before you turn this problem in, make sure everything runs as expected by resetting this notebook.    \n",
    "   (You can do this from the menubar above by selecting `Kernel`&#8594;`Restart Kernel and Run All Cells...`)\n",
    "1. Don't forget to save your notebook after this step.\n",
    "1. Submit your .ipynb file to Gradescope via file upload or GitHub repository.\n",
    "1. You can submit as many times as needed.\n",
    "1. You **must** give your submitted file the **identical** filename to that which you downloaded without changing **any** aspects - spaces, underscores, capitalisation etc. If your operating system has changed the filename because you downloaded the file twice or more you **must** also fix this.  \n",
    "\n"
   ]
  },
  {
   "cell_type": "markdown",
   "metadata": {},
   "source": [
    "---"
   ]
  },
  {
   "cell_type": "markdown",
   "metadata": {},
   "source": [
    "# <mark style=\"background: #a48752; color: #ffffff;\" >&nbsp;A4&nbsp;</mark> Topic 12: Heaps"
   ]
  },
  {
   "cell_type": "markdown",
   "metadata": {},
   "source": [
    "#### Question 1&nbsp;&nbsp;&nbsp;&nbsp;&nbsp;&nbsp;(5 Points)\n",
    "Write a Python function, `q1_top_k_frequent()`, to return the `k` most frequent elements from a given non-empty list of words using `heapq`. The returned list should be ordered by frequency of the word.\n",
    "\n",
    "For example:\n",
    "```python\n",
    "# Given a list:\n",
    "list_ = ['yes', 'john', 'yes', 'danise', 'john', 'yes', 'john', 'yes', 'david', 'men', 'men'\n",
    "\n",
    "# The call:     \n",
    "freq = q1_top_k_frequent(list_, 3)\n",
    "     \n",
    "# returns the three most frequently occuring words:    \n",
    "['yes', 'john', 'men']       \n",
    "```"
   ]
  },
  {
   "cell_type": "code",
   "execution_count": 24,
   "metadata": {
    "ExecuteTime": {
     "end_time": "2022-03-28T08:13:13.775211Z",
     "start_time": "2022-03-28T08:13:13.754711Z"
    },
    "deletable": false,
    "nbgrader": {
     "cell_type": "code",
     "checksum": "de49466672ab96cc994d532e0879fbbc",
     "grade": false,
     "grade_id": "A1",
     "locked": false,
     "schema_version": 3,
     "solution": true,
     "task": false
    }
   },
   "outputs": [],
   "source": [
    "import heapq\n",
    "\n",
    "def q1_top_k_frequent(words, k=0):\n",
    "    ...\n",
    "    # YOUR CODE HERE\n",
    "    count_dic = {}\n",
    "    for word in words:\n",
    "        count_dic[word] = words.count(word)\n",
    "    \n",
    "    count_nums = []\n",
    "    for count in count_dic.values():\n",
    "        count_nums.append(count)\n",
    "        heapq.heapify(count_nums)\n",
    "    \n",
    "    result = []\n",
    "    largest_count_nums = heapq.nlargest(k,count_nums)\n",
    "    \n",
    "    for i in largest_count_nums:\n",
    "        for item in count_dic:\n",
    "            if count_dic[item] == i:\n",
    "                result.append(item)\n",
    "                \n",
    "    return result\n"
   ]
  },
  {
   "cell_type": "code",
   "execution_count": 25,
   "metadata": {},
   "outputs": [],
   "source": [
    "# Test case\n",
    "\n",
    "q1_lst = ['yes', 'john', 'yes', 'danise', 'john', 'yes', 'john', 'yes', 'david', 'men', 'men']\n",
    "assert q1_top_k_frequent(q1_lst, 3) == ['yes', 'john', 'men']"
   ]
  },
  {
   "cell_type": "code",
   "execution_count": null,
   "metadata": {
    "ExecuteTime": {
     "end_time": "2022-03-28T08:18:53.367624Z",
     "start_time": "2022-03-28T08:18:53.356749Z"
    },
    "deletable": false,
    "editable": false,
    "nbgrader": {
     "cell_type": "code",
     "checksum": "d04f88a964ae397f0ecc0b5d049c26cb",
     "grade": true,
     "grade_id": "test_A1-kFrequent",
     "locked": true,
     "points": 5,
     "schema_version": 3,
     "solution": false,
     "task": false
    },
    "tags": []
   },
   "outputs": [],
   "source": [
    "# Testing Cell (Do NOT modify this cell)"
   ]
  },
  {
   "cell_type": "markdown",
   "metadata": {},
   "source": [
    "#### Question 2&nbsp;&nbsp;&nbsp;&nbsp;&nbsp;&nbsp;(5 Points)\n",
    "Write a Python function `merge_lists` to merge and return three unsorted input lists into a single list using `heapq`.\n",
    "\n",
    "For example, given:\n",
    "```python\n",
    "num1 = [25, 24, 15, 4, 5, 29, 110]\n",
    "num2 = [19, 20, 11, 56, 25, 233, 154]\n",
    "num3 = [24, 26, 54, 48]\n",
    "\n",
    "sorted_merged = merge_lists (num1, num2, num3)\n",
    "\n",
    "# returns\n",
    "[4, 5, 11, 15, 19, 20, 24, 24, 25, 25, 26, 29, 48, 54, 56, 110, 154, 233]\n",
    "```\n",
    "\n",
    "Hint: Use `merge` in heapq."
   ]
  },
  {
   "cell_type": "code",
   "execution_count": 39,
   "metadata": {
    "ExecuteTime": {
     "end_time": "2022-03-28T23:24:01.886602Z",
     "start_time": "2022-03-28T23:24:01.865661Z"
    },
    "deletable": false,
    "nbgrader": {
     "cell_type": "code",
     "checksum": "81947fb789204db839ab371306f729a8",
     "grade": false,
     "grade_id": "A2",
     "locked": false,
     "schema_version": 3,
     "solution": true,
     "task": false
    }
   },
   "outputs": [],
   "source": [
    "import heapq\n",
    "\n",
    "def merge_lists (l1, l2, l3):\n",
    "    ...\n",
    "    # YOUR CODE HERE\n",
    "    l1.sort()\n",
    "    l2.sort()\n",
    "    l3.sort()\n",
    "    result = heapq.merge(l1, l2, l3)\n",
    "    return list(result)"
   ]
  },
  {
   "cell_type": "code",
   "execution_count": 38,
   "metadata": {},
   "outputs": [],
   "source": [
    "# Test case\n",
    "\n",
    "num1 = [25, 24, 15, 4, 5, 29, 110]\n",
    "num2 = [19, 20, 11, 56, 25, 233, 154]\n",
    "num3 = [24, 26, 54, 48]\n",
    "\n",
    "assert merge_lists (num1, num2, num3) == \\\n",
    "[4, 5, 11, 15, 19, 20, 24, 24, 25, 25, 26, 29, 48, 54, 56, 110, 154, 233]"
   ]
  },
  {
   "cell_type": "code",
   "execution_count": null,
   "metadata": {
    "ExecuteTime": {
     "end_time": "2022-03-28T23:06:47.614853Z",
     "start_time": "2022-03-28T23:06:47.601888Z"
    },
    "deletable": false,
    "editable": false,
    "nbgrader": {
     "cell_type": "code",
     "checksum": "12474ac509f7acec8cf02477cd69c0e4",
     "grade": true,
     "grade_id": "test_A2-merge",
     "locked": true,
     "points": 5,
     "schema_version": 3,
     "solution": false,
     "task": false
    },
    "tags": []
   },
   "outputs": [],
   "source": [
    "# Testing Cell (Do NOT modify this cell)"
   ]
  },
  {
   "cell_type": "markdown",
   "metadata": {},
   "source": [
    "#### Question 3&nbsp;&nbsp;&nbsp;&nbsp;&nbsp;&nbsp;(10 Points)\n",
    "Write a Python function called `q3_string` using instances of `heapq` to rearrange the letters of a given string so that no two identical characters are adjacent to each other and return the modified string. If it is not possible to arrange the strign so that identical characters are not adjacent, an empty string is returned.\n",
    "\n",
    "For example:\n",
    "```python\n",
    "q3_string(\"aab\")  #returns aba\n",
    "q3_string(\"aaa\")  #returns \"\"\n",
    "q3_string(\"aabb\") #returns abab or baba\n",
    "```"
   ]
  },
  {
   "cell_type": "code",
   "execution_count": 101,
   "metadata": {
    "ExecuteTime": {
     "end_time": "2022-03-28T23:25:21.296007Z",
     "start_time": "2022-03-28T23:25:21.281020Z"
    },
    "deletable": false,
    "nbgrader": {
     "cell_type": "code",
     "checksum": "e76460316ee95b5f284f6a2518548faf",
     "grade": false,
     "grade_id": "A3",
     "locked": false,
     "schema_version": 3,
     "solution": true,
     "task": false
    }
   },
   "outputs": [
    {
     "data": {
      "text/plain": [
       "''"
      ]
     },
     "execution_count": 101,
     "metadata": {},
     "output_type": "execute_result"
    }
   ],
   "source": [
    "import heapq\n",
    "\n",
    "def q3_string(S):\n",
    "    ...\n",
    "    # YOUR CODE HERE\n",
    "    string = []\n",
    "    result = ''\n",
    "    for c in S:\n",
    "        string.append(c)\n",
    "    \n",
    "\n",
    "    heapq.heapify(string)\n",
    "\n",
    "    \n",
    "    while string:\n",
    "        \n",
    "            result += heapq.heappop(string)\n",
    "            if string:\n",
    "                result += string.pop()\n",
    "\n",
    "    for i in range(len(result) - 1):\n",
    "        if result[i] == result[i+1]:\n",
    "            return ''\n",
    "\n",
    "    return result\n",
    "\n",
    "    \n",
    "\n",
    "q3_string(\"aaac\")"
   ]
  },
  {
   "cell_type": "code",
   "execution_count": 102,
   "metadata": {},
   "outputs": [],
   "source": [
    "# Test cases\n",
    "\n",
    "assert q3_string(\"aab\") == 'aba'\n",
    "assert not q3_string(\"aaa\")\n",
    "assert q3_string(\"aabb\") == 'abab' or q3_string(\"aabb\") == 'baba'"
   ]
  },
  {
   "cell_type": "code",
   "execution_count": null,
   "metadata": {
    "ExecuteTime": {
     "end_time": "2022-03-28T23:28:14.565766Z",
     "start_time": "2022-03-28T23:28:14.562767Z"
    },
    "deletable": false,
    "editable": false,
    "nbgrader": {
     "cell_type": "code",
     "checksum": "30038b0b441652ce4ef46b97651e1763",
     "grade": true,
     "grade_id": "test_A3-string",
     "locked": true,
     "points": 10,
     "schema_version": 3,
     "solution": false,
     "task": false
    }
   },
   "outputs": [],
   "source": [
    "# Testing Cell (Do NOT modify this cell)"
   ]
  },
  {
   "cell_type": "markdown",
   "metadata": {},
   "source": [
    "#### Question 4&nbsp;&nbsp;&nbsp;&nbsp;&nbsp;&nbsp;(10 Points)\n",
    "Write a Python function `q4_median`, to compute the [median](https://en.wikipedia.org/wiki/Median) of all elements in a non empty list using two instances of `heapq`. The function must return the median value as a float. \n",
    "\n",
    "You can think of the median as the \"middle\" value in a sorted list. If there are an even number of elements in the list, then the median becomes the average of the two middle values. Otherwise, the median is simply the middle value in the sorted list.\n",
    "\n",
    "The algorithmic approach is to use a min heap to contain the half of the input values greater than the current median and a max heap to contain the lower half of the input values. By keeping these two heaps balanced (either equal in size or the max heap containing one extra element if an odd number of elements have been considered), it is straight forward to find the median as the average of the roots of the heaps if an even number of values otherwise the root of the max heap.\n",
    "\n",
    "This is a popular coding challenge on sites like [leetcode](https://leetcode.com/) and numerous examples exist online. Rather than copying an existing solution, try to work through [this algorithm desciption](https://stephenjoel2k.medium.com/two-heaps-min-heap-max-heap-c3d32cbb671d) in Java and write your own implementation in Python. The advantage of using this algorithm is that, for a stream of unsorted data, a running median can be kept and performance is very good with time complexity O(n log n).\n",
    "\n",
    "For example:\n",
    "```python\n",
    "q4_median([1, 2])                #returns 1.5\n",
    "q4_median([1, 2, 3])             #returns 2.0\n",
    "q4_median([3, 2, 3, 3, 4, 1, 5]) #returns 3.0\n",
    "```"
   ]
  },
  {
   "cell_type": "code",
   "execution_count": 17,
   "metadata": {
    "ExecuteTime": {
     "end_time": "2022-03-28T23:29:22.345970Z",
     "start_time": "2022-03-28T23:29:22.329287Z"
    },
    "deletable": false,
    "nbgrader": {
     "cell_type": "code",
     "checksum": "e3ce00a789a45e10e41852941edfb9d0",
     "grade": false,
     "grade_id": "A4",
     "locked": false,
     "schema_version": 3,
     "solution": true,
     "task": false
    }
   },
   "outputs": [
    {
     "data": {
      "text/plain": [
       "2"
      ]
     },
     "execution_count": 17,
     "metadata": {},
     "output_type": "execute_result"
    }
   ],
   "source": [
    "import heapq\n",
    "\n",
    "def q4_median(li):\n",
    "    ...\n",
    "    # YOUR CODE HERE\n",
    "    li.sort()\n",
    "    heapq.heapify(li)\n",
    "\n",
    "    if len(li) % 2 == 0:\n",
    "        return 0.5*(heapq.nsmallest(1,li)[0] + heapq.nlargest(1,li)[0])\n",
    "    \n",
    "    else:\n",
    "        return li[int(0.5*(len(li) - 1))]\n",
    "q4_median([2, 1, 5, 7, 2, 0, 5])"
   ]
  },
  {
   "cell_type": "code",
   "execution_count": 7,
   "metadata": {},
   "outputs": [],
   "source": [
    "# Test cases\n",
    "\n",
    "assert q4_median([1, 2]) == 1.5\n",
    "assert q4_median([1, 2, 3]) ==  2.0\n",
    "assert q4_median([3, 2, 3, 3, 4, 1, 5]) == 3.0"
   ]
  },
  {
   "cell_type": "code",
   "execution_count": null,
   "metadata": {
    "ExecuteTime": {
     "end_time": "2022-03-28T23:31:32.251198Z",
     "start_time": "2022-03-28T23:31:32.241222Z"
    },
    "deletable": false,
    "editable": false,
    "nbgrader": {
     "cell_type": "code",
     "checksum": "869a44bdf8ea4b924387be5d0f8462e7",
     "grade": true,
     "grade_id": "test_A4-median",
     "locked": true,
     "points": 10,
     "schema_version": 3,
     "solution": false,
     "task": false
    }
   },
   "outputs": [],
   "source": [
    "# Testing Cell (Do NOT modify this cell)"
   ]
  },
  {
   "cell_type": "markdown",
   "metadata": {},
   "source": [
    "#### Question 5&nbsp;&nbsp;&nbsp;&nbsp;&nbsp;&nbsp;(10 Points)\n",
    "Suppose that you are given two sorted, ascending, equal-sized lists of integers and an integer `k`. Write a Python function, `q5_minimumpairs(num1, num2, k)`, to find the `k` number of smallest pairs `(m, n)`, which consists of one element from the first list (`m`) and one element from the second list (`n`) using `heapq` such that each pair `(m, n)` is chosen so that the sum `m + n` is as small as possible. \n",
    "\n",
    "For example:\n",
    "```python\n",
    "    q5_minimumpairs ([1,3,7], [2,4,6], 2)\n",
    "```\n",
    "should return the two smallest pairs we can create with one element each from `l1` and `l2` ordered in ascending order:\n",
    "```python\n",
    "    [[1, 2], [1, 4]]\n",
    "    # or\n",
    "    [[1, 2], [3, 2]]   \n",
    "```\n",
    "You should consider how you can use the properties of a heap and what type of heap to use to implement your solution to this problem. "
   ]
  },
  {
   "cell_type": "code",
   "execution_count": 56,
   "metadata": {
    "ExecuteTime": {
     "end_time": "2022-03-28T23:39:29.623205Z",
     "start_time": "2022-03-28T23:39:29.616253Z"
    },
    "deletable": false,
    "nbgrader": {
     "cell_type": "code",
     "checksum": "534f70c2ab0b54b2f0c860f1732b10d8",
     "grade": false,
     "grade_id": "A5",
     "locked": false,
     "schema_version": 3,
     "solution": true,
     "task": false
    }
   },
   "outputs": [
    {
     "data": {
      "text/plain": [
       "[[1, 2], [1, 4], [1, 2], [3, 2]]"
      ]
     },
     "execution_count": 56,
     "metadata": {},
     "output_type": "execute_result"
    }
   ],
   "source": [
    "import heapq\n",
    "\n",
    "def q5_minimumpairs(num1, num2, k):\n",
    "    ...\n",
    "    # YOUR CODE HERE\n",
    "    heapq.heapify(num1)\n",
    "    heapq.heapify(num2)\n",
    "    lst1 = heapq.nsmallest(2, num1)\n",
    "    lst2 = heapq.nsmallest(2, num2)\n",
    "    pairs = []\n",
    "    \n",
    "    for j in lst2:\n",
    "        pairs.append([lst1[0], j])\n",
    "    for i in lst1:\n",
    "        pairs.append([i, lst2[0]])\n",
    "            \n",
    "    return pairs\n",
    "q5_minimumpairs([1,3,7], [2,4,6], 1)"
   ]
  },
  {
   "cell_type": "code",
   "execution_count": 103,
   "metadata": {},
   "outputs": [],
   "source": [
    "# Test cases\n",
    "\n",
    "pairs = q5_minimumpairs ([1,3,7], [2,4,6], 2)\n",
    "assert pairs[0] == [1, 2] \n",
    "assert [1, 4] in pairs or [3, 2] in pairs"
   ]
  },
  {
   "cell_type": "code",
   "execution_count": null,
   "metadata": {
    "ExecuteTime": {
     "end_time": "2022-03-28T23:35:10.510048Z",
     "start_time": "2022-03-28T23:35:10.504094Z"
    },
    "deletable": false,
    "editable": false,
    "nbgrader": {
     "cell_type": "code",
     "checksum": "5babb07c046a8fcdfed86aeb53dab1ea",
     "grade": true,
     "grade_id": "test_A5-minPairs",
     "locked": true,
     "points": 10,
     "schema_version": 3,
     "solution": false,
     "task": false
    }
   },
   "outputs": [],
   "source": [
    "# Testing Cell (Do NOT modify this cell)"
   ]
  },
  {
   "cell_type": "markdown",
   "metadata": {},
   "source": [
    "#### Question 6&nbsp;&nbsp;&nbsp;&nbsp;&nbsp;&nbsp;(10 Points)\n",
    "Suppose you are given `n` ropes of different lengths (where `n > 1`), where you need to connect these ropes into one rope. The cost to connect two ropes is equal to the sum of their lengths. You need to connect the ropes with minimum cost.\n",
    "\n",
    "For example, given 4 ropes of lengths 4, 3, 2, and 6 (i.e. `[4, 3, 2, 6]`), you can connect the ropes in the following ways to get the minimum cost. \n",
    "- First, connect ropes of lengths 2 and 3. Now you have three ropes of lengths 4, 6, and 5. \n",
    "- Now connect ropes of lengths 4 and 5. Now you have two ropes of lengths 6 and 9. \n",
    "- Finally connect the two ropes and all ropes have connected.\n",
    "\n",
    "Total cost for connecting all ropes is 5 + 9 + 15 = 29. This is the optimised cost for connecting ropes. \n",
    "\n",
    "Write a function `q6_mincost(lst)`, which returns the minimum cost using a priority queue."
   ]
  },
  {
   "cell_type": "code",
   "execution_count": 116,
   "metadata": {
    "ExecuteTime": {
     "end_time": "2022-03-28T23:48:06.994956Z",
     "start_time": "2022-03-28T23:48:06.983971Z"
    },
    "deletable": false,
    "nbgrader": {
     "cell_type": "code",
     "checksum": "7b10515d772c2dff2e319dcb6b297516",
     "grade": false,
     "grade_id": "A6",
     "locked": false,
     "schema_version": 3,
     "solution": true,
     "task": false
    }
   },
   "outputs": [
    {
     "data": {
      "text/plain": [
       "90"
      ]
     },
     "execution_count": 116,
     "metadata": {},
     "output_type": "execute_result"
    }
   ],
   "source": [
    "import heapq\n",
    " \n",
    "def q6_mincost(arr):\n",
    "    ...\n",
    "    # YOUR CODE HERE\n",
    "    heapq.heapify(arr)\n",
    "    s = 0\n",
    "    while len(arr) > 1:\n",
    "        r1 = heapq.heappop(arr)\n",
    "        r2 = heapq.heappop(arr)\n",
    "        c = r1 + r2\n",
    "        heapq.heappush(arr, c)\n",
    "        s += c\n",
    "    return s\n",
    "q6_mincost([10,20,30])"
   ]
  },
  {
   "cell_type": "code",
   "execution_count": 117,
   "metadata": {},
   "outputs": [],
   "source": [
    "# Test cases\n",
    "\n",
    "assert q6_mincost([10,20,30]) == 90\n",
    "assert q6_mincost([4, 3, 2, 6]) == 29\n",
    "assert q6_mincost([1, 2, 5, 10, 35, 89]) == 224"
   ]
  },
  {
   "cell_type": "code",
   "execution_count": null,
   "metadata": {
    "ExecuteTime": {
     "end_time": "2022-03-28T23:48:11.530251Z",
     "start_time": "2022-03-28T23:48:11.519274Z"
    },
    "deletable": false,
    "editable": false,
    "nbgrader": {
     "cell_type": "code",
     "checksum": "6fd0c8c6518c1779d4782979189be1f1",
     "grade": true,
     "grade_id": "test_A6-minCost",
     "locked": true,
     "points": 10,
     "schema_version": 3,
     "solution": false,
     "task": false
    }
   },
   "outputs": [],
   "source": [
    "# Testing Cell (Do NOT modify this cell)"
   ]
  },
  {
   "cell_type": "markdown",
   "metadata": {},
   "source": [
    "#### Question 7&nbsp;&nbsp;&nbsp;&nbsp;&nbsp;&nbsp;(10 Points) \n",
    "Given a non-empty list of words, return the `k` most frequent elements using priority queues. Use the method `q7_topwords(lst, k)`, which returns the top `k` words as a list ordered by frequency. \n",
    "\n",
    "For example, given:\n",
    "```python\n",
    "q7_topwords(['green', 'blue', 'yellow', 'green', 'green', 'blue', 'blue', 'brown', 'blue', 'brown'], 2)\n",
    "\n",
    "# returns\n",
    "['blue', 'green']\n",
    "```"
   ]
  },
  {
   "cell_type": "code",
   "execution_count": 124,
   "metadata": {
    "ExecuteTime": {
     "end_time": "2022-03-29T00:40:03.117011Z",
     "start_time": "2022-03-29T00:40:03.102599Z"
    },
    "deletable": false,
    "nbgrader": {
     "cell_type": "code",
     "checksum": "60d80ca0f85da2e3d92415ac37b6ac0e",
     "grade": false,
     "grade_id": "A7",
     "locked": false,
     "schema_version": 3,
     "solution": true,
     "task": false
    }
   },
   "outputs": [
    {
     "data": {
      "text/plain": [
       "['to', 'be']"
      ]
     },
     "execution_count": 124,
     "metadata": {},
     "output_type": "execute_result"
    }
   ],
   "source": [
    "import heapq\n",
    "\n",
    "def q7_topwords(words, k):\n",
    "    ...\n",
    "    # YOUR CODE HERE\n",
    "    count_dic = {}\n",
    "    for word in words:\n",
    "        count_dic[word] = words.count(word)\n",
    "     \n",
    "    counts = []    \n",
    "    for value in count_dic.values():\n",
    "        counts.append(value)\n",
    "    heapq.heapify(counts)\n",
    "    \n",
    "    frequent_words_counts = heapq.nlargest(k, counts)\n",
    "    result = []\n",
    "\n",
    "    for word in count_dic.keys():\n",
    "        if count_dic[word] in frequent_words_counts:\n",
    "            result.append(word)\n",
    "        \n",
    "    return result\n",
    "q7_topwords([\"to\", \"be\", \"or\", \"not\", \"to\", \"be\"], 1)"
   ]
  },
  {
   "cell_type": "code",
   "execution_count": 125,
   "metadata": {},
   "outputs": [],
   "source": [
    "# Test cases\n",
    "\n",
    "assert q7_topwords([\"i\", \"love\", \"COMP_SCI_2710\", \"i\", \"love\", \"coding\"], 2) == [\"i\", \"love\"]\n",
    "\n",
    "top_words = q7_topwords([\"to\", \"be\", \"or\", \"not\", \"to\", \"be\"], 1)\n",
    "assert 'to' in top_words or 'be' in top_words\n",
    "\n",
    "top_words = q7_topwords([\"to\", \"be\", \"or\", \"not\", \"to\", \"be\"], 2)\n",
    "assert 'to' in top_words and 'be' in top_words"
   ]
  },
  {
   "cell_type": "code",
   "execution_count": null,
   "metadata": {
    "ExecuteTime": {
     "end_time": "2022-03-29T00:14:59.668116Z",
     "start_time": "2022-03-29T00:14:59.654644Z"
    },
    "deletable": false,
    "editable": false,
    "nbgrader": {
     "cell_type": "code",
     "checksum": "d6f96d2153548a02b02ae0b0591148f5",
     "grade": true,
     "grade_id": "test_A7-topWords",
     "locked": true,
     "points": 10,
     "schema_version": 3,
     "solution": false,
     "task": false
    }
   },
   "outputs": [],
   "source": [
    "# Testing Cell (Do NOT modify this cell)"
   ]
  },
  {
   "cell_type": "markdown",
   "metadata": {},
   "source": [
    "#### Question 8&nbsp;&nbsp;&nbsp;&nbsp;&nbsp;&nbsp;(15 Points) \n",
    "\n",
    "Given two class definitions `PriorityQueueNode` and `PriorityQueue`:\n",
    "\n",
    "```python\n",
    "class PriorityQueueNode:\n",
    "    def __init__(self, value, pr):\n",
    "       #your implementation\n",
    "\n",
    "# Implementation of Priority Queue\n",
    "class PriorityQueue:\n",
    "     \n",
    "    def __init__(self):\n",
    "        #your implementation\n",
    "         \n",
    "    # Method to check Priority Queue is Empty or not \n",
    "    def isEmpty(self):\n",
    "        #your implementation\n",
    "     \n",
    "    # Method to add items in priority queue according to their priority value (lowest priority first)\n",
    "    def push(self, value, priority):\n",
    "         #your implementation\n",
    "     \n",
    "    # Method to remove lowest priority item from the Priority Queue \n",
    "    # Returns the value or None if the list is empty.\n",
    "    def pop(self):\n",
    "        #your implementation\n",
    "             \n",
    "    # Method to return lowest priority node value (not removing it)\n",
    "    def peek(self):\n",
    "         #your implementation\n",
    "             \n",
    "    # Method to Traverse through priority queue and return it as a list\n",
    "    def traverse(self):\n",
    "        #your implementation\n",
    "```\n",
    "Develop a priority queue implementation using singly linked lists by completing the classes above. \n",
    "\n",
    "Create an instance `queue1` and push the values 4 (priority 1), 5 (priority 2), 6 (priority 3), 7 (priority 0) and pop once. Use `traverse` to check whether the operations have been performed correctly."
   ]
  },
  {
   "cell_type": "code",
   "execution_count": 4,
   "metadata": {
    "ExecuteTime": {
     "end_time": "2022-03-29T00:51:11.957562Z",
     "start_time": "2022-03-29T00:51:11.942572Z"
    },
    "deletable": false,
    "nbgrader": {
     "cell_type": "code",
     "checksum": "ffcdb50fe97ccc33786c0375a5f9a0e4",
     "grade": false,
     "grade_id": "A8",
     "locked": false,
     "schema_version": 3,
     "solution": true,
     "task": false
    }
   },
   "outputs": [],
   "source": [
    "class PriorityQueueNode:\n",
    "    def __init__(self, value, pr=0):\n",
    "        self.value = value\n",
    "        self.pr = pr\n",
    "        self.next = None\n",
    "\n",
    "# Implementation of Priority Queue\n",
    "class PriorityQueue:\n",
    "     \n",
    "    def __init__(self):\n",
    "        self.head = None\n",
    "         \n",
    "    # Method to check Priority Queue is Empty or not \n",
    "    # if Empty then it will return True. Otherwise False\n",
    "    def isEmpty(self):\n",
    "        return self.head == None\n",
    "     \n",
    "    # Method to add items in priority queue according to their priority value (lowest priority first)\n",
    "    def push(self, value, priority):\n",
    "        new_node = PriorityQueueNode(value, priority)\n",
    "        if self.isEmpty() or self.head.pr > priority:\n",
    "            new_node.next = self.head\n",
    "            self.head = new_node\n",
    "            \n",
    "        else:\n",
    "            curr = self.head\n",
    "            while curr.next and curr.next.pr <= priority:\n",
    "                curr = curr.next\n",
    "            new_node.next = curr.next\n",
    "            curr.next = new_node\n",
    "                \n",
    "     \n",
    "    # Method to remove lowest priority item from the Priority Queue\n",
    "    def pop(self):\n",
    "        if self.isEmpty():\n",
    "            raise ValueError('Empty Queue')\n",
    "        else:\n",
    "            curr = self.head\n",
    "            self.head = self.head.next\n",
    "            return curr.value\n",
    "             \n",
    "    # Method to return lowest priority node value (not removing it)\n",
    "    def peek(self):\n",
    "        return self.head.value\n",
    "            \n",
    "             \n",
    "    # Method to Traverse through priority queue and retrun it as a list\n",
    "    def traverse(self):\n",
    "        curr = self.head\n",
    "        lst = []\n",
    "        while curr:\n",
    "            lst.append(curr.value)\n",
    "            curr = curr.next\n",
    "        return lst\n",
    "\n",
    "    \n",
    "# YOUR CODE HERE"
   ]
  },
  {
   "cell_type": "code",
   "execution_count": 5,
   "metadata": {},
   "outputs": [],
   "source": [
    "# Test cases\n",
    "\n",
    "queue1 = PriorityQueue()\n",
    "\n",
    "assert queue1.isEmpty()\n",
    "\n",
    "queue1.push(4, 1)\n",
    "queue1.push(5, 2)\n",
    "queue1.push(6, 3)\n",
    "queue1.push(7, 0)\n",
    "assert queue1.traverse() == [7, 4, 5, 6]\n",
    "assert not queue1.isEmpty()\n",
    "\n",
    "# Now pop the priority 0 item\n",
    "assert queue1.pop() == 7\n",
    "\n",
    "# And check...\n",
    "assert queue1.traverse() == [4, 5, 6]\n",
    "\n",
    "queue2 = PriorityQueue()\n",
    "queue2.push(1, 5)\n",
    "queue2.push(2, 3)\n",
    "queue2.push(3, 1)\n",
    "queue2.push(4, 2)\n",
    "assert queue2.peek() == 3\n",
    "\n",
    "queue3 = PriorityQueue()\n",
    "queue3.push(\"apple\", 1)\n",
    "queue3.push(\"banana\", 2)\n",
    "queue3.push(\"cherry\", 1)\n",
    "\n",
    "# Note that \"cherry\" pushed past \"apple\"\n",
    "assert queue3.traverse() == [\"apple\", \"cherry\", \"banana\"]"
   ]
  },
  {
   "cell_type": "code",
   "execution_count": null,
   "metadata": {
    "ExecuteTime": {
     "end_time": "2022-03-29T00:44:15.950238Z",
     "start_time": "2022-03-29T00:44:15.933283Z"
    },
    "deletable": false,
    "editable": false,
    "nbgrader": {
     "cell_type": "code",
     "checksum": "e1b5331b40e5dfa1735800e25cb19f54",
     "grade": true,
     "grade_id": "test_A8-priority",
     "locked": true,
     "points": 15,
     "schema_version": 3,
     "solution": false,
     "task": false
    },
    "tags": []
   },
   "outputs": [],
   "source": [
    "# Testing Cell (Do NOT modify this cell)"
   ]
  },
  {
   "cell_type": "markdown",
   "metadata": {},
   "source": [
    "#### Question 9&nbsp;&nbsp;&nbsp;&nbsp;&nbsp;&nbsp;(10 Points)\n",
    "\n",
    "Write a function `q9_mostfrequent (arr, k)` using priority queues that finds the `k` numbers having the greatest frequency in an input array `arr`. If two numbers have the same frequency, then the larger number should be given preference. The numbers should be displayed in **decreasing** order of their frequencies. \n",
    "\n",
    "For example:\n",
    "```python\n",
    "assert q9_mostfrequent([3, 1, 4, 4, 5, 2, 6, 1], 2) == [4, 1]\n",
    "\n",
    "assert q9_mostfrequent([1, 1, 2, 2], 1) == [2]\n",
    "# because equal frequency and 2 > 1\n",
    "```"
   ]
  },
  {
   "cell_type": "code",
   "execution_count": 107,
   "metadata": {},
   "outputs": [
    {
     "data": {
      "text/plain": [
       "[1, 2, 3]"
      ]
     },
     "execution_count": 107,
     "metadata": {},
     "output_type": "execute_result"
    }
   ],
   "source": [
    "\n",
    "class CountQueue:\n",
    "     \n",
    "    def __init__(self):\n",
    "        self.head = None\n",
    "         \n",
    "    # Method to check Priority Queue is Empty or not \n",
    "    # if Empty then it will return True. Otherwise False\n",
    "    def isEmpty(self):\n",
    "        return self.head == None\n",
    "     \n",
    "    # Method to add items in priority queue according to their priority value (lowest priority first)\n",
    "    def push(self, value, priority):\n",
    "        new_node = PriorityQueueNode(value, priority)\n",
    "        if self.isEmpty() or self.head.pr < priority:\n",
    "            new_node.next = self.head\n",
    "            self.head = new_node\n",
    "        else:\n",
    "            curr = self.head\n",
    "            prev = None\n",
    "            while curr and curr.pr >= priority:\n",
    "                prev = curr\n",
    "                curr = curr.next\n",
    "            if prev:\n",
    "                prev.next = new_node\n",
    "            new_node.next = curr\n",
    "            \n",
    "    def pop(self):\n",
    "        if self.isEmpty():\n",
    "            raise ValueError('Empty Queue')\n",
    "        else:\n",
    "            curr = self.head\n",
    "            self.head = self.head.next\n",
    "            return curr.value\n",
    "\n",
    "    def traverse(self):\n",
    "        curr = self.head\n",
    "        lst = []\n",
    "        while curr:\n",
    "            lst.append(curr.value)\n",
    "            curr = curr.next\n",
    "        return lst\n",
    "    \n",
    "    def traverse_c(self):\n",
    "        curr = self.head\n",
    "        lst = []\n",
    "        while curr:\n",
    "            lst.append(curr.pr)\n",
    "            curr = curr.next\n",
    "        return lst\n",
    "    \n",
    "\n",
    "            \n",
    "\n",
    "def q9_mostfrequent(arr, k):\n",
    "    ...\n",
    "    # YOUR CODE HERE\n",
    "    count_dic = {}\n",
    "    count_queue = CountQueue()\n",
    "    for num in arr:\n",
    "        count_dic[num] = arr.count(num)\n",
    "    for key, value in count_dic.items():\n",
    "        count_queue.push(key, value)\n",
    "    \n",
    "    return count_queue.traverse()\n",
    "q9_mostfrequent([1,1,1,2,2,3], 2)"
   ]
  },
  {
   "cell_type": "code",
   "execution_count": 3,
   "metadata": {
    "ExecuteTime": {
     "end_time": "2022-03-29T00:54:49.136543Z",
     "start_time": "2022-03-29T00:54:49.117557Z"
    },
    "deletable": false,
    "nbgrader": {
     "cell_type": "code",
     "checksum": "6d98768d46577e63cb83f72179cf2e17",
     "grade": false,
     "grade_id": "A9",
     "locked": false,
     "schema_version": 3,
     "solution": true,
     "task": false
    }
   },
   "outputs": [
    {
     "data": {
      "text/plain": [
       "[1, 2]"
      ]
     },
     "execution_count": 3,
     "metadata": {},
     "output_type": "execute_result"
    }
   ],
   "source": [
    "from heapq import heappush, heappop\n",
    "def q9_mostfrequent(arr, k):\n",
    "    ...\n",
    "    # YOUR CODE HERE\n",
    "\n",
    "    # 统计每个元素出现的次数\n",
    "    count_dic = {}\n",
    "    for num in arr:\n",
    "        if num in count_dic:\n",
    "            count_dic[num] += 1\n",
    "        else:\n",
    "            count_dic[num] = 1\n",
    "    \n",
    "    # 使用一个最小堆来管理频率和元素值\n",
    "    heap = []\n",
    "    for num, freq in count_dic.items():\n",
    "        # 注意：由于 heapq 是最小堆，而我们需要最大堆，所以插入时使用负值\n",
    "        heappush(heap, (-freq, -num))\n",
    "    \n",
    "    # 提取前 k 个元素\n",
    "    result = []\n",
    "    for _ in range(k):\n",
    "        freq, num = heappop(heap)\n",
    "        result.append(-num)\n",
    "    \n",
    "    return result\n",
    "q9_mostfrequent([1,1,1,2,2,3], 2)"
   ]
  },
  {
   "cell_type": "code",
   "execution_count": 2,
   "metadata": {},
   "outputs": [],
   "source": [
    "# Test cases\n",
    "\n",
    "assert q9_mostfrequent([1,1,1,2,2,3], 2) == [1, 2]\n",
    "\n",
    "assert q9_mostfrequent([1,1,2,2,3], 1) == [2]\n",
    "\n",
    "assert q9_mostfrequent([1,2,3,4,5], 3) == [5, 4, 3]"
   ]
  },
  {
   "cell_type": "code",
   "execution_count": null,
   "metadata": {
    "ExecuteTime": {
     "end_time": "2022-03-29T00:52:31.001297Z",
     "start_time": "2022-03-29T00:52:30.997308Z"
    },
    "deletable": false,
    "editable": false,
    "nbgrader": {
     "cell_type": "code",
     "checksum": "74b263ad8f80382625bb5b049738b0e8",
     "grade": true,
     "grade_id": "test_A9-mostFrequent",
     "locked": true,
     "points": 10,
     "schema_version": 3,
     "solution": false,
     "task": false
    }
   },
   "outputs": [],
   "source": [
    "# Testing Cell (Do NOT modify this cell)\n",
    "# Hidden test cases"
   ]
  },
  {
   "cell_type": "markdown",
   "metadata": {},
   "source": [
    "#### Question 10&nbsp;&nbsp;&nbsp;&nbsp;&nbsp;&nbsp;(15 Points)\n",
    "Given an unsorted integer list, write a function `q10_find (nums, target)` to find a pair of numbers in `nums` with the given sum `target` in it using hash maps. Return the (first) matching pair as a tuple or `False` if no matching pair is found.\n",
    "\n",
    "For example, given `q10_find([8, 7, 2, 5, 3, 1], 10)`, the output should be `(8, 2)`."
   ]
  },
  {
   "cell_type": "code",
   "execution_count": 54,
   "metadata": {
    "ExecuteTime": {
     "end_time": "2022-03-29T01:18:35.258063Z",
     "start_time": "2022-03-29T01:18:35.236899Z"
    },
    "deletable": false,
    "nbgrader": {
     "cell_type": "code",
     "checksum": "4cbb2893df1d1ef80870f530cf68a2cc",
     "grade": false,
     "grade_id": "A10",
     "locked": false,
     "schema_version": 3,
     "solution": true,
     "task": false
    }
   },
   "outputs": [],
   "source": [
    "def q10_find(nums, target):\n",
    "    ...\n",
    "    # YOUR CODE HERE\n",
    "    result = {}\n",
    "    for num in nums:\n",
    "        value = target - num\n",
    "        if value in result:\n",
    "            return (num, value)\n",
    "        result[num] = True\n",
    "    return False"
   ]
  },
  {
   "cell_type": "code",
   "execution_count": 55,
   "metadata": {},
   "outputs": [],
   "source": [
    "# Test case\n",
    "\n",
    "# Transform to sets for comparison to avoid awkwardness about order in the tuple.\n",
    "assert set(q10_find([8, 7, 2, 5, 3, 1], 10)) == {8, 2}"
   ]
  },
  {
   "cell_type": "code",
   "execution_count": 51,
   "metadata": {},
   "outputs": [
    {
     "name": "stdout",
     "output_type": "stream",
     "text": [
      "(8, 2)\n"
     ]
    }
   ],
   "source": []
  },
  {
   "cell_type": "code",
   "execution_count": null,
   "metadata": {
    "ExecuteTime": {
     "end_time": "2022-03-29T01:16:06.709957Z",
     "start_time": "2022-03-29T01:16:06.707452Z"
    },
    "deletable": false,
    "editable": false,
    "nbgrader": {
     "cell_type": "code",
     "checksum": "8e3cf4c37d0dd4d8f569f0fb0069c958",
     "grade": true,
     "grade_id": "test_A10-find",
     "locked": true,
     "points": 15,
     "schema_version": 3,
     "solution": false,
     "task": false
    },
    "tags": []
   },
   "outputs": [],
   "source": [
    "# Testing Cell (Do NOT modify this cell)"
   ]
  }
 ],
 "metadata": {
  "hide_input": false,
  "kernelspec": {
   "display_name": "Python 3 (ipykernel)",
   "language": "python",
   "name": "python3"
  },
  "language_info": {
   "codemirror_mode": {
    "name": "ipython",
    "version": 3
   },
   "file_extension": ".py",
   "mimetype": "text/x-python",
   "name": "python",
   "nbconvert_exporter": "python",
   "pygments_lexer": "ipython3",
   "version": "3.10.11"
  },
  "nbTranslate": {
   "displayLangs": [
    "*"
   ],
   "hotkey": "alt-t",
   "langInMainMenu": true,
   "sourceLang": "en",
   "targetLang": "fr",
   "useGoogleTranslate": true
  },
  "toc": {
   "base_numbering": 1,
   "nav_menu": {},
   "number_sections": true,
   "sideBar": true,
   "skip_h1_title": false,
   "title_cell": "Table of Contents",
   "title_sidebar": "Contents",
   "toc_cell": false,
   "toc_position": {},
   "toc_section_display": true,
   "toc_window_display": false
  },
  "varInspector": {
   "cols": {
    "lenName": 16,
    "lenType": 16,
    "lenVar": 40
   },
   "kernels_config": {
    "python": {
     "delete_cmd_postfix": "",
     "delete_cmd_prefix": "del ",
     "library": "var_list.py",
     "varRefreshCmd": "print(var_dic_list())"
    },
    "r": {
     "delete_cmd_postfix": ") ",
     "delete_cmd_prefix": "rm(",
     "library": "var_list.r",
     "varRefreshCmd": "cat(var_dic_list()) "
    }
   },
   "types_to_exclude": [
    "module",
    "function",
    "builtin_function_or_method",
    "instance",
    "_Feature"
   ],
   "window_display": false
  }
 },
 "nbformat": 4,
 "nbformat_minor": 4
}
