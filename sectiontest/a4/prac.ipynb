{
 "cells": [
  {
   "cell_type": "code",
   "execution_count": 3,
   "metadata": {},
   "outputs": [],
   "source": [
    "class Node:\n",
    "    def __init__(self, data):\n",
    "        self.data = data\n",
    "        self.next = None"
   ]
  },
  {
   "cell_type": "code",
   "execution_count": 15,
   "metadata": {},
   "outputs": [],
   "source": [
    "class KnittingList: \n",
    "    '''\n",
    "    Singly linked list holding Node objects.\n",
    "    '''\n",
    "    def __init__(self) -> None:\n",
    "        self.head = None\n",
    "\n",
    "    def knit (self, node_list_1, node_list_2) -> None:\n",
    "        '''\n",
    "        Accepts two lists of Node objects and adds them\n",
    "        to the list in an alternating pattern i.e.\n",
    "        the nodes are appended to the list like this:\n",
    "\n",
    "            node_list_1[0]\n",
    "            node_list_2[0]\n",
    "            node_list_1[1]\n",
    "            node_list_2[1]\n",
    "            ...\n",
    "            \n",
    "        '''\n",
    "        if self.head is None:\n",
    "            self.head = node_list_1[0]\n",
    "            curr = self.head\n",
    "        else:\n",
    "            curr = self.head\n",
    "            while curr.next:\n",
    "                curr = curr.next\n",
    "        for node1, node2 in zip(node_list_1, node_list_2):\n",
    "            curr.next = node1\n",
    "            curr = curr.next\n",
    "            curr.next = node2\n",
    "            curr = curr.next\n",
    "    \n",
    "    \n",
    "    def knitted_node_data (self) -> list:\n",
    "        '''\n",
    "        Returns a list of node data by traversing the list\n",
    "        and adding the data held in each node to a returned\n",
    "        list.\n",
    "        '''\n",
    "        lst = []\n",
    "        curr = self.head\n",
    "        while curr:\n",
    "            lst.append(curr.data)\n",
    "            curr = curr.next\n",
    "        return lst"
   ]
  },
  {
   "cell_type": "code",
   "execution_count": 16,
   "metadata": {},
   "outputs": [],
   "source": [
    "list1 = [Node(c) for c in 'Cdn steay']\n",
    "list2 = [Node(c) for c in 'oigi hrp!']\n",
    "\n",
    "ll = KnittingList()\n",
    "ll.knit (list1, list2)\n",
    "\n",
    "list1 = [Node(c) for c in ' ep']\n",
    "list2 = [Node(c) for c in 'Hl!']\n",
    "\n",
    "ll.knit (list1, list2)\n",
    "\n",
    "assert ll.knitted_node_data() == list('Coding is therapy! Help!')"
   ]
  },
  {
   "cell_type": "code",
   "execution_count": 23,
   "metadata": {},
   "outputs": [],
   "source": [
    "class Stack:\n",
    "    def __init__(self) -> None:\n",
    "        self.head = None\n",
    "        \n",
    "    def isempty(self) -> bool:\n",
    "        return self.head is None\n",
    "    \n",
    "    def push(self, value) -> None:\n",
    "        new_node = Node(value)\n",
    "        new_node.next = self.head\n",
    "        self.head = new_node\n",
    "        \n",
    "    def push_all(self, values) -> None:\n",
    "        for value in values:\n",
    "            self.push(value)\n",
    "    \n",
    "    def pop(self):\n",
    "        if self.isempty():\n",
    "            raise ValueError('Empty Stack')\n",
    "        else:\n",
    "            pop = self.head.data\n",
    "            self.head = self.head.next\n",
    "        return pop\n",
    "    \n",
    "    def traverse(self) -> list:\n",
    "        curr = self.head\n",
    "        while curr:\n",
    "            lst = [curr.data]\n",
    "            curr = curr.next\n",
    "        return lst"
   ]
  },
  {
   "cell_type": "code",
   "execution_count": 24,
   "metadata": {},
   "outputs": [
    {
     "data": {
      "text/plain": [
       "'elpmiS si retteb naht .xelpmoc xelpmoC si retteb naht .detacilpmoc'"
      ]
     },
     "execution_count": 24,
     "metadata": {},
     "output_type": "execute_result"
    }
   ],
   "source": [
    "def reverse(string):\n",
    "    ''' \n",
    "    Iterates through space separated words in a sentence and\n",
    "    uses a stack to reverse each individual word (and following\n",
    "    punctuation) before returning the fully processed sentence.\n",
    "    '''\n",
    "    words = string.split()\n",
    "    word_stack = Stack()\n",
    "    reversed_str = ''\n",
    "    for word in words:\n",
    "        word_stack.push_all(word)\n",
    "        while not word_stack.isempty():\n",
    "            reversed_str += word_stack.pop()\n",
    "        reversed_str += ' '\n",
    "        \n",
    "    return reversed_str.strip()\n",
    "\n",
    "str1 = 'Simple is better than complex. Complex is better than complicated.'\n",
    "reverse(str1)"
   ]
  },
  {
   "cell_type": "code",
   "execution_count": 25,
   "metadata": {},
   "outputs": [
    {
     "data": {
      "text/plain": [
       "'Jupiter'"
      ]
     },
     "execution_count": 25,
     "metadata": {},
     "output_type": "execute_result"
    }
   ],
   "source": [
    "import heapq\n",
    "\n",
    "# Planetary mass in 10^24kg\n",
    "masses = {\n",
    " 'Earth': 5.97,\n",
    " 'Jupiter': 1898.0,\n",
    " 'Mars': 0.642,\n",
    " 'Mercury': 0.33,\n",
    " 'Neptune': 102,\n",
    " 'Saturn': 568,\n",
    " 'Uranus': 86.8,\n",
    " 'Venus': 4.87\n",
    " }\n",
    "\n",
    "def max_mass(masses: dict):\n",
    "    mass_heap = []\n",
    "    for value in masses.values():\n",
    "        heapq.heappush(mass_heap, -value)\n",
    "    \n",
    "    max_value = -heapq.heappop(mass_heap)\n",
    "    for name in masses.keys():\n",
    "        if masses[name] == max_value:\n",
    "            return name\n",
    "        \n",
    "max_mass(masses)"
   ]
  },
  {
   "cell_type": "code",
   "execution_count": 37,
   "metadata": {},
   "outputs": [
    {
     "data": {
      "text/plain": [
       "['Mercury', 'Venus', 'Earth', 'Mars', 'Jupiter', 'Saturn', 'Uranus', 'Neptune']"
      ]
     },
     "execution_count": 37,
     "metadata": {},
     "output_type": "execute_result"
    }
   ],
   "source": [
    "planets = [\n",
    "    ('Earth',149.6),\n",
    "    ('Jupiter', 778.5),\n",
    "    ('Mars', 228.0),\n",
    "    ('Mercury', 57.9),\n",
    "    ('Neptune', 4515),\n",
    "    ('Saturn', 1432),\n",
    "    ('Uranus', 2867.0),\n",
    "    ('Venus', 108.2)] \n",
    "\n",
    "class PriorityQueue:\n",
    "    def __init__(self) -> None:\n",
    "        self.heap = []\n",
    "        \n",
    "    def push(self, item, priority) -> None:\n",
    "        heapq.heappush(self.heap, (priority, item))\n",
    "        \n",
    "    def traverse(self) -> list:\n",
    "        lst = []\n",
    "        while self.heap:\n",
    "            lst.append(heapq.heappop(self.heap))\n",
    "        return lst\n",
    "    \n",
    "def min_distance(value: list):\n",
    "    pq1 = PriorityQueue()\n",
    "    for item in value:\n",
    "        pq1.push(item[0],item[1])\n",
    "    return [item[1] for item in pq1.traverse()]\n",
    "\n",
    "min_distance(planets)"
   ]
  },
  {
   "cell_type": "code",
   "execution_count": 38,
   "metadata": {},
   "outputs": [],
   "source": [
    "import uuid\n",
    "\n",
    "class Block:\n",
    "    def __init__(self, size):\n",
    "        # The size of a block defines how much memory it makes available.\n",
    "        self.size = size\n",
    "        # The id is a very long, unique number that identifies the block.\n",
    "        self.id = uuid.uuid4()\n",
    "\n",
    "    def __lt__(self, block):\n",
    "        return self.size < block.size\n",
    "    \n",
    "    def __str__ (self):\n",
    "        return f'b: {self.id}, s: {self.size}'"
   ]
  },
  {
   "cell_type": "code",
   "execution_count": 57,
   "metadata": {},
   "outputs": [
    {
     "name": "stdout",
     "output_type": "stream",
     "text": [
      "b: 2d5dc220-3f8a-4310-9dc3-cc929f415142, s: 10\n"
     ]
    }
   ],
   "source": [
    "class HeapManager:\n",
    "\n",
    "    def __init__(self, initial_blocks_sizes):\n",
    "        '''\n",
    "        Accepts a list of initial_blocks_sizes like:\n",
    "\n",
    "            [100, 20, 50, 10]\n",
    "\n",
    "        and creates instances of Block (size) before adding them\n",
    "        to the heap.    \n",
    "        '''\n",
    "        self.block_sizes = initial_blocks_sizes\n",
    "        heapq.heapify(self.block_sizes)\n",
    "        self.allocate_dic = {}\n",
    "    \n",
    "    def allocate (self, size):\n",
    "        '''\n",
    "        Finds the smallest matching Block on the heap, marks this\n",
    "        as allocated in the dictionary of allocated blocks and\n",
    "        returns the Block.\n",
    "\n",
    "        If no block of sufficient size is available, None is returned.\n",
    "        '''\n",
    "        if size > max(heapq.nlargest(len(self.block_sizes), self.block_sizes)):\n",
    "            return None\n",
    "        \n",
    "        temp_sizes = []\n",
    "        while size > self.block_sizes[0]:\n",
    "            heapq.heappush(temp_sizes, heapq.heappop(self.block_sizes))\n",
    "            \n",
    "        block = Block(heapq.heappop(self.block_sizes))\n",
    "        self.allocate_dic[block.id] = block.size\n",
    "        \n",
    "        while self.block_sizes:\n",
    "            heapq.heappush(temp_sizes, heapq.heappop(self.block_sizes))\n",
    "        \n",
    "        self.block_sizes = temp_sizes\n",
    "        return block\n",
    "        \n",
    "    def deallocate (self, block: Block):\n",
    "        '''\n",
    "        Adds the Block to the heap and removes it from the\n",
    "        dictionary of allocated blocks.\n",
    "        '''\n",
    "        heapq.heappush(self.block_sizes, block.size)\n",
    "        self.allocate_dic[block.id] = None\n",
    "        \n",
    "        \n",
    "    def list_free_block_sizes (self):\n",
    "        '''\n",
    "        Return a list of the block sizes of the unallocated blocks.\n",
    "        '''\n",
    "        return self.block_sizes"
   ]
  },
  {
   "cell_type": "code",
   "execution_count": 58,
   "metadata": {},
   "outputs": [],
   "source": [
    "heap = HeapManager ([100, 50, 20, 10])\n",
    "# Initial block sizes\n",
    "assert set(heap.list_free_block_sizes()) == {10, 50, 20, 100}\n",
    "\n",
    "block = heap.allocate (21)\n",
    "# The 50 block is allocated because it is the smallest block >= 21\n",
    "assert set(heap.list_free_block_sizes()) == {10, 100, 20}\n",
    "\n",
    "block = heap.allocate (5)\n",
    "# The 10 block is allocated because it is the smallest block >= 5\n",
    "assert set(heap.list_free_block_sizes()) == {100, 20}\n",
    "\n",
    "heap.deallocate(block)\n",
    "# Give back the 10 block\n",
    "assert set(heap.list_free_block_sizes()) == {10, 100, 20}\n",
    "\n",
    "block = heap.allocate (105)\n",
    "# Allocation fails and the heap is unchanged\n",
    "assert block == None\n",
    "assert set(heap.list_free_block_sizes()) == {100, 20, 10}"
   ]
  }
 ],
 "metadata": {
  "kernelspec": {
   "display_name": "Python 3",
   "language": "python",
   "name": "python3"
  },
  "language_info": {
   "codemirror_mode": {
    "name": "ipython",
    "version": 3
   },
   "file_extension": ".py",
   "mimetype": "text/x-python",
   "name": "python",
   "nbconvert_exporter": "python",
   "pygments_lexer": "ipython3",
   "version": "3.10.11"
  }
 },
 "nbformat": 4,
 "nbformat_minor": 2
}
