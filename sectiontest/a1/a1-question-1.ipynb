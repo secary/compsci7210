{
 "cells": [
  {
   "attachments": {},
   "cell_type": "markdown",
   "id": "e235f7e0-9183-42d5-b67f-9c36c3af65ff",
   "metadata": {},
   "source": [
    "# <mark style=\"background: #02a2d5; color: #ffffff;\" >&nbsp;A1&nbsp;</mark> Question 1\n",
    "\n",
    "1. You may freely modify the notebook - adding/changing cells as required.\n",
    "1. You are encouraged **not** to clear the output of your executed code before submitting in order to demonstrate testing of your solution."
   ]
  },
  {
   "cell_type": "code",
   "execution_count": 2,
   "id": "5cf9993d-b957-4c64-acc0-0b1877280450",
   "metadata": {},
   "outputs": [
    {
     "name": "stdin",
     "output_type": "stream",
     "text": [
      "Enter temperature in degrees Celsius: 20.5\n"
     ]
    },
    {
     "name": "stdout",
     "output_type": "stream",
     "text": [
      "Temperature in degrees Fahrenheit is 68.9\n"
     ]
    }
   ],
   "source": [
    "c = float(input(\"Enter temperature in degrees Celsius:\"))\n",
    "f = c * 1.8 + 32\n",
    "print('Temperature in degrees Fahrenheit is '+str(f))"
   ]
  },
  {
   "cell_type": "code",
   "execution_count": null,
   "id": "5200c071-de48-48af-b64a-8bc0e9f22b6c",
   "metadata": {},
   "outputs": [],
   "source": []
  }
 ],
 "metadata": {
  "kernelspec": {
   "display_name": "Python 3 (ipykernel)",
   "language": "python",
   "name": "python3"
  },
  "language_info": {
   "codemirror_mode": {
    "name": "ipython",
    "version": 3
   },
   "file_extension": ".py",
   "mimetype": "text/x-python",
   "name": "python",
   "nbconvert_exporter": "python",
   "pygments_lexer": "ipython3",
   "version": "3.11.7"
  }
 },
 "nbformat": 4,
 "nbformat_minor": 5
}
