{
 "cells": [
  {
   "attachments": {},
   "cell_type": "markdown",
   "id": "e235f7e0-9183-42d5-b67f-9c36c3af65ff",
   "metadata": {},
   "source": [
    "# <mark style=\"background: #02a2d5; color: #ffffff;\" >&nbsp;A1&nbsp;</mark> Question 3\n",
    "\n",
    "1. You may freely modify the notebook - adding/changing cells as required.\n",
    "1. You are encouraged **not** to clear the output of your executed code before submitting in order to demonstrate testing of your solution."
   ]
  },
  {
   "cell_type": "code",
   "execution_count": 7,
   "id": "5cf9993d-b957-4c64-acc0-0b1877280450",
   "metadata": {},
   "outputs": [
    {
     "name": "stdin",
     "output_type": "stream",
     "text": [
      "Enter the number of hours: 30\n"
     ]
    },
    {
     "data": {
      "text/plain": [
       "'Total pay is 1500'"
      ]
     },
     "execution_count": 7,
     "metadata": {},
     "output_type": "execute_result"
    }
   ],
   "source": [
    "h = input(\"Enter the number of hours:\")\n",
    "def payment(hours):\n",
    "    hours = int(hours)\n",
    "    result = ''\n",
    "    if hours < 0:\n",
    "        result += 'input error'\n",
    "    elif hours > 40:\n",
    "        result += \"too many hours, need approval\"\n",
    "    elif hours > 30:\n",
    "        result += \"Total pay is \" + str(hours * 50 + 100)\n",
    "    else:\n",
    "        result += \"Total pay is \" + str(hours * 50)\n",
    "    return result\n",
    "\n",
    "payment(h)"
   ]
  },
  {
   "cell_type": "code",
   "execution_count": null,
   "id": "5200c071-de48-48af-b64a-8bc0e9f22b6c",
   "metadata": {},
   "outputs": [],
   "source": [
    "\n"
   ]
  }
 ],
 "metadata": {
  "kernelspec": {
   "display_name": "Python 3 (ipykernel)",
   "language": "python",
   "name": "python3"
  },
  "language_info": {
   "codemirror_mode": {
    "name": "ipython",
    "version": 3
   },
   "file_extension": ".py",
   "mimetype": "text/x-python",
   "name": "python",
   "nbconvert_exporter": "python",
   "pygments_lexer": "ipython3",
   "version": "3.11.7"
  }
 },
 "nbformat": 4,
 "nbformat_minor": 5
}
