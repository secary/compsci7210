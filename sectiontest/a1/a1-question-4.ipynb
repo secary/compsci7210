{
 "cells": [
  {
   "attachments": {},
   "cell_type": "markdown",
   "id": "e235f7e0-9183-42d5-b67f-9c36c3af65ff",
   "metadata": {},
   "source": [
    "# <mark style=\"background: #02a2d5; color: #ffffff;\" >&nbsp;A1&nbsp;</mark> Question 4\n",
    "\n",
    "1. You may freely modify the notebook - adding/changing cells as required.\n",
    "1. You are encouraged **not** to clear the output of your executed code before submitting in order to demonstrate testing of your solution."
   ]
  },
  {
   "cell_type": "code",
   "execution_count": 10,
   "id": "5cf9993d-b957-4c64-acc0-0b1877280450",
   "metadata": {},
   "outputs": [
    {
     "name": "stdin",
     "output_type": "stream",
     "text": [
      "Enter number:  9\n",
      "Enter number:  12\n",
      "Enter number:  12.5\n"
     ]
    },
    {
     "name": "stdout",
     "output_type": "stream",
     "text": [
      "Sum is: 21\n"
     ]
    }
   ],
   "source": [
    "n = input(\"Enter number: \")\n",
    "output = ''\n",
    "sum = 0\n",
    "\n",
    "while n:\n",
    "    if n.isnumeric() and int(n) == float(n):\n",
    "        sum += int(n)\n",
    "        output += f'Enter number: {n}'\n",
    "        n = input(\"Enter number: \")\n",
    "    else:\n",
    "        break\n",
    "result = 'Sum is: ' + str(sum)\n",
    "print(result)\n"
   ]
  },
  {
   "cell_type": "code",
   "execution_count": null,
   "id": "5200c071-de48-48af-b64a-8bc0e9f22b6c",
   "metadata": {},
   "outputs": [],
   "source": []
  },
  {
   "cell_type": "code",
   "execution_count": null,
   "id": "90a78bcf-3cca-4f1c-951e-1186166283e0",
   "metadata": {},
   "outputs": [],
   "source": []
  }
 ],
 "metadata": {
  "kernelspec": {
   "display_name": "Python 3 (ipykernel)",
   "language": "python",
   "name": "python3"
  },
  "language_info": {
   "codemirror_mode": {
    "name": "ipython",
    "version": 3
   },
   "file_extension": ".py",
   "mimetype": "text/x-python",
   "name": "python",
   "nbconvert_exporter": "python",
   "pygments_lexer": "ipython3",
   "version": "3.11.7"
  }
 },
 "nbformat": 4,
 "nbformat_minor": 5
}
