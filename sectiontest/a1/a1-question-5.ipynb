{
 "cells": [
  {
   "attachments": {},
   "cell_type": "markdown",
   "id": "e235f7e0-9183-42d5-b67f-9c36c3af65ff",
   "metadata": {},
   "source": [
    "# <mark style=\"background: #02a2d5; color: #ffffff;\" >&nbsp;A1&nbsp;<\\mark> Question 5\n",
    "\n",
    "1. You may freely modify the notebook - adding\\changing cells as required.\n",
    "1. You are encouraged **not** to clear the output of your executed code before submitting in order to demonstrate testing of your solution."
   ]
  },
  {
   "cell_type": "code",
   "execution_count": null,
   "id": "5cf9993d-b957-4c64-acc0-0b1877280450",
   "metadata": {},
   "outputs": [
    {
     "name": "stdout",
     "output_type": "stream",
     "text": [
      "Where would you like to place your toy on the 2D coordinate grid?\n"
     ]
    },
    {
     "name": "stdin",
     "output_type": "stream",
     "text": [
      "Enter x:  0\n",
      "Enter y:  1\n",
      "Enter direction:  up\n"
     ]
    },
    {
     "name": "stdout",
     "output_type": "stream",
     "text": [
      "New location: x=0, y=2\n",
      "-------------------------------\n"
     ]
    },
    {
     "name": "stdin",
     "output_type": "stream",
     "text": [
      "Enter direction:  up\n"
     ]
    },
    {
     "name": "stdout",
     "output_type": "stream",
     "text": [
      "New location: x=0, y=3\n",
      "-------------------------------\n"
     ]
    }
   ],
   "source": [
    "result = \"Where would you like to place your toy on the 2D coordinate grid?\"\n",
    "print(result)\n",
    "x = input(\"Enter x: \")\n",
    "y = input(\"Enter y: \")\n",
    "location_h=int(x)\n",
    "location_v=int(y)\n",
    "\n",
    "while x:\n",
    "    location_h=location_h\n",
    "    location_v=location_v\n",
    "    direction = input(\"Enter direction: \")\n",
    "    if direction == \"up\":\n",
    "        location_v += 1\n",
    "        output = \"New location: x=\" + str(location_h) + \", y=\" + str(location_v) +\"\\n-------------------------------\"        \n",
    "    elif direction == \"down\":\n",
    "        location_v -= 1\n",
    "        output =\"New location: x=\" + str(location_h) + \", y=\" + str(location_v) +\"\\n-------------------------------\"\n",
    "    elif direction == \"right\":\n",
    "        location_h += 1\n",
    "        output =\"New location: x=\" +  str(location_h) + \", y=\" + str(location_v) +\"\\n-------------------------------\"\n",
    "    elif direction == \"left\":\n",
    "        location_h -= 1\n",
    "        output =\"New location: x=\" +  str(location_h) + \", y=\" + str(location_v) +\"\\n-------------------------------\"\n",
    "    elif direction == \"end\":\n",
    "        output = \"See you next time!\"\n",
    "        print(output)\n",
    "        break\n",
    "    else:\n",
    "        output = \"unsupported operation\"\n",
    "    print(output)"
   ]
  },
  {
   "cell_type": "code",
   "execution_count": null,
   "id": "5200c071-de48-48af-b64a-8bc0e9f22b6c",
   "metadata": {},
   "outputs": [],
   "source": []
  }
 ],
 "metadata": {
  "kernelspec": {
   "display_name": "Python 3 (ipykernel)",
   "language": "python",
   "name": "python3"
  },
  "language_info": {
   "codemirror_mode": {
    "name": "ipython",
    "version": 3
   },
   "file_extension": ".py",
   "mimetype": "text/x-python",
   "name": "python",
   "nbconvert_exporter": "python",
   "pygments_lexer": "ipython3",
   "version": "3.11.7"
  }
 },
 "nbformat": 4,
 "nbformat_minor": 5
}
