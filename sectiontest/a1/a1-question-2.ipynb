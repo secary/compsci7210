{
 "cells": [
  {
   "attachments": {},
   "cell_type": "markdown",
   "id": "e235f7e0-9183-42d5-b67f-9c36c3af65ff",
   "metadata": {},
   "source": [
    "# <mark style=\"background: #02a2d5; color: #ffffff;\" >&nbsp;A1&nbsp;</mark> Question 2\n",
    "\n",
    "1. You may freely modify the notebook - adding/changing cells as required.\n",
    "1. You are encouraged **not** to clear the output of your executed code before submitting in order to demonstrate testing of your solution."
   ]
  },
  {
   "cell_type": "code",
   "execution_count": 1,
   "id": "5cf9993d-b957-4c64-acc0-0b1877280450",
   "metadata": {},
   "outputs": [
    {
     "name": "stdout",
     "output_type": "stream",
     "text": [
      "129\n"
     ]
    }
   ],
   "source": [
    "sentence = \"The University of Adelaide (informally Adelaide University) is a public research university located in Adelaide, South Australia.\"\n",
    "print(len(sentence))"
   ]
  },
  {
   "cell_type": "code",
   "execution_count": 1,
   "id": "5200c071-de48-48af-b64a-8bc0e9f22b6c",
   "metadata": {},
   "outputs": [
    {
     "ename": "NameError",
     "evalue": "name 'sentence' is not defined",
     "output_type": "error",
     "traceback": [
      "\u001b[1;31m---------------------------------------------------------------------------\u001b[0m",
      "\u001b[1;31mNameError\u001b[0m                                 Traceback (most recent call last)",
      "Cell \u001b[1;32mIn[1], line 17\u001b[0m\n\u001b[0;32m     14\u001b[0m         i \u001b[38;5;241m+\u001b[39m\u001b[38;5;241m=\u001b[39m \u001b[38;5;241m1\u001b[39m\n\u001b[0;32m     16\u001b[0m     \u001b[38;5;28;01mreturn\u001b[39;00m b_count\n\u001b[1;32m---> 17\u001b[0m \u001b[38;5;28mprint\u001b[39m(capital_check()\u001b[38;5;241m==\u001b[39m\u001b[38;5;241m0\u001b[39m)\n",
      "Cell \u001b[1;32mIn[1], line 4\u001b[0m, in \u001b[0;36mcapital_check\u001b[1;34m()\u001b[0m\n\u001b[0;32m      2\u001b[0m i \u001b[38;5;241m=\u001b[39m \u001b[38;5;241m0\u001b[39m\n\u001b[0;32m      3\u001b[0m b_count \u001b[38;5;241m=\u001b[39m \u001b[38;5;241m0\u001b[39m\n\u001b[1;32m----> 4\u001b[0m \u001b[38;5;28;01mwhile\u001b[39;00m i \u001b[38;5;241m<\u001b[39m\u001b[38;5;241m=\u001b[39m \u001b[38;5;28mlen\u001b[39m(sentence)\u001b[38;5;241m-\u001b[39m\u001b[38;5;241m1\u001b[39m:\n\u001b[0;32m      5\u001b[0m     \u001b[38;5;28;01mif\u001b[39;00m i \u001b[38;5;241m==\u001b[39m \u001b[38;5;241m0\u001b[39m \u001b[38;5;129;01mand\u001b[39;00m sentence[i]\u001b[38;5;241m.\u001b[39misupper():\n\u001b[0;32m      6\u001b[0m         b_count \u001b[38;5;241m=\u001b[39m \u001b[38;5;241m0\u001b[39m\n",
      "\u001b[1;31mNameError\u001b[0m: name 'sentence' is not defined"
     ]
    }
   ],
   "source": [
    "def capital_check():\n",
    "    i = 0\n",
    "    b_count = 0\n",
    "    while i <= len(sentence)-1:\n",
    "        if i == 0 and sentence[i].isupper():\n",
    "            b_count = 0\n",
    "        elif i == 0 and sentence[i].isupper() == False:\n",
    "            b_count += 1\n",
    "        if i !=0 and sentence[i-1].isalpha() == False:\n",
    "            if sentence[i].isupper():\n",
    "                b_count += 0\n",
    "            else:\n",
    "                b_count +=1\n",
    "        i += 1\n",
    "\n",
    "    return b_count\n",
    "print(capital_check()==0)\n",
    "    "
   ]
  },
  {
   "cell_type": "code",
   "execution_count": 18,
   "id": "a8bb42ea-fb99-426d-a2a4-84187757ea5a",
   "metadata": {},
   "outputs": [
    {
     "data": {
      "text/plain": [
       "3"
      ]
     },
     "execution_count": 18,
     "metadata": {},
     "output_type": "execute_result"
    }
   ],
   "source": [
    "sentence.lower().count(\"university\")"
   ]
  },
  {
   "cell_type": "code",
   "execution_count": 20,
   "id": "8e1f604a-6690-445f-b2cb-9a2c4f1c7825",
   "metadata": {},
   "outputs": [
    {
     "data": {
      "text/plain": [
       "'The University of Adelaide (informally Adelaide University) is a public research uni located in Adelaide, South Australia.'"
      ]
     },
     "execution_count": 20,
     "metadata": {},
     "output_type": "execute_result"
    }
   ],
   "source": [
    "sentence.replace(\"university\",\"uni\")"
   ]
  },
  {
   "cell_type": "code",
   "execution_count": 22,
   "id": "a6d615a3-44a0-4d25-ab3b-e4187af00928",
   "metadata": {},
   "outputs": [
    {
     "name": "stdout",
     "output_type": "stream",
     "text": [
      "The sentence does not contain only letters of the alphabet\n"
     ]
    }
   ],
   "source": [
    "if sentence.isalpha():\n",
    "    print(\"The sentence contains only letters of the alphabet\")\n",
    "else:\n",
    "    print(\"The sentence does not contain only letters of the alphabet\")"
   ]
  }
 ],
 "metadata": {
  "kernelspec": {
   "display_name": "Python 3 (ipykernel)",
   "language": "python",
   "name": "python3"
  },
  "language_info": {
   "codemirror_mode": {
    "name": "ipython",
    "version": 3
   },
   "file_extension": ".py",
   "mimetype": "text/x-python",
   "name": "python",
   "nbconvert_exporter": "python",
   "pygments_lexer": "ipython3",
   "version": "3.11.7"
  }
 },
 "nbformat": 4,
 "nbformat_minor": 5
}
