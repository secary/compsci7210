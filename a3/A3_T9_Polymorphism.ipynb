{
 "cells": [
  {
   "cell_type": "markdown",
   "metadata": {},
   "source": [
    "### Instructions:\n",
    "\n",
    "- You can attempt any number of questions and in any order.  \n",
    "  See the assignment page for a description of the hurdle requirement for this assessment.\n",
    "- You may submit your practical for autograding as many times as you like to check on progress, however you will save time by checking and testing your own code before submitting.\n",
    "- Develop and check your answers in the spaces provided.\n",
    "- **Replace** the code `raise NotImplementedError()` with your solution to the question.\n",
    "- Do **NOT** remove any variables other provided markings already provided in the answer spaces.\n",
    "- Do **NOT** make any changes to this notebook outside of the spaces indicated.  \n",
    "  (If you do this, the submission system might not accept your work)\n",
    "\n",
    "### Submitting:\n",
    "\n",
    "1. Before you turn this problem in, make sure everything runs as expected by resetting this notebook.    \n",
    "   (You can do this from the menubar above by selecting `Kernel`&#8594;`Restart Kernel and Run All Cells...`)\n",
    "1. Don't forget to save your notebook after this step.\n",
    "1. Submit your .ipynb file to Gradescope via file upload or GitHub repository.\n",
    "1. You can submit as many times as needed.\n",
    "1. You **must** give your submitted file the **identical** filename to that which you downloaded without changing **any** aspects - spaces, underscores, capitalisation etc. If your operating system has changed the filename because you downloaded the file twice or more you **must** also fix this.  \n",
    "\n"
   ]
  },
  {
   "cell_type": "markdown",
   "metadata": {},
   "source": [
    "---"
   ]
  },
  {
   "cell_type": "markdown",
   "metadata": {},
   "source": [
    "#### Question 1&nbsp;&nbsp;&nbsp;&nbsp;&nbsp;&nbsp;(25 Points)\n",
    "\n",
    "Let's take a look at imaginary numbers in Python! A complex number is represented as:\n",
    "```python\n",
    "    a + bi\n",
    "```    \n",
    "where `a` and `b` are real numbers and `i` is the square root of -1.\n",
    "\n",
    "Even though we have a library `cmath` in python, for this question let's leverage the power of operator overloading to create a complex number class and perform various mathematical operations. \n",
    "\n",
    "Create a class `ComplexNumber` and overload the following methods:\n",
    "1. `__add__` - xAXAddition of two complex numbers\n",
    "\n",
    "`(a + bi) + (c + di) = (a+c) + (b+d)i`\n",
    "\n",
    "2. `__sub__` - Subtraction of two complex numbers\n",
    "\n",
    "```(a + bi) - (c + di) = (a-c) + (b-d)i```\n",
    "\n",
    "3. `__mul__` - Multiplication of two complex numbers\n",
    "\n",
    "```(a + bi) * (c + di) = (ac−bd) + (ad+bc)i```\n",
    "\n",
    "4. `__truediv__` - Division of two complex numbers\n",
    "\n",
    "```(a + bi) / (c + di) = ([(ac + bd) + (bc − ad)i]/(c^2 + d^2)```\n",
    "\n",
    "5. `__str__` - Provide a string representation like \"4.00 - 2.00i\"\n",
    "\n",
    "For example:\n",
    "```python\n",
    "c1 = ComplexNumber(1, 2)\n",
    "c2 = ComplexNumber(3, -4)\n",
    "print(c1 + c2)\n",
    "print(c1 - c2)\n",
    "print(c1 * c2)\n",
    "print(c1 / c2)\n",
    "```\n",
    "would produce:\n",
    "```python\n",
    "'4.00 - 2.00i'\n",
    "'-2.00 + 6.00i'\n",
    "'11.00 + 2.00i'\n",
    "'-0.20 + 0.40i'\n",
    "```"
   ]
  },
  {
   "cell_type": "markdown",
   "metadata": {},
   "source": [
    "# <mark style=\"background: #917fa9; color: #ffffff;\" >&nbsp;A3&nbsp;</mark> Topic 9:  Polymorphism"
   ]
  },
  {
   "cell_type": "code",
   "execution_count": 28,
   "metadata": {
    "deletable": false,
    "nbgrader": {
     "cell_type": "code",
     "checksum": "c61e18651077026db92a4286b0684593",
     "grade": false,
     "grade_id": "A1",
     "locked": false,
     "schema_version": 3,
     "solution": true,
     "task": false
    }
   },
   "outputs": [
    {
     "name": "stdout",
     "output_type": "stream",
     "text": [
      "11.0 + 2.0i\n"
     ]
    }
   ],
   "source": [
    "class ComplexNumber:\n",
    "    def __init__(self, real:float, imag:float):\n",
    "        self.re = round(float(real),2)\n",
    "        self.im = round(float(imag),2)\n",
    "        \n",
    "# YOUR CODE HERE\n",
    "    def __str__(self) -> str:\n",
    "        if self.im < 0:\n",
    "            return f'{self.re} - {abs(self.im)}i'\n",
    "        return  f'{self.re} + {self.im}i'\n",
    "    \n",
    "    def __add__(self, other:object) -> object:\n",
    "        return ComplexNumber(self.re + other.re, self.im + other.im)\n",
    "        \n",
    "    def __sub__(self, other:object) -> object:\n",
    "        return ComplexNumber(self.re - other.re, self.im - other.im)\n",
    "    \n",
    "    def __mul__(self, other:object) -> object:\n",
    "        return ComplexNumber(self.re * other.re - self.im * other.im, self.re * other.im + self.im * other.re)\n",
    "    \n",
    "    def __truediv__(self, other:object) -> object:\n",
    "        a = self.re\n",
    "        b = self.im \n",
    "        c = other.re\n",
    "        d = other.im\n",
    "        re = (a*c + b*d)/(c**2 + d**2)\n",
    "        im = (b*c - a*d)/(c**2 + d**2)\n",
    "        return ComplexNumber(re,im)\n",
    "\n",
    "    \n",
    "\n",
    "    \n",
    "c1 = ComplexNumber(1, 2)\n",
    "c2 = ComplexNumber(3, -4)\n",
    "\n",
    "print(c1 * c2)"
   ]
  },
  {
   "cell_type": "code",
   "execution_count": null,
   "metadata": {
    "deletable": false,
    "editable": false,
    "nbgrader": {
     "cell_type": "code",
     "checksum": "b6f6b86796292adf3b406fec5dc19fdb",
     "grade": true,
     "grade_id": "test_A1-complexNumber",
     "locked": true,
     "points": 25,
     "schema_version": 3,
     "solution": false,
     "task": false
    }
   },
   "outputs": [],
   "source": [
    "# Testing Cell (DO NOT MODIFY THIS CELL)"
   ]
  },
  {
   "cell_type": "markdown",
   "metadata": {},
   "source": [
    "#### Question 2&nbsp;&nbsp;&nbsp;&nbsp;&nbsp;&nbsp;(25 Points)\n",
    "\n",
    "Let's suppose we have a class `Shape` that helps us calculate the area of various shapes. Implement a method `area` in the class that takes in two or more arguments depending on the shape and returns the area for that shape.\n",
    "\n",
    "The class supports the method `area(geometry, *args)` where valid geometries passed as a string are: \n",
    " - Square: `area = args[0]^2` \n",
    " - Rectangle: `area = args[0] * args[1]` \n",
    " - Triangle: `area = 0.5 * args[0] * args[1]` \n",
    " - Trapezoid: `area = (args[0] + args[1]) * args[2] / 2` \n",
    " - Circle: `area = pi * args[0]^2`<br />\n",
    "with the method returning the area as expressed by the formulas above."
   ]
  },
  {
   "cell_type": "code",
   "execution_count": 8,
   "metadata": {
    "deletable": false,
    "nbgrader": {
     "cell_type": "code",
     "checksum": "6721a59a9a2aad0363527fa7d3580485",
     "grade": false,
     "grade_id": "A2",
     "locked": false,
     "schema_version": 3,
     "solution": true,
     "task": false
    }
   },
   "outputs": [
    {
     "data": {
      "text/plain": [
       "78.53981633974483"
      ]
     },
     "execution_count": 8,
     "metadata": {},
     "output_type": "execute_result"
    }
   ],
   "source": [
    "import math\n",
    "from math import pi\n",
    "from typing import Any\n",
    "class Shape():\n",
    "    ...\n",
    "    \n",
    "# YOUR CODE HERE\n",
    "            \n",
    "    def area(self,geomerty,*args:Any) -> float:\n",
    "        if geomerty == 'Square':\n",
    "            area = args[0] ** 2\n",
    "            \n",
    "        if geomerty == 'Rectangle':\n",
    "            if args[1]:\n",
    "                area = args[0] * args[1]\n",
    "            else:\n",
    "                raise ValueError(f'Missing length(s) for {self.shape}')\n",
    "            \n",
    "        if geomerty == 'Triangle':\n",
    "            if args[1]:\n",
    "                area = 0.5 * args[0] * args[1]\n",
    "            else:\n",
    "                raise ValueError(f'Missing length(s) for {self.shape}')\n",
    "            \n",
    "        if geomerty == 'Trapezoid':\n",
    "            if args[1] and args[2]:\n",
    "                area = (args[0] + args[1]) * args[2] / 2\n",
    "                \n",
    "        if geomerty == 'Circle':\n",
    "            area = math.pi * args[0] ** 2\n",
    "            \n",
    "        return area\n",
    "    \n",
    "circle1 = Shape()\n",
    "circle1.area('Circle',5)"
   ]
  },
  {
   "cell_type": "code",
   "execution_count": null,
   "metadata": {
    "deletable": false,
    "editable": false,
    "nbgrader": {
     "cell_type": "code",
     "checksum": "0d64d0f1e1b112545ec046d655ab62bb",
     "grade": true,
     "grade_id": "test_A2-shape",
     "locked": true,
     "points": 25,
     "schema_version": 3,
     "solution": false,
     "task": false
    }
   },
   "outputs": [],
   "source": [
    "# Testing Cell (DO NOT MODIFY THIS CELL)"
   ]
  },
  {
   "cell_type": "markdown",
   "metadata": {},
   "source": [
    "#### Question 3&nbsp;&nbsp;&nbsp;&nbsp;&nbsp;&nbsp;(25 Points)\n",
    "\n",
    "Somewhere in the universe there was runtime polymorphism in Python code...\n",
    "\n",
    "Replicate inheritance of properties of the universe in code following the natural order of things as specified below:\n",
    "\n",
    "- All classs have two methods - `composition` and `size`.\n",
    "\n",
    "- Everthing in our universe is made up of atoms - so `composition()`, when called on any object of any class of any inheritance shall always return a string `'Made up of atoms'`.\n",
    "\n",
    "- The method `size()` returns a string `'size-x'` where `x` is specified for all classes below with details as follows: \n",
    "\n",
    "class `Sheldon` returns 'size-6Ft'\n",
    "\n",
    "which inherits from\n",
    "\n",
    "class `Earth` returns 'size-6371Km'\n",
    "\n",
    "which inherits from \n",
    "\n",
    "class` SolarSystem` returns 'size-80AU'\n",
    "\n",
    "which inherits from \n",
    "\n",
    "class `MilkyWayGalaxy` returns 'size-52850LY'\n",
    "\n",
    "which inherits from \n",
    "\n",
    "class `VirgoSupercluster` returns 'size-55MillionLY'\n",
    "\n",
    "which inherits from \n",
    "\n",
    "class `Universe` returns 'size-PinHead'.\n",
    "\n",
    "Thus, the class `Universe` is the *root* of the class hierarchy.\n"
   ]
  },
  {
   "cell_type": "code",
   "execution_count": 7,
   "metadata": {
    "deletable": false,
    "nbgrader": {
     "cell_type": "code",
     "checksum": "95941fcdec52b324b15dd02a6deb0730",
     "grade": false,
     "grade_id": "A3",
     "locked": false,
     "schema_version": 3,
     "solution": true,
     "task": false
    }
   },
   "outputs": [
    {
     "data": {
      "text/plain": [
       "'size-6Ft'"
      ]
     },
     "execution_count": 7,
     "metadata": {},
     "output_type": "execute_result"
    }
   ],
   "source": [
    "\n",
    "# YOUR CODE HERE\n",
    "class Universe():\n",
    "    \n",
    "    def composition(self):\n",
    "        return 'Made up of atoms'\n",
    "    \n",
    "    def size(self):\n",
    "        return 'size-PinHead'\n",
    "    \n",
    "class VirgoSupercluster(Universe):\n",
    "    \n",
    "    def size(self):\n",
    "        return 'size-55MillionLY'\n",
    "    \n",
    "class MilkyWayGalaxy(VirgoSupercluster):\n",
    "    \n",
    "    def size(self):\n",
    "        return 'size-52850LY'\n",
    "    \n",
    "class SolarSystem(MilkyWayGalaxy):\n",
    "    \n",
    "    def size(self):\n",
    "        return 'size-80AU'\n",
    "    \n",
    "class Earth(SolarSystem):\n",
    "    \n",
    "    def size(self):\n",
    "        return 'size-6371Km'\n",
    "    \n",
    "class Sheldon(Earth):\n",
    "    \n",
    "    def size(self):\n",
    "        return 'size-6Ft'\n",
    "    \n",
    "def print_size(universe):\n",
    "    return universe.size()\n",
    "\n",
    "sheldon = Sheldon()\n",
    "print_size(sheldon)"
   ]
  },
  {
   "cell_type": "code",
   "execution_count": null,
   "metadata": {
    "deletable": false,
    "editable": false,
    "nbgrader": {
     "cell_type": "code",
     "checksum": "3afb5fe3726662b09cb74c6ea61a9c99",
     "grade": true,
     "grade_id": "test_A3-universe",
     "locked": true,
     "points": 25,
     "schema_version": 3,
     "solution": false,
     "task": false
    }
   },
   "outputs": [],
   "source": [
    "# Testing Cell (DO NOT MODIFY THIS CELL)"
   ]
  },
  {
   "cell_type": "markdown",
   "metadata": {},
   "source": [
    "#### Question 4&nbsp;&nbsp;&nbsp;&nbsp;&nbsp;&nbsp;(25 Points)\n",
    "Let's examine multiple inheritance and runtime polymorphism with attention to Method Resolution Order (MRO).\n",
    "\n",
    "First we will define two bases classes with specified methods: \n",
    "\n",
    "1. Class `Location` \n",
    "\n",
    "    - `country()` - returns \"Country where this location belongs to.\"\n",
    "    - `description()` - returns \"Parent class for runtime Polymorphism.\"<br /><br />\n",
    "2. Class `India`\n",
    "\n",
    "    - `country()` - returns \"India.\"\n",
    "    - `description()` - returns \"Home to over 100 languages.\"\n",
    "    \n",
    "    \n",
    "All of the following classes inherit from `Location` and `India` using multiple inheritance. By choosing the order of inheritance, you influence the MRO. Adjust this until each of the following three classes returns the correct strings:\n",
    "\n",
    "3. Class `NewDelhi` \n",
    "\n",
    "    - `country()` - returns \"Country where this location belongs to.\"\n",
    "    - `description()` - returns \"Home to the Worlds Tallest Brick Structure.\"\n",
    "\n",
    "\n",
    "4. Class `Jaipur` \n",
    "\n",
    "    - `country()` - returns \"India.\"\n",
    "    - `description()` - returns \"The Pink City!\"\n",
    "\n",
    "\n",
    "5. Class `Nainital` \n",
    "\n",
    "    - `country()` - returns \"India.\"\n",
    "    - `description()` - returns \"Lake District of India.\"\n"
   ]
  },
  {
   "cell_type": "code",
   "execution_count": 14,
   "metadata": {
    "deletable": false,
    "nbgrader": {
     "cell_type": "code",
     "checksum": "22934d10971827ba51c180a80750d70e",
     "grade": false,
     "grade_id": "A4",
     "locked": false,
     "schema_version": 3,
     "solution": true,
     "task": false
    }
   },
   "outputs": [
    {
     "data": {
      "text/plain": [
       "'India'"
      ]
     },
     "execution_count": 14,
     "metadata": {},
     "output_type": "execute_result"
    }
   ],
   "source": [
    "\n",
    "# YOUR CODE HERE\n",
    "class Location():\n",
    "    def country(self):\n",
    "        return 'Country where this location belongs to.'\n",
    "    \n",
    "    def description(self):\n",
    "        return 'Parent class for runtime Polymorphism.'\n",
    "    \n",
    "class India():\n",
    "    def country(self):\n",
    "        return 'India.'\n",
    "    \n",
    "    def description(self):\n",
    "        return 'Home to over 100 languages.'\n",
    "    \n",
    "class NewDelhi(Location,India):\n",
    "    def description(self):\n",
    "        return \"Home to the Worlds Tallest Brick Structure.\"\n",
    "    \n",
    "class Jaipur(India,Location):\n",
    "    def description(self):\n",
    "        return \"The Pink City!\"\n",
    "    \n",
    "class Nainital(India,Location):\n",
    "    def description(self):\n",
    "        return \"Lake District of India.\"\n",
    "\n",
    "jp = Jaipur()\n",
    "jp.country()"
   ]
  },
  {
   "cell_type": "code",
   "execution_count": null,
   "metadata": {
    "deletable": false,
    "editable": false,
    "nbgrader": {
     "cell_type": "code",
     "checksum": "3018401de7e02ac3c246b73f93ba8390",
     "grade": true,
     "grade_id": "test_A4-Location",
     "locked": true,
     "points": 25,
     "schema_version": 3,
     "solution": false,
     "task": false
    }
   },
   "outputs": [],
   "source": [
    "# Testing Cell (DO NOT MODIFY THIS CELL)"
   ]
  }
 ],
 "metadata": {
  "hide_input": false,
  "interpreter": {
   "hash": "b6213e0af081d56db034f795ff49d96980936e2ae540dda57fc6c3cbea6a5fc9"
  },
  "kernelspec": {
   "display_name": "Python 3 (ipykernel)",
   "language": "python",
   "name": "python3"
  },
  "language_info": {
   "codemirror_mode": {
    "name": "ipython",
    "version": 3
   },
   "file_extension": ".py",
   "mimetype": "text/x-python",
   "name": "python",
   "nbconvert_exporter": "python",
   "pygments_lexer": "ipython3",
   "version": "3.10.11"
  },
  "nbTranslate": {
   "displayLangs": [
    "*"
   ],
   "hotkey": "alt-t",
   "langInMainMenu": true,
   "sourceLang": "en",
   "targetLang": "fr",
   "useGoogleTranslate": true
  },
  "toc": {
   "base_numbering": 1,
   "nav_menu": {},
   "number_sections": true,
   "sideBar": true,
   "skip_h1_title": false,
   "title_cell": "Table of Contents",
   "title_sidebar": "Contents",
   "toc_cell": false,
   "toc_position": {},
   "toc_section_display": true,
   "toc_window_display": false
  },
  "varInspector": {
   "cols": {
    "lenName": 16,
    "lenType": 16,
    "lenVar": 40
   },
   "kernels_config": {
    "python": {
     "delete_cmd_postfix": "",
     "delete_cmd_prefix": "del ",
     "library": "var_list.py",
     "varRefreshCmd": "print(var_dic_list())"
    },
    "r": {
     "delete_cmd_postfix": ") ",
     "delete_cmd_prefix": "rm(",
     "library": "var_list.r",
     "varRefreshCmd": "cat(var_dic_list()) "
    }
   },
   "types_to_exclude": [
    "module",
    "function",
    "builtin_function_or_method",
    "instance",
    "_Feature"
   ],
   "window_display": false
  }
 },
 "nbformat": 4,
 "nbformat_minor": 4
}
