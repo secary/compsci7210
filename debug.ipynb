{
 "cells": [
  {
   "cell_type": "code",
   "execution_count": 2,
   "metadata": {},
   "outputs": [
    {
     "name": "stdout",
     "output_type": "stream",
     "text": [
      "[0, 1, 1, 2, 3, 5, 8, 13, 21, 34, 55]\n"
     ]
    }
   ],
   "source": [
    "def fibonaci(n):\n",
    "    result = [\n",
    "    i = 0\n",
    "    while result[i] < n:  \n",
    "        i += 1\n",
    "        result.append(result[i]+result[i-)\n",
    "        \n",
    "        \n",
    "    return result\n",
    "\n",
    "outputi = fibonaci()\n",
    "print(outputi)"
   ]
  },
  {
   "cell_type": "code",
   "execution_count": 22,
   "metadata": {},
   "outputs": [],
   "source": [
    "qlist = [1,2,3,4,5]   \n",
    "qlist.reverse()\n",
    "output= qlist[:-1]"
   ]
  },
  {
   "cell_type": "code",
   "execution_count": 13,
   "metadata": {},
   "outputs": [],
   "source": [
    "def fun(x):\n",
    "    if x%==\n",
    "        print (\"fizzbuzz\")\n",
    "    if x%=\n",
    "        print (\"buzz\")\n",
    "    if x%=\n",
    "        print(\"fizz\")\n",
    "        "
   ]
  },
  {
   "cell_type": "code",
   "execution_count": 16,
   "metadata": {},
   "outputs": [
    {
     "name": "stdout",
     "output_type": "stream",
     "text": [
      "fizzbuzz\n",
      "buzz\n",
      "fizz\n"
     ]
    }
   ],
   "source": [
    "fun(x=3)"
   ]
  },
  {
   "cell_type": "code",
   "execution_count": 26,
   "metadata": {},
   "outputs": [
    {
     "data": {
      "text/plain": [
       "float"
      ]
     },
     "execution_count": 26,
     "metadata": {},
     "output_type": "execute_result"
    }
   ],
   "source": [
    "\n",
    "num = \"24\"\n",
    "\n",
    "def fun1():\n",
    "    global num\n",
    "    num = int(num)\n",
    "    \n",
    "def fun2():\n",
    "    global num\n",
    "    num = float(num)\n",
    "    \n",
    "def fun3():\n",
    "    global num\n",
    "    float(num)\n",
    "\n",
    "def fun_calling():\n",
    "    fun1()\n",
    "    fun2()\n",
    "    fun3()\n",
    "    return type(num)\n",
    "    \n",
    "int(num)\n",
    "\n",
    "fun_calling()"
   ]
  },
  {
   "cell_type": "code",
   "execution_count": 2,
   "metadata": {},
   "outputs": [
    {
     "name": "stdout",
     "output_type": "stream",
     "text": [
      "<class 'NoneType'>\n"
     ]
    }
   ],
   "source": [
    "x=5    \n",
    "def fun(x):\n",
    "    x=x*2\n",
    "y= fun(x)\n",
    "print(type(y))"
   ]
  },
  {
   "cell_type": "code",
   "execution_count": 13,
   "metadata": {},
   "outputs": [],
   "source": [
    "s = 'mdj#is#super#sb'\n",
    "def q5(s):\n",
    "    result = []\n",
    "    i = 0\n",
    "    for i in range(len(s) - 1):\n",
    "        if s[i] == '#':\n",
    "            result.append(s[:i])\n",
    "            s = s[i+1:]\n",
    "            i = 0\n",
    "        else:\n",
    "            i += 1\n",
    "    result.append(s)\n",
    "    return result\n",
    "\n",
    "test = q5(s)"
   ]
  },
  {
   "cell_type": "code",
   "execution_count": 3,
   "metadata": {},
   "outputs": [
    {
     "data": {
      "text/plain": [
       "'sb'"
      ]
     },
     "execution_count": 3,
     "metadata": {},
     "output_type": "execute_result"
    }
   ],
   "source": [
    "class pyt:\n",
    "    species = 'sb'\n",
    "    \n",
    "    def judge_species(obj):\n",
    "        return obj.species\n",
    "    \n",
    "Aaron = pyt()\n",
    "Aaron.judge_species()"
   ]
  },
  {
   "cell_type": "code",
   "execution_count": 5,
   "metadata": {},
   "outputs": [
    {
     "data": {
      "text/plain": [
       "'Aaron who is a really dork!!!'"
      ]
     },
     "execution_count": 5,
     "metadata": {},
     "output_type": "execute_result"
    }
   ],
   "source": [
    "class sb():\n",
    "    def __init__(self,name,silly_donkey):\n",
    "        self.name = name\n",
    "        self.silly_donkey = silly_donkey\n",
    "    \n",
    "    def sb_judge(self):\n",
    "        return f\"{self.name} who is a really {self.silly_donkey}!!!\"\n",
    "    \n",
    "Aaron = sb(\"Aaron\",\"dork\")\n",
    "Aaron.sb_judge()"
   ]
  },
  {
   "cell_type": "code",
   "execution_count": 1,
   "metadata": {},
   "outputs": [],
   "source": [
    "matches = [\n",
    "    [{\"Furious Furies\" : 6,\"Coldly Chills\" : 2},\n",
    "     {\"Franks Benjamins\" : 1,\"Terrible Tweens\" : 0}],\n",
    "    [{\"Furious Furies\" : 4,\"Franks Benjamins\" : 1},\n",
    "     { \"Coldly Chills\" : 0,\"Terrible Tweens\" : 0}]\n",
    "    ]"
   ]
  },
  {
   "cell_type": "code",
   "execution_count": 2,
   "metadata": {},
   "outputs": [],
   "source": [
    "class Fish():\n",
    "    def swim(self):\n",
    "        print(\"The fish is swimming.\")\n",
    "\n",
    "    def swim_backwards(self):\n",
    "        print(\"The fish might swim backwards.\")\n",
    "\n",
    "    def skeleton(self):\n",
    "        print(\"The fish has a skeleton.\")\n",
    "        \n",
    "class Shark(Fish):\n",
    "    def swim(self):\n",
    "        print(\"The shark is swimming.\")\n",
    "\n",
    "    def swim_backwards(self):\n",
    "        print(\"The shark cannot swim backwards, but can sink backwards.\")\n",
    "\n",
    "    def skeleton(self):\n",
    "        print(\"The shark's skeleton is made of cartilage.\")\n",
    "\n",
    "\n",
    "class Clownfish(Fish):\n",
    "    def swim(self):\n",
    "        print(\"The clownfish is swimming.\")\n",
    "\n",
    "    def swim_backwards(self):\n",
    "        print(\"The clownfish can swim backwards.\")\n",
    "\n",
    "    def skeleton(self):\n",
    "        print(\"The clownfish's skeleton is made of bone.\")"
   ]
  },
  {
   "cell_type": "code",
   "execution_count": 3,
   "metadata": {},
   "outputs": [
    {
     "name": "stdout",
     "output_type": "stream",
     "text": [
      "The shark is swimming.\n",
      "The clownfish is swimming.\n"
     ]
    }
   ],
   "source": [
    "def swimming(fish):\n",
    "    fish.swim()\n",
    "  \n",
    "sharkey=Shark()\n",
    "\n",
    "nemo=Clownfish()\n",
    "swimming(sharkey)\n",
    "swimming(nemo)"
   ]
  },
  {
   "cell_type": "code",
   "execution_count": 6,
   "metadata": {},
   "outputs": [
    {
     "name": "stdout",
     "output_type": "stream",
     "text": [
      "purple   purple\n",
      "purple   green\n",
      "purple   yellow\n",
      "purple   blue\n",
      "green   purple\n",
      "green   green\n",
      "green   yellow\n",
      "green   blue\n",
      "yellow   purple\n",
      "yellow   green\n",
      "yellow   yellow\n",
      "yellow   blue\n",
      "blue   purple\n",
      "blue   green\n",
      "blue   yellow\n",
      "blue   blue\n"
     ]
    }
   ],
   "source": [
    "def quadratic_time_complexity(colours):\n",
    "    for item in colours:\n",
    "        for item2 in colours:\n",
    "            print(item, ' ' ,item2)\n",
    "\n",
    "quadratic_time_complexity(['purple', 'green', 'yellow', 'blue'])"
   ]
  },
  {
   "cell_type": "code",
   "execution_count": 9,
   "metadata": {},
   "outputs": [],
   "source": [
    "class Node:\n",
    "    \n",
    "    def __init__(self, data):\n",
    "        self.data = data #assign data\n",
    "        self.next = None #initialise next as null\n",
    "\n",
    "#Linked List class contains a Node object\n",
    "class LinkedList:\n",
    "    \n",
    "    #initialise head\n",
    "    def __init__(self):\n",
    "        self.head = None \n",
    "\n",
    "#Start with the empty list\n",
    "llist = LinkedList()\n",
    " \n",
    "llist.head = Node(1)\n",
    "second = Node(2)\n",
    "third = Node(3)\n",
    "\n",
    "\n",
    " \n",
    "llist.head.next = second #link first node with second\n",
    "\n",
    "\n",
    "second.next = third #link second node with the third node"
   ]
  },
  {
   "cell_type": "code",
   "execution_count": 1,
   "metadata": {},
   "outputs": [
    {
     "name": "stdout",
     "output_type": "stream",
     "text": [
      "Smith\n",
      "1.2\n",
      "1\n",
      "John\n"
     ]
    }
   ],
   "source": [
    "class Node:\n",
    "    def __init__(self, data):\n",
    "        self.data = data\n",
    "        self.next = None\n",
    "        \n",
    "class LinkedList:\n",
    "    def __init__(self):\n",
    "        self.head = None\n",
    "        \n",
    "    def prepend(self, data):\n",
    "\n",
    "        new_node = Node(data)\n",
    "\n",
    "        if self.head == None:\n",
    "            self.head = new_node\n",
    "        else:\n",
    "            new_node.next = self.head\n",
    "            self.head = new_node\n",
    "    \n",
    "    def append(self, data):\n",
    "        new_node = Node(data)\n",
    "\n",
    "        if self.head == None:\n",
    "            self.head = new_node\n",
    "        else:\n",
    "            curr = self.head\n",
    "            while curr.next != None:\n",
    "                curr = curr.next\n",
    "            curr.next = new_node\n",
    "            \n",
    "    def insert(self, data, position):\n",
    "        new_node = Node(data)\n",
    "\n",
    "        cur_node = self.head\n",
    "        prev = None\n",
    "        count = 0\n",
    "        while cur_node != None and count < position:\n",
    "            prev = cur_node\n",
    "            cur_node = cur_node.next\n",
    "            count += 1\n",
    "        if cur_node != self.head:\n",
    "            prev.next = new_node\n",
    "            new_node.next = cur_node\n",
    "        else:\n",
    "            new_node.next = cur_node\n",
    "            self.head = new_node\n",
    "    \n",
    "    def traverse(self):\n",
    "        cur_node = self.head\n",
    "        while cur_node != None:\n",
    "            print(cur_node.data)\n",
    "            cur_node = cur_node.next\n",
    "            \n",
    "#start with the empty linked list\n",
    "llist = LinkedList()\n",
    " \n",
    "llist.head = Node(1)\n",
    "llist.append('John')\n",
    "llist.prepend('Smith')\n",
    "llist.insert(1.2, 1)\n",
    "llist.traverse()"
   ]
  },
  {
   "cell_type": "code",
   "execution_count": 2,
   "metadata": {},
   "outputs": [
    {
     "name": "stdout",
     "output_type": "stream",
     "text": [
      "[1, 12, 6, 20, 'John', 19, True, 'purple', False]\n",
      "True\n",
      "True\n",
      "False\n",
      "True\n"
     ]
    }
   ],
   "source": [
    "class Node:\n",
    "    def __init__(self, data) -> None:\n",
    "        self.data = data\n",
    "        self.next = None\n",
    "\n",
    "class LinkedList:\n",
    "    def __init__(self) -> None:\n",
    "        self.head = Node(None)\n",
    "\n",
    "    def append_item(self, data):\n",
    "        new_node = Node(data)\n",
    "        if self.head.next is None:\n",
    "            self.head.next = new_node\n",
    "        else:\n",
    "            curr = self.head.next\n",
    "            while curr.next is not None:\n",
    "                curr = curr.next\n",
    "            curr.next = new_node\n",
    "\n",
    "    def traverse(self):\n",
    "        elements = []\n",
    "        curr = self.head.next  # Skip the head as it is a dummy node\n",
    "        while curr is not None:\n",
    "            elements.append(curr.data)\n",
    "            curr = curr.next\n",
    "        return elements\n",
    "\n",
    "class Q3LinkedList(LinkedList):\n",
    "    def __init__(self) -> None:\n",
    "        super().__init__()\n",
    "\n",
    "    def q3_search(self, item):\n",
    "        curr = self.head.next  # Skip the dummy head node\n",
    "        while curr is not None:\n",
    "            if curr.data == item:\n",
    "                return True\n",
    "            curr = curr.next\n",
    "        return False\n",
    "\n",
    "# 创建Q3LinkedList对象\n",
    "q3 = Q3LinkedList()\n",
    "q3.append_item(1)\n",
    "q3.append_item(12)\n",
    "q3.append_item(6)\n",
    "q3.append_item(20)\n",
    "q3.append_item('John') \n",
    "q3.append_item(19)\n",
    "q3.append_item(True)\n",
    "q3.append_item('purple')\n",
    "q3.append_item(False)\n",
    "\n",
    "# 遍历链表\n",
    "print(q3.traverse())  # 预期输出: [1, 12, 6, 20, 'John', 19, True, 'purple', False]\n",
    "\n",
    "# 搜索元素\n",
    "print(q3.q3_search(12))  # 预期输出: True\n",
    "print(q3.q3_search('John'))  # 预期输出: True\n",
    "print(q3.q3_search('NotExist'))  # 预期输出: False\n",
    "print(q3.q3_search(False))  # 预期输出: True\n"
   ]
  },
  {
   "cell_type": "code",
   "execution_count": 44,
   "metadata": {},
   "outputs": [],
   "source": [
    "class Node():\n",
    "    \n",
    "    def __init__(self,data) -> None:\n",
    "        self.data = data\n",
    "        self.next = None\n",
    "        self.prev = None\n",
    "\n",
    "class Doublelinkedlist:\n",
    "    \n",
    "    def __init__(self) -> None:\n",
    "        self.head = None\n",
    "        self.tail = None\n",
    "        \n",
    "    def append(self, data) -> None:\n",
    "        new_node = Node(data)\n",
    "        if self.head == None:\n",
    "            self.head = self.tail = Node(data)\n",
    "        else:\n",
    "            self.tail.next = new_node\n",
    "            new_node.prev =self.tail\n",
    "            self.tail = new_node\n",
    "            \n",
    "    def appends(self, value) -> None:\n",
    "        for data in value:\n",
    "            self.append(data)\n",
    "            \n",
    "    def trav(self ,forward:bool=True) -> list:\n",
    "        output = []\n",
    "        if forward == True:\n",
    "            curr = self.head\n",
    "            while curr is not None:\n",
    "                output.append(curr.data)\n",
    "                curr = curr.next\n",
    "        else:\n",
    "            curr = self.tail\n",
    "            while curr is not None:\n",
    "                output.append(curr.data)\n",
    "                curr = curr.prev\n",
    "                \n",
    "        return output\n",
    "        \n",
    "    def insert(self, index:int, value) -> None:\n",
    "        new_node = Node(value)\n",
    "        \n",
    "        if self.head == None:\n",
    "            self.head = self.tail = new_node\n",
    "            return\n",
    "            \n",
    "        if index <= 0:\n",
    "            self.head.prev = new_node\n",
    "            new_node.next = self.head\n",
    "            self.head = new_node\n",
    "            return\n",
    "        \n",
    "        curr = self.head\n",
    "        curr_id = 0\n",
    "        while curr is not None and curr_id < index:\n",
    "            curr = curr.next\n",
    "            curr_id += 1\n",
    "\n",
    "        if curr is None:\n",
    "            self.tail.next = new_node\n",
    "            new_node.prev = self.tail\n",
    "            self.tail = new_node\n",
    "            \n",
    "        else:\n",
    "            prev = curr.prev\n",
    "            prev.next = new_node\n",
    "            new_node.prev = prev\n",
    "            new_node.next = curr\n",
    "            curr.prev = new_node"
   ]
  },
  {
   "cell_type": "code",
   "execution_count": 45,
   "metadata": {},
   "outputs": [
    {
     "name": "stdout",
     "output_type": "stream",
     "text": [
      "[1, 2, 3, 4]\n"
     ]
    },
    {
     "data": {
      "text/plain": [
       "[1, 2, 2.5, 3, 4]"
      ]
     },
     "execution_count": 45,
     "metadata": {},
     "output_type": "execute_result"
    }
   ],
   "source": [
    "dl1 = Doublelinkedlist()\n",
    "dl1.append(1)\n",
    "dl1.appends((2,3,4))\n",
    "print(dl1.trav())\n",
    "dl1.insert(2,2.5)\n",
    "dl1.trav()"
   ]
  },
  {
   "cell_type": "code",
   "execution_count": 51,
   "metadata": {},
   "outputs": [],
   "source": [
    "class HachimiyaMeguru:\n",
    "    \n",
    "    def __init__(self) -> None:\n",
    "        self.__eroi = 'ero!'\n",
    "        self.__r18 = 'H!'\n",
    "        \n",
    "    def __eq__(self, value: object) -> bool:\n",
    "        return self.__eroi == 'ero!'\n",
    "    \n",
    "    def __repr__(self) -> str:\n",
    "        return f'{self.__class__.__name__} is very Eroi!'\n",
    "     \n",
    "    @property\n",
    "    def h(self):\n",
    "        return self.__r18\n",
    "    \n",
    "    @h.setter\n",
    "    def h(self, value):\n",
    "        self.__r18 = value\n",
    "        \n",
    "    def isr18(self):\n",
    "        if self.__r18:\n",
    "            return f'{self.__class__.__name__} is really {self.__r18}!'"
   ]
  },
  {
   "cell_type": "code",
   "execution_count": 50,
   "metadata": {},
   "outputs": [
    {
     "name": "stdout",
     "output_type": "stream",
     "text": [
      "HachimiyaMeguru is very Eroi!\n"
     ]
    },
    {
     "data": {
      "text/plain": [
       "'HachimiyaMeguru is really H!!'"
      ]
     },
     "execution_count": 50,
     "metadata": {},
     "output_type": "execute_result"
    }
   ],
   "source": [
    "hachimiya = HachimiyaMeguru()\n",
    "print(hachimiya)\n",
    "hachimiya.isr18()"
   ]
  },
  {
   "cell_type": "code",
   "execution_count": 187,
   "metadata": {},
   "outputs": [],
   "source": [
    "class Node:\n",
    "    \n",
    "    def __init__(self, value) -> None:\n",
    "        self.data = value\n",
    "        self.prev = None\n",
    "        self.next = None\n",
    "        \n",
    "class DoubleLinkedList:\n",
    "    \n",
    "    def __init__(self) -> None:\n",
    "        self.head = None\n",
    "        self.tail = None\n",
    "\n",
    "    def traverse(self, forward: bool=True) -> list:\n",
    "        trav_list = []\n",
    "        if forward:\n",
    "            curr = self.head\n",
    "            while curr is not None:\n",
    "                trav_list.append(curr.data)\n",
    "                curr = curr.next\n",
    "        else:\n",
    "            curr = self.tail\n",
    "            while curr is not None:\n",
    "                trav_list.append(curr.data)\n",
    "                curr = curr.prev\n",
    "        return trav_list\n",
    "    \n",
    "    def insert(self, value, position: int=0) -> None:\n",
    "        new_node = Node(value)\n",
    "        \n",
    "        if self.head is None:\n",
    "            self.head = self.tail = new_node\n",
    "            return\n",
    "        \n",
    "        if not position:\n",
    "            self.tail.next = new_node\n",
    "            new_node.prev = self.tail\n",
    "            self.tail = new_node\n",
    "            return\n",
    "        \n",
    "        if position <= 0:\n",
    "            self.head.prev = new_node\n",
    "            new_node.next = self.head\n",
    "            self.head = new_node\n",
    "            return\n",
    "            \n",
    "        curr = self.head\n",
    "        curr_index = 0\n",
    "        while curr.next is not None and curr_index < position:\n",
    "            curr = curr.next\n",
    "            curr_index += 1\n",
    "        if curr.next:\n",
    "            prev = curr.prev\n",
    "            prev.next = new_node\n",
    "            new_node.prev = prev\n",
    "            new_node.next = curr\n",
    "            curr.prev = new_node\n",
    "        else:\n",
    "            self.tail.next = new_node\n",
    "            new_node.prev = self.tail\n",
    "            self.tail = new_node \n",
    "        \n",
    "            \n",
    "    def append(self, values) -> None:\n",
    "        for value in values:\n",
    "            self.insert(value)\n",
    "            \n",
    "    def delete(self, position: int=-1):\n",
    "        if self.head is None:\n",
    "            raise ValueError('The linked list is already empty.')\n",
    "        \n",
    "        if position <= -1:\n",
    "            if self.head == self.tail:\n",
    "                self.head = self.tail = None\n",
    "            else:\n",
    "                self.head = self.head.next\n",
    "                self.head.prev = None\n",
    "            return\n",
    "        \n",
    "        curr = self.head\n",
    "        curr_index = 0\n",
    "        while curr.next and curr_index < position:\n",
    "            curr = curr.next\n",
    "            curr_index += 1\n",
    "        if curr.next:\n",
    "            prev = curr.prev\n",
    "            next_node = curr.next\n",
    "            prev.next = next_node\n",
    "            next_node.prev = prev\n",
    "        else:\n",
    "            prev = curr.prev\n",
    "            prev.next = None\n",
    "            self.tail = prev\n",
    "                    \n",
    "    def sort(self):\n",
    "            if self.head is None:\n",
    "                return\n",
    "            \n",
    "            sorted_list = []\n",
    "            curr = self.head\n",
    "            while curr:\n",
    "                sorted_list.append(curr.data)\n",
    "                curr = curr.next\n",
    "            \n",
    "            sorted_list.sort()\n",
    "            \n",
    "            curr = self.head\n",
    "            for value in sorted_list:\n",
    "                curr.data = value\n",
    "                curr = curr.next"
   ]
  },
  {
   "cell_type": "code",
   "execution_count": 189,
   "metadata": {},
   "outputs": [
    {
     "data": {
      "text/plain": [
       "[0.043478260869565216, 0.89, 15, 19, 248, 273, 335]"
      ]
     },
     "execution_count": 189,
     "metadata": {},
     "output_type": "execute_result"
    }
   ],
   "source": [
    "# Example usage\n",
    "dl2 = DoubleLinkedList()\n",
    "dl2.append([12, 273, 19, 335, 248, 0.89])\n",
    "dl2.insert(15,2333)\n",
    "dl2.insert(1/23,2)\n",
    "dl2.delete()\n",
    "dl2.sort()\n",
    "dl2.traverse()"
   ]
  },
  {
   "cell_type": "code",
   "execution_count": 1,
   "metadata": {},
   "outputs": [
    {
     "data": {
      "text/plain": [
       "datetime.date(2025, 3, 22)"
      ]
     },
     "execution_count": 1,
     "metadata": {},
     "output_type": "execute_result"
    }
   ],
   "source": [
    "import datetime\n",
    "t0 = datetime.date.today()\n",
    "t1 = datetime.timedelta(days=241)\n",
    "t0 + t1 "
   ]
  },
  {
   "cell_type": "code",
   "execution_count": 3,
   "metadata": {},
   "outputs": [
    {
     "ename": "TypeError",
     "evalue": "object.__init__() takes exactly one argument (the instance to initialize)",
     "output_type": "error",
     "traceback": [
      "\u001b[1;31m---------------------------------------------------------------------------\u001b[0m",
      "\u001b[1;31mTypeError\u001b[0m                                 Traceback (most recent call last)",
      "Cell \u001b[1;32mIn[3], line 27\u001b[0m\n\u001b[0;32m     23\u001b[0m     \u001b[38;5;129m@gender\u001b[39m\u001b[38;5;241m.\u001b[39msetter\n\u001b[0;32m     24\u001b[0m     \u001b[38;5;28;01mdef\u001b[39;00m \u001b[38;5;21mgender\u001b[39m(\u001b[38;5;28mself\u001b[39m, value):\n\u001b[0;32m     25\u001b[0m         \u001b[38;5;28mself\u001b[39m\u001b[38;5;241m.\u001b[39m_gender \u001b[38;5;241m=\u001b[39m value\n\u001b[1;32m---> 27\u001b[0m harry \u001b[38;5;241m=\u001b[39m \u001b[43mWizard\u001b[49m\u001b[43m(\u001b[49m\u001b[43mcollege\u001b[49m\u001b[38;5;241;43m=\u001b[39;49m\u001b[38;5;124;43m'\u001b[39;49m\u001b[38;5;124;43mGrryffendore\u001b[39;49m\u001b[38;5;124;43m'\u001b[39;49m\u001b[43m)\u001b[49m\n",
      "Cell \u001b[1;32mIn[3], line 17\u001b[0m, in \u001b[0;36mWizard.__init__\u001b[1;34m(self, **kwargs)\u001b[0m\n\u001b[0;32m     15\u001b[0m \u001b[38;5;28;01mdef\u001b[39;00m \u001b[38;5;21m__init__\u001b[39m(\u001b[38;5;28mself\u001b[39m,\u001b[38;5;241m*\u001b[39m\u001b[38;5;241m*\u001b[39mkwargs) \u001b[38;5;241m-\u001b[39m\u001b[38;5;241m>\u001b[39m \u001b[38;5;28;01mNone\u001b[39;00m:\n\u001b[0;32m     16\u001b[0m     kwargs[\u001b[38;5;124m'\u001b[39m\u001b[38;5;124mgender\u001b[39m\u001b[38;5;124m'\u001b[39m] \u001b[38;5;241m=\u001b[39m \u001b[38;5;124m'\u001b[39m\u001b[38;5;124mmale\u001b[39m\u001b[38;5;124m'\u001b[39m\n\u001b[1;32m---> 17\u001b[0m     \u001b[38;5;28msuper\u001b[39m()\u001b[38;5;241m.\u001b[39m\u001b[38;5;21m__init__\u001b[39m(\u001b[38;5;241m*\u001b[39m\u001b[38;5;241m*\u001b[39mkwargs)\n",
      "Cell \u001b[1;32mIn[3], line 5\u001b[0m, in \u001b[0;36mPerson.__init__\u001b[1;34m(self, name, house, gender, **kwargs)\u001b[0m\n\u001b[0;32m      3\u001b[0m \u001b[38;5;28;01mdef\u001b[39;00m \u001b[38;5;21m__init__\u001b[39m(\u001b[38;5;28mself\u001b[39m, name \u001b[38;5;241m=\u001b[39m \u001b[38;5;124m'\u001b[39m\u001b[38;5;124m'\u001b[39m, house \u001b[38;5;241m=\u001b[39m \u001b[38;5;28;01mNone\u001b[39;00m, gender \u001b[38;5;241m=\u001b[39m \u001b[38;5;28;01mNone\u001b[39;00m, \u001b[38;5;241m*\u001b[39m\u001b[38;5;241m*\u001b[39mkwargs) \u001b[38;5;241m-\u001b[39m\u001b[38;5;241m>\u001b[39m \u001b[38;5;28;01mNone\u001b[39;00m:\n\u001b[0;32m      4\u001b[0m     \u001b[38;5;28mself\u001b[39m\u001b[38;5;241m.\u001b[39mname, \u001b[38;5;28mself\u001b[39m\u001b[38;5;241m.\u001b[39mhouse, \u001b[38;5;28mself\u001b[39m\u001b[38;5;241m.\u001b[39mgender \u001b[38;5;241m=\u001b[39m name, house, gender\n\u001b[1;32m----> 5\u001b[0m     \u001b[38;5;28msuper\u001b[39m()\u001b[38;5;241m.\u001b[39m\u001b[38;5;21m__init__\u001b[39m(\u001b[38;5;241m*\u001b[39m\u001b[38;5;241m*\u001b[39mkwargs)\n",
      "Cell \u001b[1;32mIn[3], line 11\u001b[0m, in \u001b[0;36mWizardingPower.__init__\u001b[1;34m(self, magical_strength, **kwargs)\u001b[0m\n\u001b[0;32m      9\u001b[0m \u001b[38;5;28;01mdef\u001b[39;00m \u001b[38;5;21m__init__\u001b[39m(\u001b[38;5;28mself\u001b[39m, magical_strength \u001b[38;5;241m=\u001b[39m \u001b[38;5;241m0\u001b[39m, \u001b[38;5;241m*\u001b[39m\u001b[38;5;241m*\u001b[39mkwargs) \u001b[38;5;241m-\u001b[39m\u001b[38;5;241m>\u001b[39m \u001b[38;5;28;01mNone\u001b[39;00m:\n\u001b[0;32m     10\u001b[0m     \u001b[38;5;28mself\u001b[39m\u001b[38;5;241m.\u001b[39mmagical_strength \u001b[38;5;241m=\u001b[39m magical_strength\n\u001b[1;32m---> 11\u001b[0m     \u001b[38;5;28msuper\u001b[39m()\u001b[38;5;241m.\u001b[39m\u001b[38;5;21m__init__\u001b[39m(\u001b[38;5;241m*\u001b[39m\u001b[38;5;241m*\u001b[39mkwargs)\n",
      "\u001b[1;31mTypeError\u001b[0m: object.__init__() takes exactly one argument (the instance to initialize)"
     ]
    }
   ],
   "source": [
    "class Person:\n",
    "    \n",
    "    def __init__(self, name = '', house = None, gender = None, **kwargs) -> None:\n",
    "        self.name, self.house, self.gender = name, house, gender\n",
    "        super().__init__(**kwargs)\n",
    "        \n",
    "class WizardingPower:\n",
    "    \n",
    "    def __init__(self, magical_strength = 0, **kwargs) -> None:\n",
    "        self.magical_strength = magical_strength\n",
    "        super().__init__(**kwargs)\n",
    "        \n",
    "class Wizard(Person, WizardingPower):\n",
    "    \n",
    "    def __init__(self,**kwargs) -> None:\n",
    "        kwargs['gender'] = 'male'\n",
    "        super().__init__(**kwargs)\n",
    "        \n",
    "    @property\n",
    "    def gender(self):\n",
    "        return self.__gender\n",
    "    \n",
    "    @gender.setter\n",
    "    def gender(self, value):\n",
    "        self._gender = value\n",
    "    \n",
    "harry = Wizard(college='Grryffendore')"
   ]
  },
  {
   "cell_type": "code",
   "execution_count": 1,
   "metadata": {},
   "outputs": [],
   "source": [
    "class Item:\n",
    "\n",
    "    def __init__(self, name: str, price: int) -> None:\n",
    "        self.name = name\n",
    "        self.price = price\n",
    "\n",
    "class JuiceBox(Item):\n",
    "\n",
    "    def __init__(self, name: str, price: int, volume: int) -> None:\n",
    "        super().__init__(name, price)\n",
    "        self.__volume = volume\n",
    "\n",
    "class Chocolate(Item):\n",
    "    def __init__(self, name: str, price: int, weight: int) -> None:\n",
    "        super().__init__(name, price)\n",
    "        self.__weight = weight"
   ]
  },
  {
   "cell_type": "code",
   "execution_count": 8,
   "metadata": {},
   "outputs": [],
   "source": [
    "class VendingMachine:\n",
    "\n",
    "    def __init__(self, id, inventory: list=[], num_items: int=0) -> None:\n",
    "        self.__inventory = []\n",
    "        self.__id = id\n",
    "        self.__num_items = num_items\n",
    "\n",
    "    def add(self, value: Item) -> None:\n",
    "        self.__inventory.append(value)\n",
    "\n",
    "    def dispense(self, value: str) -> None:\n",
    "        for item in self.__inventory:\n",
    "            if item.name == value:\n",
    "                self.__inventory.remove(item)\n",
    "\n",
    "    def __str__(self) -> str:\n",
    "        inventory_names = []\n",
    "        for item in self.__inventory:\n",
    "            inventory_names.append(item.name)\n",
    "        self.__num_items = len(self.__inventory)\n",
    "        return f'Id: {self.__id}, contents: {inventory_names}, number of items: {self.__num_items}'\n",
    "    "
   ]
  },
  {
   "cell_type": "code",
   "execution_count": 1,
   "metadata": {},
   "outputs": [
    {
     "ename": "NameError",
     "evalue": "name 'VendingMachine' is not defined",
     "output_type": "error",
     "traceback": [
      "\u001b[1;31m---------------------------------------------------------------------------\u001b[0m",
      "\u001b[1;31mNameError\u001b[0m                                 Traceback (most recent call last)",
      "Cell \u001b[1;32mIn[1], line 1\u001b[0m\n\u001b[1;32m----> 1\u001b[0m v1 \u001b[38;5;241m=\u001b[39m \u001b[43mVendingMachine\u001b[49m(\u001b[38;5;124m\"\u001b[39m\u001b[38;5;124mv1\u001b[39m\u001b[38;5;124m\"\u001b[39m)\n\u001b[0;32m      2\u001b[0m v2 \u001b[38;5;241m=\u001b[39m VendingMachine(\u001b[38;5;124m\"\u001b[39m\u001b[38;5;124mv2\u001b[39m\u001b[38;5;124m\"\u001b[39m)\n\u001b[0;32m      4\u001b[0m c1 \u001b[38;5;241m=\u001b[39m Chocolate(\u001b[38;5;124m\"\u001b[39m\u001b[38;5;124mc1\u001b[39m\u001b[38;5;124m\"\u001b[39m, \u001b[38;5;241m5\u001b[39m, \u001b[38;5;241m1\u001b[39m)\n",
      "\u001b[1;31mNameError\u001b[0m: name 'VendingMachine' is not defined"
     ]
    }
   ],
   "source": [
    "v1 = VendingMachine(\"v1\")\n",
    "v2 = VendingMachine(\"v2\")\n",
    "\n",
    "c1 = Chocolate(\"c1\", 5, 1)\n",
    "j1 = JuiceBox(\"j1\", 10, 80)\n",
    "j2 = JuiceBox(\"j2\", 30, 120)\n",
    "\n",
    "v1.add(c1)\n",
    "v1.add(j1)\n",
    "v1.dispense(\"j1\")\n",
    "v1.add(j2)\n",
    "\n",
    "v2.add(j1)\n",
    "\n",
    "print(v1) # Id: v1, contents: ['c1', 'j2'], number of items: 2\n",
    "print(v2) # Id: v2, contents: ['j1'], number of items: 1"
   ]
  },
  {
   "cell_type": "code",
   "execution_count": 37,
   "metadata": {},
   "outputs": [
    {
     "data": {
      "text/plain": [
       "['(((x', '+', '(y))', '+', '(m', '+', 'n)))']"
      ]
     },
     "execution_count": 37,
     "metadata": {},
     "output_type": "execute_result"
    }
   ],
   "source": [
    "def split(dstring: str) -> list:\n",
    "    result = []\n",
    "    i = 0\n",
    "    while i < len(dstring):\n",
    "        if dstring[i] == '+':\n",
    "            result.append(dstring[:i])\n",
    "            result.append(dstring[i])\n",
    "            dstring = dstring[i+1:]\n",
    "            i = 0\n",
    "        else:\n",
    "            i += 1\n",
    "    if dstring:\n",
    "        result.append(dstring)\n",
    "  \n",
    "    return result\n",
    "    \n",
    "split(\"(((x+(y))+(m+n)))\")"
   ]
  },
  {
   "cell_type": "code",
   "execution_count": 1,
   "metadata": {},
   "outputs": [
    {
     "data": {
      "text/plain": [
       "False"
      ]
     },
     "execution_count": 1,
     "metadata": {},
     "output_type": "execute_result"
    }
   ],
   "source": [
    "def q6_duplicate_parentheses(s: str) -> bool:\n",
    "    stack =[]\n",
    "    for char in s:\n",
    "        if char == ')':\n",
    "            \n",
    "            if stack[-1] == '(':\n",
    "                return True\n",
    "            \n",
    "            while stack[-1] != '(':\n",
    "                stack.pop()\n",
    "            \n",
    "            stack.pop()\n",
    "        \n",
    "        else:\n",
    "            stack.append(char)\n",
    "            \n",
    "    return False\n",
    "q6_duplicate_parentheses (\"((x+y)+(m+n))\")"
   ]
  },
  {
   "cell_type": "code",
   "execution_count": 1,
   "metadata": {},
   "outputs": [],
   "source": [
    "class Person:\n",
    "\n",
    "    def __init__(self, name: str, salary: int) -> None:\n",
    "        self.__name = name\n",
    "        self.__salary = salary\n",
    "\n",
    "    def __str__(self) -> str:\n",
    "        return f'Name: {self.__name}, Salary: {self.__salary}'\n",
    "\n",
    "    def __eq__(self, other: object) -> bool:\n",
    "        if isinstance(other, self.__class__):\n",
    "            return self.__salary == other.__salary\n",
    "        raise ValueError('Not a Person class object.')\n",
    "\n",
    "    def __gt__(self, other: object) -> bool:\n",
    "        if isinstance(other, self.__class__):\n",
    "            return self.__salary > other.__salary\n",
    "        raise ValueError('Not a Person class object.')\n",
    "\n",
    "    def __lt__(self, other: object) -> bool:\n",
    "        if isinstance(other, self.__class__):\n",
    "            return self.__salary < other.__salary\n",
    "        raise ValueError('Not a Person class object.')"
   ]
  },
  {
   "cell_type": "code",
   "execution_count": 26,
   "metadata": {},
   "outputs": [
    {
     "name": "stdout",
     "output_type": "stream",
     "text": [
      "Name: Alice, Salary: 3000\n"
     ]
    }
   ],
   "source": [
    "# Test sorting\n",
    "Alice = Person(\"Alice\", 3000)\n",
    "Bob = Person(\"Bob\", 2000)\n",
    "assert Alice > Bob\n",
    "print(Alice)"
   ]
  },
  {
   "cell_type": "code",
   "execution_count": 25,
   "metadata": {},
   "outputs": [
    {
     "data": {
      "text/plain": [
       "['a', 'a', 'a', 'b']"
      ]
     },
     "execution_count": 25,
     "metadata": {},
     "output_type": "execute_result"
    }
   ],
   "source": [
    "\n",
    "import heapq\n",
    "q1_lst = ['yes', 'john', 'yes', 'danise', 'john', 'yes', 'john', 'yes', 'david', 'men', 'men']\n",
    "q2_list = ['a', 'a', 'b', 'a']\n",
    "heapq.heapify(q2_list)\n",
    "q2_list.sort()\n",
    "q2_list"
   ]
  }
 ],
 "metadata": {
  "kernelspec": {
   "display_name": "Python 3",
   "language": "python",
   "name": "python3"
  },
  "language_info": {
   "codemirror_mode": {
    "name": "ipython",
    "version": 3
   },
   "file_extension": ".py",
   "mimetype": "text/x-python",
   "name": "python",
   "nbconvert_exporter": "python",
   "pygments_lexer": "ipython3",
   "version": "3.10.11"
  }
 },
 "nbformat": 4,
 "nbformat_minor": 2
}
